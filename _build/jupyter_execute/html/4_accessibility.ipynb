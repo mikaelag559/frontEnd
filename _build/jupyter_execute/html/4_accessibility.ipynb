{
 "cells": [
  {
   "cell_type": "markdown",
   "id": "3bdd3a14",
   "metadata": {},
   "source": [
    "# [Resumen](https://www.freecodecamp.org/learn/full-stack-developer/review-html-accessibility/review-html-accessibility)"
   ]
  },
  {
   "cell_type": "markdown",
   "id": "101c4f2e",
   "metadata": {},
   "source": [
    "# 1. Importance of accessibility and good HTML structure"
   ]
  },
  {
   "cell_type": "markdown",
   "id": "a8726bfa",
   "metadata": {},
   "source": [
    "## 1.1. What is accessibility?"
   ]
  },
  {
   "cell_type": "markdown",
   "id": "2ee9785c",
   "metadata": {},
   "source": [
    "Accessibility involves creating products and services that everyone can use. In the context of web development, it's making websites that everyone can understand and interact with, including people with visual, auditory, motor, and cognitive disabilities.\n",
    "\n",
    "Some examples of disabilities that can impact users' online experience include:\n",
    "- Blindness.\n",
    "- Low vision.\n",
    "- Color blindness.\n",
    "- Deafness.\n",
    "- Difficulty using keyboards, mice, or touchscreens.\n",
    "- Attention disorders\n",
    "- Memory issues.\n",
    "- Difficulty speaking or understanding spoken language.\n",
    "- Sensitivity to flashing lights.\n",
    "- These are just a few of many conditions that can impact users around the world.\n",
    "\n",
    "To help you create accessible websites, the World Wide Web Consortium, known as W3C, developed a set of international standards that you can follow to make your websites more accessible and easier to use for people with disabilities.\n",
    "\n",
    "These standards are known as \"The Web Content Accessibility Guidelines\" (WCAG).\n",
    "\n",
    "These guidelines are designed with four core principles in mind, known as <b>POUR</b>.\n",
    "\n",
    "- <code>P</code> stands for Perceivable. Users must be able to perceive the information that you are presenting. For example, you can provide alternative text for images, so users who access your website with a screen reader can understand them.\n",
    "- <code>O</code> stands for Operable. Users must be able to interact with the user interface. For example, you can make sure that all functionality is accessible through the keyboard too, not just the mouse.\n",
    "- <code>U</code> stands for Understandable. Users must be able to understand the information. For example, you can avoid complex sentences and use simple language as much as possible.\n",
    "- <code>R</code> stands for Robust. A wide range of browsers and other tools, including assistive technologies, must be able to interpret the content.\n",
    "Using semantic HTML is very helpful for making your website compatible with different browsers and assistive technologies.\n",
    "\n",
    "If your content doesn't follow any one of these core principles, not everyone will be able to use your website.\n",
    "\n",
    "To check if you are following these guidelines correctly, you can access the Quick Reference of the World Wide Web Consortium. There, you will find a comprehensive list of criteria and techniques.\n",
    "\n",
    "Accessibility is essential for web development. By developing with inclusivity in mind, you can ensure that everyone can access and engage with your content, promote equality and create a better user experience for everyone around the world."
   ]
  },
  {
   "cell_type": "markdown",
   "id": "b1fd9d44",
   "metadata": {},
   "source": [
    "## 1.2. What are screen readers and who uses them?"
   ]
  },
  {
   "cell_type": "markdown",
   "id": "0a8483a9",
   "metadata": {},
   "source": [
    "Screen readers are assistive technology programs that help blind and visually impaired people use computers and mobile devices.\n",
    "\n",
    "Screen readers are not just tools for the blind and visually impaired to access computers and mobile devices.\n",
    "\n",
    "They empower these individuals to access education, work opportunities, and social media. This ensures digital inclusion and enhances their ability to participate fully in society.\n",
    "\n",
    "There's a common misconception that screen readers are text-to-speech devices.\n",
    "\n",
    "However, text-to-speech is just one of the features of a screen reader. Some screen readers even render the text to braille output instead of speech.\n",
    "\n",
    "Apart from text-to-speech and braille output, other notable features of screen readers are navigation aids and web browsing assistance.\n",
    "\n",
    "Screen reader programs are also not only made for the blind and visually impaired. Dyslexic individuals and people with cognitive disabilities also use screen readers. All the popular operating systems out there have screen readers built into them.\n",
    "\n",
    "macOS and iOS both have VoiceOver built-in. You can turn it on on your computer by pressing <code>CMD + F5</code>. You can access it on iPhones through Settings.\n",
    "\n",
    "Windows computers have Narrator built-in. You can turn it on by pressing <code>WIN + CTRL + ENTER</code>. NonVisual Desktop Access (NVDA) and Job Access With Speech (JAWS) are also available for Windows computers. NVDA is free and open-source, while JAWS is paid.\n",
    "\n",
    "Linux has Orca for the desktop environment and Speakup for the Linux terminal.\n",
    "\n",
    "Android phones have TalkBack built-in. You can turn it on by accessing <em>Settings > Special Function > Accessibility > Talkback</em>.\n",
    "\n",
    "Some Android devices also have Ella and Select to Speak built in.\n",
    "\n",
    "One major challenge for screen reader users is that many software developers don't design their products with screen-reader friendliness and accessibility in mind.\n",
    "\n",
    "Even though accessibility is a broad topic, every developer needs to learn how to make their web software accessible for the blind and visually impaired, as well as other groups of people with disabilities.\n",
    "\n",
    "This demonstrates empathy and a commitment to inclusivity, ensuring that all users can benefit from their work."
   ]
  },
  {
   "cell_type": "markdown",
   "id": "e596b86f",
   "metadata": {},
   "source": [
    "## 1.3. What are large text or braille keyboards and who uses them?"
   ]
  },
  {
   "cell_type": "markdown",
   "id": "90f50807",
   "metadata": {},
   "source": [
    "Large text and braille keyboards are designed for users with visual disabilities. In Large Text Keyboards, also called Large Print Keyboards, the letters, numbers, and symbols are larger compared to standard keyboards. This design is helpful for people who may find smaller text in the keys difficult to see. Most of them also have enhanced contrast and brightness.\n",
    "\n",
    "A large print keyboard made by the brand MaxiAids has yellow keys with black, big, and bold letters, numbers, and symbols on them. This is helpful for people with low vision.\n",
    "\n",
    "Another keybord is the black large print keyboard with white print on the keys. This keyboard is also backlit, so users can adjust its brightness to different lighting conditions.\n",
    "\n",
    "While large print keyboards provide visual cues for users with low vision, braille keyboards provide a completely tactile experience for people with more severe vision disabilities, including people who are blind.\n",
    "\n",
    "Braille is a tactile reading and writing system. It consists of raised dots arranged in specific patterns to represent letters, numbers, and punctuation.\n",
    "\n",
    "Braille keyboards use this system to help users find the right keys on the keyboard by feeling these patterns with their fingers. The keys have raised dots in patterns that represent letters, numbers and symbols.\n",
    "\n",
    "And some keyboards combine both approaches- large fonts and braille patterns in the keys. This is helpful for people with visual disabilities and for people who are learning braille.\n",
    "\n",
    "Large text and braille keyboards are tools that empower people with visual disabilities. By providing alternative input methods, these assistive technologies ensure that everyone can be part of the digital world."
   ]
  },
  {
   "cell_type": "markdown",
   "id": "d3cd0525",
   "metadata": {},
   "source": [
    "## 1.4. What are alternative pointing devices such as trackballs, joysticks, and touchpads used for?"
   ]
  },
  {
   "cell_type": "markdown",
   "id": "d0300707",
   "metadata": {},
   "source": [
    "Alternative pointing devices are input devices that make good alternatives to the traditional mouse. They are essential for improving computer accessibility for those with disabilities, forelimb impairments, and limited mobility.\n",
    "\n",
    "Common examples of alternative pointing devices are trackballs, joysticks, and touchpads.\n",
    "\n",
    "A trackball is a stationary pointing device that consists of a large, movable ball within a socket. It also includes additional buttons for clicking and performing other functions.\n",
    "\n",
    "Unlike the traditional mouse, which requires movement around a surface to control the cursor, a trackball remains in place. Users manipulate the ball directly with their fingers, thumb, or palm to move the cursor on the screen.\n",
    "\n",
    "Some traditional mice also have a trackball on the top or side. These mice could make a good starting point if you want to gradually switch to a trackball.\n",
    "\n",
    "Trackballs reduce the physical movement the user needs for navigation, making them ideal for users with mobility issues. Apart from that, if you need high precision and have limited desk space, a trackball is more ideal than a traditional mouse.\n",
    "\n",
    "A joystick is a pointing device primarily designed for games and certain industrial applications like machinery control. It consists of a lever that pivots up, down, left, and right, and often includes additional buttons for various actions\n",
    "\n",
    "Joysticks provide precise control over movement and actions within digital environments. This makes them popular for flight simulators, cranes, driving games, and other applications requiring precise directional input.\n",
    "\n",
    "Because joysticks accommodate larger and more deliberate movements, they are beneficial for individuals with tremors and unsteady hands.\n",
    "\n",
    "They also reduce the strain and pain that comes with repetitive movements, making them ideal for individuals with arthritis and carpal tunnel syndrome.\n",
    "\n",
    "A touchpad is a flat, touch-sensitive device built into laptops and some keyboards. It allows users to control the cursor on the screen by sliding their fingers across its surface.\n",
    "\n",
    "Apart from the surface for cursor control, touchpads also feature buttons that emulate the actions of a traditional mouse, such as right-click and left-click.\n",
    "\n",
    "Most people see touchpads as a better alternative to a mouse because they significantly enhance navigation by supporting multi-touch gestures like pinch-to-zoom, two-finger scrolling, tap-to-click, and three-finger swipes.\n",
    "\n",
    "Touchpad is ideal for individuals with low arm or hand movement because the forelimb is almost always stationary while using it. It is also suitable for people with arthritis and joint pain because they don't get to move their arms too much."
   ]
  },
  {
   "cell_type": "markdown",
   "id": "51e562e8",
   "metadata": {},
   "source": [
    "## 1.5. What are screen magnifiers used for?"
   ]
  },
  {
   "cell_type": "markdown",
   "id": "7608b8d7",
   "metadata": {},
   "source": [
    "Screen magnifiers are tools that help people with low vision and other visual impairments better access digital content and the web.\n",
    "\n",
    "Let's delve deeper into what these tools are and the role they play in digital content accessibility.\n",
    "\n",
    "Screen magnifiers work by enlarging texts, graphics, and other elements on a computer or mobile device screen. Many screen magnifiers allow users to enlarge the display by more than 200%. Users can then navigate the page using their pointing device or keyboard. Additionally, most magnifiers offer customizable zoom percentages and other features in their settings.\n",
    "\n",
    "Screen magnifiers primarily help people with low vision read text, as small fonts in documents or applications can be challenging for them. By enlarging the text, they can read emails, articles, and other content without straining their eyes. Screen magnifiers also assist with web browsing. They help users locate and click on buttons, links, and other interactive elements that might be difficult to see. This improved visibility ensures that users can browse websites, fill out forms, and engage in online activities without difficulty.\n",
    "\n",
    "Therefore, software developers need to make their digital products accessible to people with low vision. Some considerations include:\n",
    "\n",
    "- Using scalable fonts so the user can resize the page without the layout breaking.\n",
    "- Ensuring the user interface adapts to different screen sizes through responsive design.\n",
    "- Using high-contrast color schemes and customizable colors.\n",
    "- Implementing a non-sticky and tiny navbar so users can still see content when using magnifiers.\n",
    "- Using regular HTML text instead of images of text.\n",
    "- Providing feedback directly next to the element that triggers it, and more.\n",
    "\n",
    "All the mainstay Operating Systems have at least one magnifier built into them by their manufacturers:\n",
    "\n",
    "- macOS and iOS both have Zoom. You can turn it on on Mac by going to Settings, filter by Accessibility, and then click on \"Zoom\". Toggle the \"Use keyboard shortcuts to zoom\" option to enable it.\n",
    "    - You can turn it on on iPhone through <em>Settings > Accessibility > Zoom</em>.\n",
    "- Android devices have Magnification. To turn it on, go to <em>Settings > Special Function > Accessibility> Magnification</em>. Since this may vary from device to device, you can search for \"Magnification\" on the settings homepage to access it.\n",
    "- Windows has Magnifier. You can use it by going to <em>Settings > Ease of Access > Magnifier</em>.\n",
    "- The magnifiers for Linux operating systems vary. It is either Zoom or Magnifier.\n",
    "\n",
    "Apart from the ones built into operating systems, some useful third party screen magnifiers are:\n",
    "\n",
    "- ZoomText for Windows.\n",
    "- ClaroView for both Mac and Windows.\n",
    "- iZoom for Windows.\n",
    "- Zoomify - Screen Magnifier for Mac.\n",
    "- LunarPluse for Windows.\n",
    "- Loupe for Mac."
   ]
  },
  {
   "cell_type": "markdown",
   "id": "af2c177c",
   "metadata": {},
   "source": [
    "## 1.6. What is voice recognition software used for?"
   ]
  },
  {
   "cell_type": "markdown",
   "id": "f3d12332",
   "metadata": {},
   "source": [
    "Voice recognition software helps people with disabilities interact with computers and other digital devices. Let's discuss what voice recognition software is and the role it plays in digital inclusion.\n",
    "\n",
    "In the context of accessibility, voice recognition tools let people with disabilities use their voice to pass commands to perform various tasks instead of using traditional input devices like keyboards and mice. This includes writing emails and other documents, surfing the net, and controlling smart home devices.\n",
    "\n",
    "Because voice recognition software tools eliminate the need for physical interaction, they empower people with disabilities with significant independence and control over their environment.\n",
    "\n",
    "Here are the specific people who may find voice recognition software significantly helpful:\n",
    "\n",
    "- People with visual impairments, including those with low-vision or blindness.\n",
    "- Individuals with mobility impairments, such as limited use of hands and arms or conditions like arthritis and carpal tunnel syndrome.\n",
    "- Those recovering from hand or arm injuries.\n",
    "- Individuals with cognitive disorders, like memory issues or attention deficit disorders.\n",
    "- Elderly individuals who might find it easier to use voice commands.\n",
    "\n",
    "Note that people with disabilities are not the only ones who use voice recognition technology. Law enforcement agencies, gamers, drivers, and busy professionals also use voice recognition tools.\n",
    "\n",
    "A few examples of voice recognition software that allows people to interact with their computer include Voice Control for macOS/iOS, Voice Access for Android, and Windows Speech Recognition for Windows (referred to as Voice Access in the most recent versions of Windows). Dragon by Nuance is a popular third-party voice recognition software for Windows."
   ]
  },
  {
   "cell_type": "markdown",
   "id": "f179319d",
   "metadata": {},
   "source": [
    "## 1.7. What are some common accessibility auditing tools to use?"
   ]
  },
  {
   "cell_type": "markdown",
   "id": "a36bf21a",
   "metadata": {},
   "source": [
    "Accessibility is a crucial yet often overlooked aspect of digital content. When making your digital content accessible, it's important to ensure it meets accessibility standards.\n",
    "\n",
    "An accessibility auditing tool is an application that helps you improve the accessibility of your digital content by reporting accessibility issues that can be easily found through automated testing. This content includes websites, web applications, and mobile apps.\n",
    "\n",
    "It is important to note that while automated accessibility tools have a role in improving accessibility, they typically will only find about a third of all possible accessibility issues. Therefore, it is important not to rely on them entirely to evaluate the accessibility of your content. Manual testing, preferably by people with disabilities, will always be required to ensure that your content is as accessible as possible.\n",
    "\n",
    "Let's look at some free tools that can help you improve the accessibility of your digital content.\n",
    "\n",
    "Google Lighthouse is a popular web metric checker you can use directly within Chrome DevTools or online. This means you can check not only live websites but also locally-developed ones.\n",
    "\n",
    "The metrics you can check include accessibility, SEO, best practices, and performance.\n",
    "\n",
    "To use Lighthouse, open your DevTools by pressing F12 and switching to the Lighthouse tab. Select the metrics you want to check, choose the device you want to test on, and click the \"Analyze page load\" button.\n",
    "\n",
    "An accessibility score will appear after the check is complete, along with a list of any issues that need fixing.\n",
    "\n",
    "If you want more reliable metrics, consider using the web version. The downside is that it doesn't support testing local websites. You can access the web version on pagespeed.web.dev.\n",
    "\n",
    "WAVE is another reliable accessibility checker you can use as a Chrome extension or on the web. All you need to do is enter the URL of your website and a comprehensive accessibility report will be generated for you. This report includes accessibility features implemented, ARIA, and contrasts.\n",
    "\n",
    "The IBM Equal Accessibility Checker is another robust tool for improving digital content accessibility. With it, you can scan your websites for accessibility issues and generate a detailed report.\n",
    "\n",
    "You can use it as a Chrome extension or Firefox add-on.\n",
    "\n",
    "To use the IBM Accessibility Checker as a Chrome extension, download it from the Chrome web store. Open your Devtools by pressing F12 and selecting the \"Accessibility Checker\" tab located in the Elements panel. Click the scan button to start the check and a report will be generated for you. You can export the report as a spreadsheet and an HTML file by clicking the \"Export XLS\" button.\n",
    "\n",
    "Please keep in mind, while these automated tools help you make your content more accessible, a perfect score from any of them does not mean that your content is entirely accessible. The range of issues that these tools test for is limited, and manual testing will always be needed to ensure a more accessible experience for everyone.\n",
    "\n"
   ]
  },
  {
   "cell_type": "markdown",
   "id": "3c690b77",
   "metadata": {},
   "source": [
    "## 1.8. How does proper heading level structure affect accessibility?"
   ]
  },
  {
   "cell_type": "markdown",
   "id": "51af35d6",
   "metadata": {},
   "source": [
    "In an earlier lecture video, you learned about proper heading level structure. In this video, you will learn how a good heading structure affects accessibility.\n",
    "\n",
    "Proper use of headings creates a visual hierarchy for users to navigate and understand your web page. Using a logical heading hierarchy allows screen reader users to understand the structure of your content and navigate your content quickly. Creating appropriate heading text that accurately describes the content that follows helps everyone find the information they need on your site. As an additional benefit, well-formed headings may also improve the SEO of your site.\n",
    "\n",
    "Think of headings as the foundation of your site. Without a good foundation, the accessibility of your content will suffer.\n",
    "\n",
    "Let's look at how you can make your web projects friendly for people who use assistive technologies by using headings correctly.\n",
    "\n",
    "Headings, ranging from h1 to h6, create a navigational structure for screen reader users. Screen readers can list all headings on a page, allowing users to jump directly to the sections they need. So, correctly arranging headings is important for helping these users avoid unnecessary content and finding the information they are looking for quickly.\n",
    "\n",
    "People with partial sight or cognitive disabilities need to process information quickly and easily to reduce cognitive load.\n",
    "\n",
    "While proper arrangement of headings is important, it is also necessary to make heading texts clear and descriptive.\n",
    "\n",
    "Here are some key practices to follow to use headings properly:\n",
    "\n",
    "- Use headings in a hierarchy that reflects clear organization. For example, the page title should be an h1, major sections should be introduced with h2 headings, subsections with h3 , and so on, down to h6.\n",
    "- Don't skip from h1 to h3, or from h2 to h4, and so on.\n",
    "- Use clear and descriptive text that summarizes the content that follows each heading.\n",
    "- Don't use a heading in isolation – some content must follow the heading.\n",
    "- Use appropriate headings where necessary instead of formatting text to look like headings.\n",
    "- Each page should have a single h1 element representing the main topic or title.\n",
    "\n",
    "Here's a basic markup that represents how you should use headings on a page:"
   ]
  },
  {
   "cell_type": "code",
   "execution_count": null,
   "id": "b4cfaac2",
   "metadata": {
    "vscode": {
     "languageId": "html"
    }
   },
   "outputs": [],
   "source": [
    "<!-- Page title -->\n",
    "<h1>What is HTML</h1>\n",
    "\n",
    "<!-- First section -->\n",
    "<section>\n",
    "  <h2>Introduction to HTML</h2>\n",
    "  <p>\n",
    "    HTML stands for HyperText Markup Language. It is the standard language for\n",
    "    creating web pages.\n",
    "  </p>\n",
    "</section>\n",
    "<!-- Second section -->\n",
    "<section>\n",
    "  <h2>History of HTML</h2>\n",
    "  <p>HTML began to take shape in the early 90s</p>\n",
    "  <h3>Origins</h3>\n",
    "  <p>\n",
    "    HTML was created by Tim Berners-Lee in 1991. It has evolved significantly\n",
    "    over the years.\n",
    "  </p>\n",
    "</section>"
   ]
  },
  {
   "cell_type": "markdown",
   "id": "ee280dd3",
   "metadata": {},
   "source": [
    "## 1.9. What are best practices for tables and accessibility?"
   ]
  },
  {
   "cell_type": "markdown",
   "id": "3288e5ec",
   "metadata": {},
   "source": [
    "When we see a table, we immediately start making visual associations between the data and the headers.\n",
    "\n",
    "For example, let's say we have a table representing our pets. We have two dogs and two cats and the table is showing us their names and ages. While a sighted person may be able to understand the relationships in this table, making the connections between the values and the headers is much harder for people who use screen readers to navigate the table.\n",
    "\n",
    "As a web developer, you are in charge of creating these associations and structuring your HTML markup in a way that is also easy for screen reader users to interpret.\n",
    "\n",
    "So, let's see how you can create accessible tables that everyone can understand. The first best practice that we will cover is using table caption. With the <code>caption</code> element, you can write the caption (or title) of a table, so users, especially those who use assistive technologies, can quickly understand the table's purpose and content. You should place the <code>caption</code> element immediately after the opening tag of the <code>table</code> element. This way, screen readers and other assistive technologies can provide more context by announcing the caption before reading the content."
   ]
  },
  {
   "cell_type": "code",
   "execution_count": null,
   "id": "728d23e0",
   "metadata": {
    "vscode": {
     "languageId": "html"
    }
   },
   "outputs": [],
   "source": [
    "<table>\n",
    "  <caption>Our Pets</caption>\n",
    "  <!-- Table Rows and Columns -->\n",
    "</table>"
   ]
  },
  {
   "cell_type": "markdown",
   "id": "411c0f6a",
   "metadata": {},
   "source": [
    "Now let's talk about row and column headers. Headers are special cells, typically found at the start of a row or column, that describe the type of data stored in the row or column. You can define a row or column header with the table header element, <code>th</code>.\n",
    "\n",
    "For example, the code below creates a table for two pets. Every row has a row header (the name of the pet) and every column has a column header, which describes what the data in the column represents (age and type)."
   ]
  },
  {
   "cell_type": "code",
   "execution_count": null,
   "id": "6f0e191d",
   "metadata": {
    "vscode": {
     "languageId": "html"
    }
   },
   "outputs": [],
   "source": [
    "<table>\n",
    "  <caption>Our Pets</caption>\n",
    "  <thead>\n",
    "    <tr>\n",
    "      <!-- Column Headers -->\n",
    "      <th>Name</th>\n",
    "      <th>Age</th>\n",
    "      <th>Type</th>\n",
    "    </tr>\n",
    "  </thead>\n",
    "  <tbody>\n",
    "    <tr>\n",
    "      <th>Nora</th> <!-- Row Header -->\n",
    "      <td>5</td>\n",
    "      <td>Dog</td>\n",
    "    </tr>\n",
    "    <tr>\n",
    "      <th>Gino</th> <!-- Row Header -->\n",
    "      <td>2</td>\n",
    "      <td>Cat</td>\n",
    "    </tr>\n",
    "  </tbody>\n",
    "</table>"
   ]
  },
  {
   "cell_type": "markdown",
   "id": "4f5da526",
   "metadata": {},
   "source": [
    "<table>\n",
    "  <caption>Our Pets</caption>\n",
    "  <thead>\n",
    "    <tr>\n",
    "      <!-- Column Headers -->\n",
    "      <th>Name</th>\n",
    "      <th>Age</th>\n",
    "      <th>Type</th>\n",
    "    </tr>\n",
    "  </thead>\n",
    "  <tbody>\n",
    "    <tr>\n",
    "      <th>Nora</th> <!-- Row Header -->\n",
    "      <td>5</td>\n",
    "      <td>Dog</td>\n",
    "    </tr>\n",
    "    <tr>\n",
    "      <th>Gino</th> <!-- Row Header -->\n",
    "      <td>2</td>\n",
    "      <td>Cat</td>\n",
    "    </tr>\n",
    "  </tbody>\n",
    "</table>"
   ]
  },
  {
   "cell_type": "markdown",
   "id": "93d62ae2",
   "metadata": {},
   "source": [
    "Notice that the above code has a <code>caption</code> element immediately after the opening <code>table</code> element. Then, inside the table head (<code>thead</code>) element, it has the column headers (Name, Age, and Type). In the second and third rows, inside the table body (<code>tbody</code>) element, we find the data for each one of our pets. The names of the pets are the row headers because they are inside table header elements (th).\n",
    "\n",
    "Associating the data cells with their corresponding headers is also very important for screen readers. The <code>scope</code> attribute determines if a header is a row header or a column header. Screen readers may guess this correctly from the table's structure, but it's usually recommended to explicitly indicate the <code>scope</code> to ensure clarity.\n",
    "\n",
    "The <code>scope</code> attribute has four possible values. The two you will use most often are <code>col</code> for column and <code>row</code> for row. In the code below, you can see that we added the <code>scope</code> attribute to the column and row headers. The three column headers (Name, Age, and Type) have a <code>scope</code> of <code>col</code>, column.\n",
    "\n",
    "The two row headers (Nora and Gino) have a <code>scope</code> of <code>row</code>."
   ]
  },
  {
   "cell_type": "code",
   "execution_count": null,
   "id": "ed0d7ab6",
   "metadata": {
    "vscode": {
     "languageId": "html"
    }
   },
   "outputs": [],
   "source": [
    "<table>\n",
    "  <caption>Our Pets</caption>\n",
    "  <thead>\n",
    "    <tr>\n",
    "      <!-- Now they have scope -->\n",
    "      <th scope=\"col\">Name</th>\n",
    "      <th scope=\"col\">Age</th>\n",
    "      <th scope=\"col\">Type</th>\n",
    "    </tr>\n",
    "  </thead>\n",
    "  <tbody>\n",
    "    <tr>\n",
    "      <th scope=\"row\">Nora</th>\n",
    "      <td>5</td>\n",
    "      <td>Dog</td>\n",
    "    </tr>\n",
    "    <tr>\n",
    "      <th scope=\"row\">Gino</th>\n",
    "      <td>2</td>\n",
    "      <td>Cat</td>\n",
    "    </tr>\n",
    "  </tbody>\n",
    "</table>"
   ]
  },
  {
   "cell_type": "markdown",
   "id": "e9986b6f",
   "metadata": {
    "vscode": {
     "languageId": "html"
    }
   },
   "source": [
    "<table>\n",
    "    <caption>Our Pets</caption>\n",
    "    <thead>\n",
    "      <tr>\n",
    "        <!-- Now they have scope -->\n",
    "        <th scope=\"col\">Name</th>\n",
    "        <th scope=\"col\">Age</th>\n",
    "        <th scope=\"col\">Type</th>\n",
    "      </tr>\n",
    "    </thead>\n",
    "    <tbody>\n",
    "      <tr>\n",
    "        <th scope=\"row\">Nora</th>\n",
    "        <td>5</td>\n",
    "        <td>Dog</td>\n",
    "      </tr>\n",
    "      <tr>\n",
    "        <th scope=\"row\">Gino</th>\n",
    "        <td>2</td>\n",
    "        <td>Cat</td>\n",
    "      </tr>\n",
    "    </tbody>\n",
    "  </table>\n",
    "\n",
    "  If a column or row header spans across multiple cells, the scope will also be applied to each one of the cells individually. "
   ]
  },
  {
   "cell_type": "markdown",
   "id": "bc0d0b5d",
   "metadata": {},
   "source": [
    "\n",
    "\n",
    "In this table, the cell with Nora's age (5) will have one column header (Age) and two row headers (Dogs and Nora). Gino's age (2) will also have one column header (Age) and two row headers (Dogs and Gino).\n",
    "\n",
    "However, some screen readers may not be able to interpret tables with complex structures, so you should also try to flatten the table as much as possible to avoid row and column headers that span across multiple cells.\n",
    "\n",
    "Your goal should always be to make sure users can access this information, even if their screen readers can handle complex table structures.\n",
    "\n",
    "Now, for cell width, it's recommended to avoid using fixed values. You should use relative values instead, like percentages. Also, try to avoid defining cell height. This will allow users to adjust the text size to fit their needs.\n",
    "\n",
    "And finally, you should let the browser determine the table width whenever possible, to reduce the need for horizontal scrolling.\n",
    "\n",
    "HTML tables are essential for presenting structured data in an accessible and understandable format. By following these accessibility guidelines, you can create tables that are easy to understand for everyone."
   ]
  },
  {
   "cell_type": "markdown",
   "id": "80551d71",
   "metadata": {},
   "source": [
    "## 1.10. Why is it important for inputs to have an associated label?"
   ]
  },
  {
   "cell_type": "markdown",
   "id": "7c4e72ae",
   "metadata": {},
   "source": [
    "Labels on input fields might seem like small details, but they play a crucial role in making forms easier for everyone to use.\n",
    "\n",
    "Labels help people with disabilities, make forms more user-friendly for everyone, and ultimately improve form conversion rates.\n",
    "\n",
    "Let's dive into why adding labels to input elements is important for accessibility and usability.\n",
    "\n",
    "Screen readers often rely on labels to describe the purpose of input fields. In order for this to work properly, the label must be programmatically associated with the input. While there are several ways to do that, the most common is to use the HTML label element.\n",
    "\n",
    "Here's how to associate a label with an input:"
   ]
  },
  {
   "cell_type": "code",
   "execution_count": null,
   "id": "bfaf3e8b",
   "metadata": {
    "vscode": {
     "languageId": "html"
    }
   },
   "outputs": [],
   "source": [
    "<form>\n",
    "   <label for=\"name\">Your Name</label>\n",
    "   <input type=\"text\" id=\"name\" />\n",
    "</form>"
   ]
  },
  {
   "cell_type": "markdown",
   "id": "88cd169c",
   "metadata": {},
   "source": [
    "In this example, the for attribute of the label element is associated with the id of the input element. This connection allows screen readers to announce the label when the input is in a focused state, allowing screen reader users to understand the purpose of the input.\n",
    "\n",
    "Associating labels with all input fields also benefits SEO. With proper labels, search engines will understand the page content better, leading to a positive impact on the page search rankings.\n",
    "\n",
    "But it is important to understand that you're making content for humans, not search engines. So, you should make sure the labels are as clear and descriptive as possible."
   ]
  },
  {
   "cell_type": "markdown",
   "id": "c5719b4f",
   "metadata": {},
   "source": []
  },
  {
   "cell_type": "markdown",
   "id": "e60bb4e4",
   "metadata": {},
   "source": []
  },
  {
   "cell_type": "markdown",
   "id": "6995f84d",
   "metadata": {},
   "source": []
  },
  {
   "cell_type": "markdown",
   "id": "c990cef1",
   "metadata": {},
   "source": []
  },
  {
   "cell_type": "markdown",
   "id": "696fd18c",
   "metadata": {},
   "source": []
  }
 ],
 "metadata": {
  "language_info": {
   "name": "python"
  }
 },
 "nbformat": 4,
 "nbformat_minor": 5
}