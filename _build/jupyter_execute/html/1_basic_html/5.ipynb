{
 "cells": [
  {
   "cell_type": "markdown",
   "id": "b727a772",
   "metadata": {},
   "source": [
    "# Examples"
   ]
  },
  {
   "cell_type": "markdown",
   "id": "a9487270",
   "metadata": {},
   "source": [
    "## 1. A Cat Photo App"
   ]
  },
  {
   "cell_type": "markdown",
   "id": "6653204d",
   "metadata": {},
   "source": [
    "1. The main element is used to represent the <code>main</code> content of the body of an HTML document. Content inside the main element should be unique to the document and should not be repeated in other parts of the document.\n",
    "\n",
    "2. To open links in a new tab, you can use the <code>target</code> attribute on the anchor (<code>a</code>) element. The target attribute specifies where to open the linked document. <code>target=\"_blank\"</code> opens the linked document in a new tab or window. <br> Here is the basic syntax for an <code>a</code> element with a <code>target</code> attribute:\n",
    " <br> Example Code:\n",
    "<code>  </code>"
   ]
  },
  {
   "cell_type": "code",
   "execution_count": null,
   "id": "31c53404",
   "metadata": {
    "vscode": {
     "languageId": "html"
    }
   },
   "outputs": [],
   "source": [
    "<a href=\"https://www.freecodecamp.org\" target=\"_blank\">freeC"
   ]
  },
  {
   "cell_type": "markdown",
   "id": "68670317",
   "metadata": {},
   "source": [
    "3. The <code>figure</code> element represents self-contained content and will allow you to associate an image with a caption."
   ]
  },
  {
   "cell_type": "code",
   "execution_count": null,
   "id": "ded0e816",
   "metadata": {
    "vscode": {
     "languageId": "html"
    }
   },
   "outputs": [],
   "source": [
    "<figure>\n",
    "    <img src=\"https://cdn.freecodecamp.org/curriculum/cat-photo-app/lasagna.jpg\" alt=\"A slice of lasagna on a plate.\">\n",
    "    <figcaption>Cats <em>love</em> lasagna.</figcaption>\n",
    "</figure>"
   ]
  },
  {
   "cell_type": "markdown",
   "id": "80d78596",
   "metadata": {},
   "source": [
    "Complete code:"
   ]
  },
  {
   "cell_type": "code",
   "execution_count": null,
   "id": "d15e0d41",
   "metadata": {
    "vscode": {
     "languageId": "html"
    }
   },
   "outputs": [],
   "source": [
    "<!DOCTYPE html>\n",
    "<html lang=\"en\">\n",
    "\n",
    "<head>\n",
    "  <meta charset=\"utf-8\">\n",
    "  <title>CatPhotoApp</title>\n",
    "</head>\n",
    "\n",
    "<body>\n",
    "  <main>\n",
    "    <h1>CatPhotoApp</h1>\n",
    "    <section>\n",
    "      <h2>Cat Photos</h2>\n",
    "      <p>Everyone loves <a href=\"https://cdn.freecodecamp.org/curriculum/cat-photo-app/running-cats.jpg\">cute cats</a>\n",
    "        online!</p>\n",
    "      <p>See more <a target=\"_blank\" href=\"https://freecatphotoapp.com\">cat photos</a> in our gallery.</p>\n",
    "      <a href=\"https://freecatphotoapp.com\"><img\n",
    "          src=\"https://cdn.freecodecamp.org/curriculum/cat-photo-app/relaxing-cat.jpg\"\n",
    "          alt=\"A cute orange cat lying on its back.\"></a>\n",
    "    </section>\n",
    "    <section>\n",
    "      <h2>Cat Lists</h2>\n",
    "      <h3>Things cats love:</h3>\n",
    "      <ul>\n",
    "        <li>catnip</li>\n",
    "        <li>laser pointers</li>\n",
    "        <li>lasagna</li>\n",
    "      </ul>\n",
    "      <figure>\n",
    "        <img src=\"https://cdn.freecodecamp.org/curriculum/cat-photo-app/lasagna.jpg\"\n",
    "          alt=\"A slice of lasagna on a plate.\">\n",
    "        <figcaption>Cats <em>love</em> lasagna.</figcaption>\n",
    "      </figure>\n",
    "      <h3>Top 3 things cats hate:</h3>\n",
    "      <ol>\n",
    "        <li>flea treatment</li>\n",
    "        <li>thunder</li>\n",
    "        <li>other cats</li>\n",
    "      </ol>\n",
    "      <figure>\n",
    "        <img src=\"https://cdn.freecodecamp.org/curriculum/cat-photo-app/cats.jpg\"\n",
    "          alt=\"Five cats looking around a field.\">\n",
    "        <figcaption>Cats <strong>hate</strong> other cats.</figcaption>\n",
    "      </figure>\n",
    "    </section>\n",
    "  </main>\n",
    "  <footer>\n",
    "    <p>\n",
    "      No Copyright - <a href=\"https://www.freecodecamp.org\">freeCodeCamp.org</a>\n",
    "    </p>\n",
    "  </footer>\n",
    "</body>\n",
    "\n",
    "</html>"
   ]
  },
  {
   "cell_type": "markdown",
   "id": "115818b1",
   "metadata": {},
   "source": [
    "## 2. A Travel Agency Page"
   ]
  },
  {
   "cell_type": "code",
   "execution_count": null,
   "id": "31a298d4",
   "metadata": {
    "vscode": {
     "languageId": "html"
    }
   },
   "outputs": [],
   "source": [
    "<!DOCTYPE html>\n",
    "<html lang=\"en\">\n",
    "\n",
    "<head>\n",
    "  <meta charset=\"utf-8\">\n",
    "  <title>Travel Agency Page</title>\n",
    "  <meta name=\"description\" content=\"Viaja con nosotros a tu destino soñado al mejor precio.\" />\n",
    "</head>\n",
    "\n",
    "<body>\n",
    "  <h1>Welcome to Italy</h1>\n",
    "  <p>\n",
    "    Art, folklore, food, nature, and more. Choose among our wide selection of guided tours and excursions,\n",
    "    and live an unforgettable experience exploring Italy.\n",
    "  </p>\n",
    "  <h2>Packages</h2>\n",
    "  <p>\n",
    "    We offer an extensive range of holiday solutions to accommodate the needs of all our clients. From daily\n",
    "    excursions in the most beautiful cities, to thorough tours of hidden villages and medieval towns to discover\n",
    "    Italy's lesser-known sides.\n",
    "  </p>\n",
    "  <ul>\n",
    "    <li><a target=\"_blank\" href=\"https://www.freecodecamp.org/learn\">Group Travels</a></li>\n",
    "    <li><a target=\"_blank\" href=\"https://www.freecodecamp.org/learn\">Private Tours</a></li>\n",
    "  </ul>\n",
    "  <h2>Top Itineraries</h2>\n",
    "  <figure>\n",
    "    <a target=\"_blank\" href=\"https://www.freecodecamp.org/learn\">\n",
    "      <img src=\"https://cdn.freecodecamp.org/curriculum/labs/colosseo.jpg\" alt=\"Coliseo romano\">\n",
    "    </a target=\"_blank\" href=\"https://www.freecodecamp.org/learn\">\n",
    "    <figcaption>Rome and Center Italy</figcaption>\n",
    "  </figure>\n",
    "  <figure>\n",
    "    <a target=\"_blank\" href=\"https://www.freecodecamp.org/learn\">\n",
    "      <img src=\"https://cdn.freecodecamp.org/curriculum/labs/alps.jpg\" alt=\"Alpes italianos\">\n",
    "    </a>\n",
    "    <figcaption>Nature and National Parks</figcaption>\n",
    "  </figure>\n",
    "  <figure>\n",
    "    <a target=\"_blank\" href=\"https://www.freecodecamp.org/learn\">\n",
    "      <img src=\"https://cdn.freecodecamp.org/curriculum/labs/sea.jpg\" alt=\"Costa italiana\">\n",
    "    </a>\n",
    "    <figcaption>South Italy and Islands</figcaption>\n",
    "  </figure>\n",
    "</body>\n",
    "\n",
    "</html>"
   ]
  },
  {
   "cell_type": "markdown",
   "id": "1a27c01e",
   "metadata": {},
   "source": [
    "## 3. A Video Compliation Page"
   ]
  },
  {
   "cell_type": "code",
   "execution_count": null,
   "id": "85a8f131",
   "metadata": {
    "vscode": {
     "languageId": "html"
    }
   },
   "outputs": [],
   "source": [
    "<!DOCTYPE html>\n",
    "<html lang=\"en\">\n",
    "\n",
    "<head>\n",
    "    <meta charset=\"utf-8\">\n",
    "    <title>Video Compilation Page</title>\n",
    "</head>\n",
    "\n",
    "<body>\n",
    "    <main>\n",
    "        <h1>Front End Web Development</h1>\n",
    "        <p>\n",
    "            Front End Web Development involves designing and building user interfaces of websites using HTML,\n",
    "            CSS, and JavaScript. It focuses on creating visually appealing, interactive, and user-friendly\n",
    "            websites. Front End developers ensure accessibility, performance optimization, and adherence to\n",
    "            web standards, blending creativity with technical expertise.\n",
    "        </p>\n",
    "\n",
    "        <section>\n",
    "            <h2>HTML</h2>\n",
    "            <p>\n",
    "                HTML, or HyperText Markup Language, forms the backbone of web pages by defining their basic\n",
    "                structure and layout. It uses a series of elements to display text, images, lists, tables,\n",
    "                and other static content on a web page.\n",
    "            </p>\n",
    "            <iframe src=\"https://www.youtube.com/embed/watch?v=rJO84scyxqo&list=RDrJO84scyxqo&start_radio=1\"\n",
    "                title=\"YouTube video player\" height=\"315\" width=\"560\"></iframe>\n",
    "        </section>\n",
    "\n",
    "        <section>\n",
    "            <h2>CSS</h2>\n",
    "            <p>\n",
    "                CSS, or Cascading Style Sheets, is used to control the visual presentation of HTML elements\n",
    "                on a web page. It allows for customized styling, including colors, fonts, layouts, and\n",
    "                spacing, making websites visually appealing. CSS also supports responsive design, ensuring\n",
    "                web pages look good on all devices.\n",
    "            </p>\n",
    "            <iframe src=\"https://www.youtube.com/embed/watch?v=rJO84scyxqo&list=RDrJO84scyxqo&start_radio=1\"\n",
    "                title=\"YouTube video player\" height=\"315\" width=\"560\"></iframe>\n",
    "        </section>\n",
    "\n",
    "        <section>\n",
    "            <h2>JavaScript</h2>\n",
    "            <p>\n",
    "                JavaScript is a programming language that adds interactivity to static web pages, enabling\n",
    "                dynamic content updates, form validations, animations, and responsive behaviors based on\n",
    "                user interactions and events.\n",
    "            </p>\n",
    "            <iframe src=\"https://www.youtube.com/embed/watch?v=rJO84scyxqo&list=RDrJO84scyxqo&start_radio=1\"\n",
    "                title=\"YouTube video player\" height=\"315\" width=\"560\"></iframe>\n",
    "        </section>\n",
    "    </main>\n",
    "</body>\n",
    "\n",
    "</html>"
   ]
  }
 ],
 "metadata": {
  "language_info": {
   "name": "python"
  }
 },
 "nbformat": 4,
 "nbformat_minor": 5
}