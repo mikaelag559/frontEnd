{
 "cells": [
  {
   "cell_type": "markdown",
   "metadata": {
    "editable": true,
    "jp-MarkdownHeadingCollapsed": true,
    "slideshow": {
     "slide_type": ""
    },
    "tags": []
   },
   "source": [
    "# <a href=\"https://www.freecodecamp.org/learn/full-stack-developer/review-basic-html/basic-html-review\">Resumen</a>"
   ]
  },
  {
   "cell_type": "markdown",
   "metadata": {},
   "source": [
    "# 1. What is HTML?"
   ]
  },
  {
   "cell_type": "markdown",
   "metadata": {
    "editable": true,
    "slideshow": {
     "slide_type": ""
    },
    "tags": []
   },
   "source": [
    "| Language | What it provides | What would it be in a house |\n",
    "| ---------| ---------------- | --------------------------:|\n",
    "| HTML | Content / Structure | Foundation / Blocks / Concrete |\n",
    "| CSS | Styling | Interior and exterior design |\n",
    "| JavaScript | Interactivity |  Water and electric system |"
   ]
  },
  {
   "cell_type": "markdown",
   "metadata": {
    "editable": true,
    "slideshow": {
     "slide_type": ""
    },
    "tags": []
   },
   "source": [
    "## 1.1. What is HTML, and what role does it play on the web?"
   ]
  },
  {
   "cell_type": "markdown",
   "metadata": {},
   "source": [
    "HTML, which stands for Hypertext Markup Language, is a markup language for creating web pages. When you visit a website and see content like paragraphs, headings, links, images, and videos; that's HTML. HTML represents the content and structure of a webpage through the use of elements. Here's an example of a paragraph element:"
   ]
  },
  {
   "cell_type": "code",
   "execution_count": null,
   "metadata": {
    "editable": true,
    "slideshow": {
     "slide_type": ""
    },
    "tags": [],
    "vscode": {
     "languageId": "html"
    }
   },
   "outputs": [],
   "source": [
    "<p>Hello</p>"
   ]
  },
  {
   "cell_type": "markdown",
   "metadata": {},
   "source": [
    "Most elements will have an opening tag and a closing tag. Sometimes those tags are referred to as start and end tags. In between those two tags, you will have the content. This content can be text or other HTML elements. Both opening and closing tags start with a left angle bracket (<code>&lt;</code>), and end with a right angle bracket (<code>&gt;</code>), with the tag name placed between these angle brackets. Here is a closer look at just the opening and closing paragraph tags:"
   ]
  },
  {
   "cell_type": "code",
   "execution_count": null,
   "metadata": {
    "vscode": {
     "languageId": "html"
    }
   },
   "outputs": [],
   "source": [
    "<p>\n",
    "</p>"
   ]
  },
  {
   "cell_type": "markdown",
   "metadata": {},
   "source": [
    "What distinguishes an opening tag from a closing tag is the forward slash (<code>/</code>) placed immediately after the left angle bracket in a closing tag. Some HTML elements do not have a closing tag. These are known as void elements. Here is an example of an image element which is a void element:"
   ]
  },
  {
   "cell_type": "code",
   "execution_count": null,
   "metadata": {
    "vscode": {
     "languageId": "html"
    }
   },
   "outputs": [],
   "source": [
    "<img>"
   ]
  },
  {
   "cell_type": "markdown",
   "metadata": {},
   "source": [
    "Notice that this image element does not have the closing tag and it does not have any content. Void elements cannot have any content and only have a start tag. If you wanted to display an image, you will need to include a couple of attributes inside your image element. An attribute is a special value used to adjust the behavior for an HTML element. Here is an example of an image element with a <code>src</code>, or source, attribute:"
   ]
  },
  {
   "cell_type": "code",
   "execution_count": null,
   "metadata": {
    "vscode": {
     "languageId": "html"
    }
   },
   "outputs": [],
   "source": [
    "<img src=\"image location\" />"
   ]
  },
  {
   "cell_type": "markdown",
   "metadata": {},
   "source": [
    "The <code>src</code> attribute is used to specify the location for that image. For image elements, it's good practice to include another attribute called the <code>alt</code> attribute. Here's an example of an image element with the <code>src</code> and <code>alt</code> attributes:"
   ]
  },
  {
   "cell_type": "code",
   "execution_count": null,
   "metadata": {
    "vscode": {
     "languageId": "html"
    }
   },
   "outputs": [],
   "source": [
    "<img src=\"example-cat-img-url\" alt=\"Cat sleeping in the grass\">"
   ]
  },
  {
   "cell_type": "markdown",
   "metadata": {},
   "source": [
    "The <code>alt</code> attribute is used to provide short, descriptive text for the images. In this case, the descriptive text is a \"Cat sleeping in the grass\".\n",
    "\n",
    "So, you might be wondering if HTML by itself is enough to build a website. Well, the answer is: it depends. If you're building a small practice project that only displays text and images, HTML alone might be sufficient. However, if you're creating a modern professional website, you will need to have HTML, CSS, and JavaScript.\n",
    "\n",
    "HTML is for the content and structure. CSS is for styling. JavaScript is for adding interactivity to your web pages. A good analogy for this is to compare HTML, CSS, and JavaScript with a complete building. HTML represents the blocks, concrete, and irons that make up the walls. It's the foundation that makes the building strong. CSS represents the interior and exterior design that makes the house look beautiful. JavaScript represents the electrical and water system that ensures uninterrupted access to water and electricity."
   ]
  },
  {
   "cell_type": "markdown",
   "metadata": {
    "jp-MarkdownHeadingCollapsed": true
   },
   "source": [
    "## 1.2. What are attributes and how do they work?"
   ]
  },
  {
   "cell_type": "markdown",
   "metadata": {},
   "source": [
    "An attribute is a value placed inside the opening tag of an HTML element. Attributes provide additional information about the element or specify how the element should behave. Here is the basic syntax for an attribute:"
   ]
  },
  {
   "cell_type": "code",
   "execution_count": null,
   "metadata": {
    "vscode": {
     "languageId": "html"
    }
   },
   "outputs": [],
   "source": [
    "<element attribute=\"value\"></element>"
   ]
  },
  {
   "cell_type": "markdown",
   "metadata": {},
   "source": [
    "The attribute name is followed by an equal sign (<code>=</code>) and a value in quotes. The value can be a string or a number, depending on the attribute.\n",
    "\n",
    "Let's take a look at a few examples of common HTML attributes. The first example is the <code>href</code> attribute, which is used to specify the URL of a link:"
   ]
  },
  {
   "cell_type": "code",
   "execution_count": null,
   "metadata": {
    "vscode": {
     "languageId": "html"
    }
   },
   "outputs": [],
   "source": [
    "<a href=\"https://www.example-website.com\">Visit our website</a>"
   ]
  },
  {
   "cell_type": "markdown",
   "metadata": {},
   "source": [
    "Without this attribute, the link would not work because there would be no destination URL. So you must include this <code>href</code> attribute to make the link functional. Other common attributes are the <code>src</code>, or source, and <code>alt</code>, or alternative, attribute - which is used to specify the source of an image and provide alternative descriptive text for the image, respectively:"
   ]
  },
  {
   "cell_type": "code",
   "execution_count": null,
   "metadata": {
    "vscode": {
     "languageId": "html"
    }
   },
   "outputs": [],
   "source": [
    "<img src=\"image.jpg\" alt=\"A beautiful image\" />"
   ]
  },
  {
   "cell_type": "markdown",
   "metadata": {},
   "source": [
    "Similar to the <code>href</code> attribute, the <code>src</code> attribute is required because it specifies the image file to be displayed. The <code>alt</code> attribute is not required, but it is recommended for accessibility purposes. Accessibility means making sure that everyone, including those with disabilities, can use and understand things like websites, apps, and physical spaces. You will learn more about accessibility in the upcoming lectures.\n",
    "\n",
    "Some attributes are a little unique with their syntax like the <code>checked</code> attribute shown here:"
   ]
  },
  {
   "cell_type": "code",
   "execution_count": null,
   "metadata": {
    "vscode": {
     "languageId": "html"
    }
   },
   "outputs": [],
   "source": [
    "<input type=\"checkbox\" checked />"
   ]
  },
  {
   "cell_type": "markdown",
   "metadata": {},
   "source": [
    "In the following example, we have an <code>input</code> element with the <code>type</code> attribute set to <code>checkbox</code>. Inputs are used to collect data from users, and the <code>type</code> attribute specifies the type of input. In this case, this input is a checkbox. You will learn more about how inputs work in the upcoming lectures. The <code>checked</code> attribute is used to specify that the checkbox should be checked by default. The <code>checked</code> attribute does not require a value. If it is present, the checkbox will be checked by default. If the attribute is not present, the checkbox will be unchecked. This is known as a boolean attribute. You will learn more about booleans in general when you get to the JavaScript section. There are several common boolean attributes you will encounter in HTML, such as <code>disabled</code>, <code>readonly</code> and <code>required</code>. These attributes are used to specify the state of an element, such as whether it is disabled, read-only, or required.\n",
    "\n",
    "HTML has many attributes that can be used to customize the behavior and appearance of elements on a webpage. Understanding how to use attributes is essential for creating interactive and accessible web content. Over the next few lectures, you will learn about more HTML attributes and how to use them effectively in your web development projects."
   ]
  },
  {
   "cell_type": "markdown",
   "metadata": {
    "jp-MarkdownHeadingCollapsed": true
   },
   "source": [
    "## 1.3. What is the role of the link element in HTML, and how can it be used to link to external stylesheets?"
   ]
  },
  {
   "cell_type": "markdown",
   "metadata": {},
   "source": [
    "Let's learn about the <code>link</code> element, and how to use it to link to external stylesheets.\n",
    "\n",
    "The <code>link</code> element is used to link to external resources like stylesheets and site icons. Here is the basic syntax for using the <code>link</code> element for an external CSS file:"
   ]
  },
  {
   "cell_type": "code",
   "execution_count": null,
   "metadata": {
    "vscode": {
     "languageId": "html"
    }
   },
   "outputs": [],
   "source": [
    "<link rel=\"stylesheet\" href=\"./styles.css\" />"
   ]
  },
  {
   "cell_type": "markdown",
   "metadata": {},
   "source": [
    "The <code>rel</code> attribute is used to specify the relationship between the linked resource and the HTML document. In this situation, we need to specify that this linked resource is a <code>stylesheet</code>.\n",
    "\n",
    "It is considered best practice to separate your HTML and CSS in different files. Developers will use the <code>link</code> element for their external CSS file instead of writing everything in the HTML document.\n",
    "\n",
    "The <code>href</code> attribute is used to specify the location of the URL for the external resource.\n",
    "\n",
    "The <code>dot</code> followed by a forward slash in the example tells the computer to look in the current folder, or directory, for the <code>styles.css</code> file.\n",
    "\n",
    "The <code>link</code> element should be placed inside the <code>head</code> element as seen in the following example:"
   ]
  },
  {
   "cell_type": "code",
   "execution_count": null,
   "metadata": {
    "vscode": {
     "languageId": "html"
    }
   },
   "outputs": [],
   "source": [
    "<head>\n",
    "  <meta charset=\"UTF-8\" />\n",
    "  <meta name=\"viewport\" content=\"width=device-width, initial-scale=1.0\" />\n",
    "  <title>Examples of the link element</title>\n",
    "  <link rel=\"stylesheet\" href=\"./styles.css\" />\n",
    "</head>"
   ]
  },
  {
   "cell_type": "markdown",
   "metadata": {},
   "source": [
    "Often times you will see multiple <code>link</code> elements inside a professional codebase that link to different stylesheets, fonts, and icons. Here is an example of using the <code>link</code> element to link to an external Google Font called <i>Playwright Cuba</i>:"
   ]
  },
  {
   "cell_type": "code",
   "execution_count": null,
   "metadata": {
    "vscode": {
     "languageId": "html"
    }
   },
   "outputs": [],
   "source": [
    "<link rel=\"preconnect\" href=\"https://fonts.googleapis.com\" />\n",
    "<link rel=\"preconnect\" href=\"https://fonts.gstatic.com\" crossorigin />\n",
    "<link\n",
    "  href=\"https://fonts.googleapis.com/css2?family=Playwrite+CU:wght@100..400&display=swap\"\n",
    "  rel=\"stylesheet\"\n",
    "/>"
   ]
  },
  {
   "cell_type": "markdown",
   "metadata": {},
   "source": [
    "Google Fonts are a set of free and open source custom fonts that you can use inside any project. You can choose which fonts you would like to use and Google will provide you with the necessary HTML and CSS code. In this example, the <code>preconnect</code> value for the <code>rel</code> attribute tells the browser to create an early connection to the value specified in the <code>href</code> attribute. This is done to speed up loading times for these external resources.\n",
    "\n",
    "Another common use case for the <code>link</code> element is to link to icons. Here is an example of linking to a favicon:"
   ]
  },
  {
   "cell_type": "code",
   "execution_count": null,
   "metadata": {
    "vscode": {
     "languageId": "html"
    }
   },
   "outputs": [],
   "source": [
    "<link rel=\"icon\" href=\"favicon.ico\" />"
   ]
  },
  {
   "cell_type": "markdown",
   "metadata": {},
   "source": [
    "A favicon, which is short for favorite icon, is a small icon typically displayed in the browser tab next the site title. A lot of websites will use a favicon to display their brand icon."
   ]
  },
  {
   "cell_type": "markdown",
   "metadata": {
    "jp-MarkdownHeadingCollapsed": true
   },
   "source": [
    "## 1.4. What is an HTML boilerplate, and why is it important?"
   ]
  },
  {
   "cell_type": "markdown",
   "metadata": {},
   "source": [
    "It's like a ready-made template for your webpages. Think of it as the foundations of a house. A boilerplate includes the basic structure and essential elements every HTML document needs. It saves you time and helps ensure your pages are set up properly. Here is an example:"
   ]
  },
  {
   "cell_type": "code",
   "execution_count": null,
   "metadata": {
    "vscode": {
     "languageId": "html"
    }
   },
   "outputs": [],
   "source": [
    "<!DOCTYPE html>\n",
    "<html lang=\"en\">\n",
    "    <!--All other elements go inside here-->\n",
    "    <head>\n",
    "        <!--Important metadata goes here-->\n",
    "        <meta charset=\"utf-8\" />  <!-- Hace que los caracteres especiales se printeen bien -->\n",
    "        <meta\n",
    "            name=\"viewport\"\n",
    "            content=\"width=device-width, initial-scale=1.0\" />\n",
    "        <title>Document Title Goes Here</title>\n",
    "        <link rel=\"stylesheet\" href=\"./styles.css\" />\n",
    "    </head>\n",
    "    <body>\n",
    "        <!--Headings, paragraphs, images, etc. go inside here-->\n",
    "        <h1>I am a main title</h1>\n",
    "        <p>Example paragraph text</p>\n",
    "    </body>\n",
    "</html>"
   ]
  },
  {
   "cell_type": "markdown",
   "metadata": {},
   "source": [
    "Let's break down the key parts of this boilerplate. First, there is the <code>DOCTYPE</code> declaration tells browsers which version of HTML you're using. Next, comes the <code>html</code> tag wraps around all your content, and can specify the language of your page. Inside the html tag, you'll find two main sections - a <code>head</code>, and a <code>body</code>.\n",
    "\n",
    "- The <code>head</code> section contains important behind-the-scenes information. Your site's metadata, contained in meta elements, has details about things like character encoding, and how websites like Twitter should preview your page's link. Your site's title, found in the <code>title</code> element, determines the text that appears in the browser tab or window. Finally, you'll typically link your page's external stylesheets in the <code>head</code> section using <code>link</code> elements.\n",
    "\n",
    "- The <code>body</code> section is where all your content goes. This is what visitors actually see on your web page.\n",
    "\n",
    "Now, why is a boilerplate important? It ensures your pages are structured correctly and work well across different browsers. Using a boilerplate helps you avoid common mistakes and follow best practices. It's a great starting point for any web project. Remember, you can customize your own boilerplate to fit your needs. As you gain experience, you might add your own preferred elements or <code>meta</code> tags. As you continue to improve your personal boilerplate, you'll find that it saves you time when starting new projects.\n",
    "\n",
    "Next time you start a new HTML file, consider using a boilerplate. It will definitely give you a solid foundation to build on."
   ]
  },
  {
   "cell_type": "markdown",
   "metadata": {
    "jp-MarkdownHeadingCollapsed": true
   },
   "source": [
    "# 2. Example: Build a Cat Photo App"
   ]
  },
  {
   "cell_type": "markdown",
   "metadata": {},
   "source": [
    "1. The main element is used to represent the <code>main</code> content of the body of an HTML document. Content inside the main element should be unique to the document and should not be repeated in other parts of the document.\n",
    "\n",
    "2. To open links in a new tab, you can use the <code>target</code> attribute on the anchor (<code>a</code>) element. The target attribute specifies where to open the linked document. <code>target=\"_blank\"</code> opens the linked document in a new tab or window. <br> Here is the basic syntax for an <code>a</code> element with a <code>target</code> attribute:\n",
    " <br> Example Code:\n",
    "<code>  </code>"
   ]
  },
  {
   "cell_type": "code",
   "execution_count": null,
   "metadata": {
    "vscode": {
     "languageId": "html"
    }
   },
   "outputs": [],
   "source": [
    "<a href=\"https://www.freecodecamp.org\" target=\"_blank\">freeC"
   ]
  },
  {
   "cell_type": "markdown",
   "metadata": {},
   "source": [
    "3. The <code>figure</code> element represents self-contained content and will allow you to associate an image with a caption."
   ]
  },
  {
   "cell_type": "code",
   "execution_count": null,
   "metadata": {
    "vscode": {
     "languageId": "html"
    }
   },
   "outputs": [],
   "source": [
    "<figure>\n",
    "    <img src=\"https://cdn.freecodecamp.org/curriculum/cat-photo-app/lasagna.jpg\" alt=\"A slice of lasagna on a plate.\">\n",
    "    <figcaption>Cats <em>love</em> lasagna.</figcaption>  \n",
    "</figure>"
   ]
  },
  {
   "cell_type": "markdown",
   "metadata": {},
   "source": [
    "Código completo:"
   ]
  },
  {
   "cell_type": "code",
   "execution_count": null,
   "metadata": {
    "vscode": {
     "languageId": "html"
    }
   },
   "outputs": [],
   "source": [
    "<!DOCTYPE html>\n",
    "<html lang=\"en\">\n",
    "<head>\n",
    "    <meta charset=\"utf-8\">    \n",
    "    <title>CatPhotoApp</title>\n",
    "  </head>\n",
    "<body>\n",
    "    <main>\n",
    "      <h1>CatPhotoApp</h1>\n",
    "      <section>\n",
    "        <h2>Cat Photos</h2>\n",
    "        <p>Everyone loves <a href=\"https://cdn.freecodecamp.org/curriculum/cat-photo-app/running-cats.jpg\">cute cats</a> online!</p>\n",
    "        <p>See more <a target=\"_blank\" href=\"https://freecatphotoapp.com\">cat photos</a> in our gallery.</p>\n",
    "        <a href=\"https://freecatphotoapp.com\"><img src=\"https://cdn.freecodecamp.org/curriculum/cat-photo-app/relaxing-cat.jpg\" alt=\"A cute orange cat lying on its back.\"></a>\n",
    "      </section>\n",
    "      <section>\n",
    "        <h2>Cat Lists</h2>\n",
    "        <h3>Things cats love:</h3>\n",
    "        <ul>\n",
    "          <li>catnip</li>\n",
    "          <li>laser pointers</li>\n",
    "          <li>lasagna</li>\n",
    "        </ul>\n",
    "        <figure>\n",
    "          <img src=\"https://cdn.freecodecamp.org/curriculum/cat-photo-app/lasagna.jpg\" alt=\"A slice of lasagna on a plate.\">\n",
    "          <figcaption>Cats <em>love</em> lasagna.</figcaption>  \n",
    "        </figure>\n",
    "        <h3>Top 3 things cats hate:</h3>\n",
    "        <ol>\n",
    "          <li>flea treatment</li>\n",
    "          <li>thunder</li>\n",
    "          <li>other cats</li>\n",
    "        </ol>\n",
    "        <figure>\n",
    "          <img src=\"https://cdn.freecodecamp.org/curriculum/cat-photo-app/cats.jpg\" alt=\"Five cats looking around a field.\">\n",
    "          <figcaption>Cats <strong>hate</strong> other cats.</figcaption>  \n",
    "        </figure>\n",
    "      </section>\n",
    "    </main>\n",
    "    <footer>\n",
    "      <p>\n",
    "        No Copyright - <a href=\"https://www.freecodecamp.org\">freeCodeCamp.org</a>\n",
    "      </p>\n",
    "    </footer>\n",
    "  </body>\n",
    "</html>"
   ]
  },
  {
   "cell_type": "markdown",
   "metadata": {
    "jp-MarkdownHeadingCollapsed": true
   },
   "source": [
    "# 3. HTML fundamentals"
   ]
  },
  {
   "cell_type": "markdown",
   "metadata": {
    "jp-MarkdownHeadingCollapsed": true
   },
   "source": [
    "## 3.1. What are <code>div</code> elements and when should you use them?"
   ]
  },
  {
   "cell_type": "markdown",
   "metadata": {},
   "source": [
    "Now that we understand what HTML is, let's move onto the fun stuff! I am going to look at the Content Division Element - or in other words, the div:"
   ]
  },
  {
   "cell_type": "code",
   "execution_count": null,
   "metadata": {
    "vscode": {
     "languageId": "html"
    }
   },
   "outputs": [],
   "source": [
    "<div></div>"
   ]
  },
  {
   "cell_type": "markdown",
   "metadata": {},
   "source": [
    "I like to think of the <code>div</code> as a beautiful being that can be anything you want it to be. We can give a <code>div</code> a <code>height</code>, we can give it a <code>width</code>, and we can give it a background color using CSS - or in other words styling, which we will cover in lectures coming up.\n",
    "\n",
    "We can also use it in a very basic form without styling, to hold other elements together. So for example, we can create a <code>div</code> and put a heading in it, and put a paragraph in it, and now these two elements will be grouped together:"
   ]
  },
  {
   "cell_type": "code",
   "execution_count": null,
   "metadata": {
    "vscode": {
     "languageId": "html"
    }
   },
   "outputs": [],
   "source": [
    "<div>\n",
    "  <h1>I am a heading</h1>\n",
    "  <p>I am a paragraph</p>\n",
    "</div>"
   ]
  },
  {
   "cell_type": "markdown",
   "metadata": {},
   "source": [
    "Just be aware that there might be better elements to use when grouping these together. You might choose a <code>section</code> element, for example:"
   ]
  },
  {
   "cell_type": "code",
   "execution_count": null,
   "metadata": {
    "vscode": {
     "languageId": "html"
    }
   },
   "outputs": [],
   "source": [
    "<section>\n",
    "  <h1>I am a heading</h1>\n",
    "  <p>I am a paragraph</p>\n",
    "</section>"
   ]
  },
  {
   "cell_type": "markdown",
   "metadata": {},
   "source": [
    "This is because the <code>section</code> element has semantic meaning. Semantics are the meaning of words or phrases in a language. In HTML, which is a language, elements have their own semantic meaning too. So, this means if you use a <code>section</code> element, the browser will pick up its semantic meaning and understand to treat this as a section - on desktops, mobiles, you name it. \n",
    "\n",
    "We will dive into this topic further later on. For now, just know that the <code>div</code>, does not have this. It's like a mysterious ghost. Let's see what else we can do to a <code>div</code>, in the next lecture."
   ]
  },
  {
   "cell_type": "markdown",
   "metadata": {
    "jp-MarkdownHeadingCollapsed": true
   },
   "source": [
    "## 3.2. What are IDs and Classes and when should you use them?"
   ]
  },
  {
   "cell_type": "markdown",
   "metadata": {},
   "source": [
    "Summary: when should you use an <code>id</code> versus a <code>class</code>? \n",
    "- Classes are best used when you want to apply a set of styles to many elements.\n",
    "- If you want to target a specific element, it is best to use <code>id</code> because those values need to be unique."
   ]
  },
  {
   "cell_type": "markdown",
   "metadata": {
    "jp-MarkdownHeadingCollapsed": true
   },
   "source": [
    "### 3.2.1 <code>id</code> values in atributes"
   ]
  },
  {
   "cell_type": "markdown",
   "metadata": {},
   "source": [
    "The <code>id</code> attribute adds a unique identifier to an HTML element. In this example, there is an <code>h1</code> element with an <code>id</code> of <code>title</code>:"
   ]
  },
  {
   "cell_type": "code",
   "execution_count": null,
   "metadata": {
    "vscode": {
     "languageId": "html"
    }
   },
   "outputs": [],
   "source": [
    "<h1 id=\"title\">Movie Review Page</h1>"
   ]
  },
  {
   "cell_type": "markdown",
   "metadata": {},
   "source": [
    "You can reference the <code>id</code> name of <code>title</code> within your JavaScript or CSS. Here's a CSS example referencing the <code>id</code> of <code>title</code> to change the text <code>color</code> to <code>red</code>:"
   ]
  },
  {
   "cell_type": "code",
   "execution_count": null,
   "metadata": {
    "vscode": {
     "languageId": "html"
    }
   },
   "outputs": [],
   "source": [
    "#title {\n",
    "  color: red;\n",
    "}"
   ]
  },
  {
   "cell_type": "markdown",
   "metadata": {},
   "source": [
    "The hash symbol (<code>#</code>) in front of <code>title</code>, tells the computer you want to target an <code>id</code> with that value. <code>id</code> names <em><strong>should not be used more than once</strong></em>, and they should always be unique. The following explame is something you SHOULD NOT DO:"
   ]
  },
  {
   "cell_type": "code",
   "execution_count": null,
   "metadata": {
    "vscode": {
     "languageId": "html"
    }
   },
   "outputs": [],
   "source": [
    "<!-- SHOULD NOT DO -->\n",
    "<h1 id=\"main heading\">Main heading</h1>\n",
    "<h2 id=\"main heading\">Sub heading</h2>"
   ]
  },
  {
   "cell_type": "markdown",
   "metadata": {},
   "source": [
    "Another thing to note about <code>id</code> values, is that they cannot have spaces in them. Here is an example of applying the words <code>main</code> and <code>heading</code> to an <code>id</code> attribute value:"
   ]
  },
  {
   "cell_type": "code",
   "execution_count": null,
   "metadata": {
    "vscode": {
     "languageId": "html"
    }
   },
   "outputs": [],
   "source": [
    "<h1 id=\"main heading\">Main heading</h1>"
   ]
  },
  {
   "cell_type": "markdown",
   "metadata": {},
   "source": [
    "Browsers will see this space as part of the <code>id</code> which will lead to unwanted issues when it comes to styling and scripting. <code>id</code> attribute values should only contain letters, digits, underscores (_), and dashes(-)."
   ]
  },
  {
   "cell_type": "markdown",
   "metadata": {
    "jp-MarkdownHeadingCollapsed": true
   },
   "source": [
    "### 3.2.2 <code>class</code> values in atributes"
   ]
  },
  {
   "cell_type": "markdown",
   "metadata": {},
   "source": [
    "In contrast to the <code>id</code> attribute, the <code>class</code> attribute value <strong>does not need to be unique</strong> and can contain spaces. Here is an example of applying a class called <code>box</code> to a <code>div</code> element:"
   ]
  },
  {
   "cell_type": "code",
   "execution_count": null,
   "metadata": {
    "vscode": {
     "languageId": "html"
    }
   },
   "outputs": [],
   "source": [
    "<div class=\"box\"></div>"
   ]
  },
  {
   "cell_type": "markdown",
   "metadata": {},
   "source": [
    "If you wanted to add multiple class names to an element, you can do so by separating the names by a space. Here is an updated example applying multiple classes to a <code>div</code> element:"
   ]
  },
  {
   "cell_type": "code",
   "execution_count": null,
   "metadata": {
    "vscode": {
     "languageId": "html"
    }
   },
   "outputs": [],
   "source": [
    "<div class=\"box red-box\"></div>"
   ]
  },
  {
   "cell_type": "markdown",
   "metadata": {},
   "source": [
    "To apply a set of styles to that <code>box</code> class, you can reference that class inside your CSS. Here is an example of setting <code>width</code>, <code>height</code>, and <code>border</code> properties to the element with the <code>class</code> name of <code>box</code>:"
   ]
  },
  {
   "cell_type": "code",
   "execution_count": null,
   "metadata": {
    "vscode": {
     "languageId": "html"
    }
   },
   "outputs": [],
   "source": [
    ".box {\n",
    "  width: 200px;\n",
    "  height: 200px;\n",
    "  border: 2px solid black;\n",
    "}"
   ]
  },
  {
   "cell_type": "markdown",
   "metadata": {},
   "source": [
    "The dot symbol (<code>.</code>) in front of <code>box</code>, tells the computer you want to target a <code>class</code> with that value. When the code runs, it will search through all of your HTML document to find all elements with that class name and apply those styles."
   ]
  },
  {
   "cell_type": "markdown",
   "metadata": {
    "jp-MarkdownHeadingCollapsed": true
   },
   "source": [
    "## 3.3. What are HTML entities and what are some common examples?"
   ]
  },
  {
   "cell_type": "markdown",
   "metadata": {},
   "source": [
    "An HTML entity, or character reference, is a set of characters used to represent a reserved character in HTML. In this example, there is a paragraph element with an image element nested inside:"
   ]
  },
  {
   "cell_type": "code",
   "execution_count": null,
   "metadata": {
    "vscode": {
     "languageId": "html"
    }
   },
   "outputs": [],
   "source": [
    "<p>This is an <img /> element</p>"
   ]
  },
  {
   "cell_type": "markdown",
   "metadata": {},
   "source": [
    "The text on the screen should say <code>This is an &lt;img/&gt; element</code>. However, the text currently says <code>This is an element</code>. This is happening because when the HTML parser sees the less than (<code>&lt;</code>) symbol followed by an HTML tag name, it interprets that as an HTML element.\n",
    "\n",
    "To fix this issue, you can use HTML entities. Here is an updated example using the correct HTML entities for the less than and greater than (<code>&gt;</code>) symbols."
   ]
  },
  {
   "cell_type": "code",
   "execution_count": null,
   "metadata": {
    "vscode": {
     "languageId": "html"
    }
   },
   "outputs": [],
   "source": [
    "<p>This is an &lt;img /&gt; element</p>"
   ]
  },
  {
   "cell_type": "markdown",
   "metadata": {},
   "source": [
    "These types of character references are known as named character references. Named references start with an ampersand sign (<code>&</code>) and end with a semicolon (<code>;</code>). By using a named character reference, the HTML parser will not confuse this with an actual HTML element. Here is what the updated paragraph element looks like on the page: <code>This is an &lt;img/&gt; element</code>. Now, users will be able to see the entire image element syntax as you intended it.\n",
    "\n",
    "Another type of character reference would be the decimal numeric reference. Here is an example of using the decimal numeric reference for the less than symbol:"
   ]
  },
  {
   "cell_type": "code",
   "execution_count": null,
   "metadata": {
    "vscode": {
     "languageId": "html"
    }
   },
   "outputs": [],
   "source": [
    "<!-- Son lo mismo que &lt; -->\n",
    "&#60;\n",
    "&#x3C;  "
   ]
  },
  {
   "cell_type": "markdown",
   "metadata": {},
   "source": [
    "This character reference starts with an ampersand sign and hash symbol (<code>#</code>), followed by one or more decimal digits, followed by a semicolon. "
   ]
  },
  {
   "cell_type": "markdown",
   "metadata": {
    "jp-MarkdownHeadingCollapsed": true
   },
   "source": [
    "## 3.4. What is the role of the script element in HTML and how can it be used to link to external JavaScript files?"
   ]
  },
  {
   "cell_type": "markdown",
   "metadata": {},
   "source": [
    "The <code>script</code> element is used to embed executable code. Most developers will use this to execute JavaScript code. JavaScript is used to add interactivity to your web pages. Common examples of using JavaScript include interactive games, image sliders, and dynamic forms that validate user input in real-time. Here is an example of using the <code>script</code> element in an HTML document:"
   ]
  },
  {
   "cell_type": "code",
   "execution_count": null,
   "metadata": {
    "vscode": {
     "languageId": "html"
    }
   },
   "outputs": [],
   "source": [
    "<body>\n",
    "  <script>\n",
    "    alert(\"Welcome to freeCodeCamp\");\n",
    "  </script>\n",
    "</body>"
   ]
  },
  {
   "cell_type": "markdown",
   "metadata": {},
   "source": [
    "In this example, we have an <code>alert</code> to display the message <code>Welcome to freeCodeCamp</code>. When the page first loads, the alert will pop up. Then the user can click on the OK button to dismiss the message.\n",
    "\n",
    "While you can technically write all of your JavaScript code inside the <code>script</code> tags, it is considered best practice to link to an external JavaScript file instead. Here is an example of using the <code>script</code> element to link to an external JavaScript file:"
   ]
  },
  {
   "cell_type": "code",
   "execution_count": null,
   "metadata": {
    "vscode": {
     "languageId": "html"
    }
   },
   "outputs": [],
   "source": [
    "<script src=\"path-to-javascript-file.js\"></script>"
   ]
  },
  {
   "cell_type": "markdown",
   "metadata": {},
   "source": [
    " The reason why it is not encouraged to place all of your JavaScript inside the HTML document is because of separation of concerns. Separation of concerns is a design principle where you separate your programs into distinct sections and have each section address a separate concern. In this case, we want to separate our JavaScript code from our HTML code."
   ]
  },
  {
   "cell_type": "markdown",
   "metadata": {
    "jp-MarkdownHeadingCollapsed": true
   },
   "source": [
    "## 3.5. What is the role of the meta description and how does it affect SEO?"
   ]
  },
  {
   "cell_type": "markdown",
   "metadata": {},
   "source": [
    "SEO, or Search Engine Optimization, is a practice that optimizes web pages so they become more visible and rank higher on search engines. One way to improve your site's SEO, is to provide a short description for the web page using the <code>meta</code> element. Here is an example of using the meta element to set a page description for a gardening site:"
   ]
  },
  {
   "cell_type": "code",
   "execution_count": null,
   "metadata": {
    "vscode": {
     "languageId": "html"
    }
   },
   "outputs": [],
   "source": [
    "<meta\n",
    "  name=\"description\"\n",
    "  content=\"Discover expert tips and techniques for gardening in small spaces, choosing the right plants, and maintaining a thriving garden.\"\n",
    "/>"
   ]
  },
  {
   "cell_type": "markdown",
   "metadata": {},
   "source": [
    "By setting the <code>name</code> attribute to <code>description</code>, it ensures that browsers, search engines, and other web tools correctly interpret this metadata. The <code>content</code> attribute is where you will place your description. It is recommended that you keep your descriptions short and concise. This is because search engines will often truncate the description based on the results page layout.\n",
    "\n",
    "Similar to other types of <code>meta</code> elements, the <code>meta</code> description will not be visible on the web page itself. One place where the page description can be found is in the search engine results page snippet. Here are some examples of page result snippets for freeCodeCamp's subreddit and GitHub repositories:"
   ]
  },
  {
   "cell_type": "markdown",
   "metadata": {},
   "source": [
    "<img src=\"img/meta_elements_description.png\" />"
   ]
  },
  {
   "cell_type": "markdown",
   "metadata": {},
   "source": [
    "In the examples, each of the page descriptions are located just beneath the site links. Within a couple of seconds, users can get a general sense of what the page is about and decide to click on the links for more information.\n",
    "\n",
    "Even though <code>meta</code> descriptions won't directly affect a site's ranking on search engine, having a strong description could result in more traffic to your website."
   ]
  },
  {
   "cell_type": "markdown",
   "metadata": {
    "jp-MarkdownHeadingCollapsed": true
   },
   "source": [
    "## 3.6. What is the role of Open Graph Tags (<code>og:</code>) and how do they affect SEO?"
   ]
  },
  {
   "cell_type": "markdown",
   "metadata": {},
   "source": [
    "The open graph protocol enables you to control how your website's content appears across various social media platforms, such as Facebook, LinkedIn, and many more. By setting these open graph properties, you can entice users to want to click and engage with your content. You can set these properties through a collection of <code>meta</code> elements inside your HTML <code>head</code> section.\n",
    "\n",
    "The first important OG property to include would be the <code>title</code>. Here is an example of setting the OG <code>title</code> for the freeCodeCamp homepage:"
   ]
  },
  {
   "cell_type": "code",
   "execution_count": null,
   "metadata": {
    "vscode": {
     "languageId": "html"
    }
   },
   "outputs": [],
   "source": [
    "<meta content=\"freeCodeCamp.org\" property=\"og:title\" />"
   ]
  },
  {
   "cell_type": "markdown",
   "metadata": {},
   "source": [
    "For the <code>property</code> attribute, you will need to specify that it is <code>og:title</code>. The <code>content</code> attribute is where you will write the title you want displayed for social media sites.\n",
    "\n",
    "The next important OG property would be the <code>type</code>. Here is an example of using the OG <code>type</code> for the freeCodeCamp homepage:"
   ]
  },
  {
   "cell_type": "code",
   "execution_count": null,
   "metadata": {
    "vscode": {
     "languageId": "html"
    }
   },
   "outputs": [],
   "source": [
    "<meta property=\"og:type\" content=\"website\" />"
   ]
  },
  {
   "cell_type": "markdown",
   "metadata": {},
   "source": [
    "The <code>type</code> property is used to represent the type of content being shared on social media. Examples of this content include articles, websites, videos, or music.\n",
    "\n",
    "The third important OG property would be the <code>image</code>. Here is an example of setting the OG <code>image</code> for the freeCodeCamp homepage:"
   ]
  },
  {
   "cell_type": "code",
   "execution_count": null,
   "metadata": {
    "vscode": {
     "languageId": "html"
    }
   },
   "outputs": [],
   "source": [
    "<meta\n",
    "  content=\"https://cdn.freecodecamp.org/platform/universal/fcc_meta_1920X1080-indigo.png\"\n",
    "  property=\"og:image\"\n",
    "/>"
   ]
  },
  {
   "cell_type": "markdown",
   "metadata": {},
   "source": [
    "In this example, the open graph image is pointing to the freeCodeCamp logo. All of these images should be high quality with good dimensions and ratios. Most social media platforms will include criteria for image requirements to help you ensure that your content displays well on their site. For example, the developers.facebook.com documentation page states:\n",
    "\n",
    "\"use images that are at least 1200 by 630 pixels for the best display on high resolution devices. At the minimum, you should use images that are 600 by 315 pixels to display link page posts with larger images.\"\n",
    "\n",
    "The fourth important OG property would be the <code>url</code>. Here is an example of setting the OG <code>url</code> for the freeCodeCamp homepage:"
   ]
  },
  {
   "cell_type": "code",
   "execution_count": null,
   "metadata": {
    "vscode": {
     "languageId": "html"
    }
   },
   "outputs": [],
   "source": [
    "<meta property=\"og:url\" content=\"https://www.freecodecamp.org\" />"
   ]
  },
  {
   "cell_type": "markdown",
   "metadata": {},
   "source": [
    "There are many more OG properties that you can set, like <code>description</code>, <code>audio</code>, <code>video</code> and <code>locale</code>. However, the open graph <code>url</code>, <code>image</code>, <code>type</code>, and <code>title</code> are the most important ones to include.\n",
    "\n",
    "So how do these open graph properties affect Search Engine Optimization? When your content is shared on social media, well-crafted OG properties can enhance the appearance for your content in users' feeds. This can lead to higher click-through rates which could signal to search engines that your content is relevant and engaging."
   ]
  },
  {
   "cell_type": "markdown",
   "metadata": {
    "jp-MarkdownHeadingCollapsed": true
   },
   "source": [
    "# 4. Example: Build a Travel Agency Page"
   ]
  },
  {
   "cell_type": "code",
   "execution_count": null,
   "metadata": {
    "vscode": {
     "languageId": "html"
    }
   },
   "outputs": [],
   "source": [
    "<!DOCTYPE html>\n",
    "<html lang=\"en\">\n",
    "  <head>\n",
    "    <meta charset=\"utf-8\">\n",
    "    <title>Travel Agency Page</title>\n",
    "    <meta \n",
    "      name=\"description\" \n",
    "      content=\"Viaja con nosotros a tu destino soñado al mejor precio.\"\n",
    "    />\n",
    "  </head>\n",
    "  <body>\n",
    "    <h1>Welcome to Italy</h1>\n",
    "    <p>\n",
    "      Art, folklore, food, nature, and more. Choose among our wide selection of guided tours and excursions, \n",
    "      and live an unforgettable experience exploring Italy.\n",
    "    </p>\n",
    "    <h2>Packages</h2>\n",
    "    <p>\n",
    "      We offer an extensive range of holiday solutions to accommodate the needs of all our clients. From daily \n",
    "      excursions in the most beautiful cities, to thorough tours of hidden villages and medieval towns to discover \n",
    "      Italy's lesser-known sides.\n",
    "    </p>\n",
    "    <ul>\n",
    "      <li><a target=\"_blank\" href=\"https://www.freecodecamp.org/learn\">Group Travels</a></li>\n",
    "      <li><a target=\"_blank\" href=\"https://www.freecodecamp.org/learn\">Private Tours</a></li>\n",
    "    </ul>\n",
    "    <h2>Top Itineraries</h2>\n",
    "    <figure>\n",
    "      <a target=\"_blank\" href=\"https://www.freecodecamp.org/learn\">\n",
    "        <img src=\"https://cdn.freecodecamp.org/curriculum/labs/colosseo.jpg\" alt=\"Coliseo romano\">\n",
    "      </a target=\"_blank\" href=\"https://www.freecodecamp.org/learn\">\n",
    "      <figcaption>Rome and Center Italy</figcaption>\n",
    "    </figure>\n",
    "    <figure>\n",
    "      <a target=\"_blank\" href=\"https://www.freecodecamp.org/learn\">\n",
    "        <img src=\"https://cdn.freecodecamp.org/curriculum/labs/alps.jpg\" alt=\"Alpes italianos\">\n",
    "      </a>\n",
    "      <figcaption>Nature and National Parks</figcaption>\n",
    "    </figure>\n",
    "    <figure>\n",
    "      <a target=\"_blank\" href=\"https://www.freecodecamp.org/learn\">\n",
    "        <img src=\"https://cdn.freecodecamp.org/curriculum/labs/sea.jpg\" alt=\"Costa italiana\">\n",
    "      </a>\n",
    "      <figcaption>South Italy and Islands</figcaption>\n",
    "    </figure>\n",
    "  </body>\n",
    "</html>"
   ]
  },
  {
   "cell_type": "markdown",
   "metadata": {
    "jp-MarkdownHeadingCollapsed": true
   },
   "source": [
    "# 5. Working with Media"
   ]
  },
  {
   "cell_type": "markdown",
   "metadata": {
    "jp-MarkdownHeadingCollapsed": true
   },
   "source": [
    "## 5.1. What are replaced elements and what are some examples?"
   ]
  },
  {
   "cell_type": "markdown",
   "metadata": {},
   "source": [
    "A replaced element is an element whose content is determined by an external resource rather than by CSS itself. CSS, or cascading stylesheets, is used to add styles to a web page. Common examples of replaced elements include the image, iframe, and video elements.\n",
    "\n",
    "With replaced elements, you can control the position, or layout of an element. But your CSS cannot directly modify the content of that element. This might be easier to explain with some examples. Consider the image element, which embeds an image on your web page:"
   ]
  },
  {
   "cell_type": "code",
   "execution_count": null,
   "metadata": {
    "vscode": {
     "languageId": "html"
    }
   },
   "outputs": [],
   "source": [
    "<img src=\"example-img-url\" alt=\"Descriptive text goes here\">"
   ]
  },
  {
   "cell_type": "markdown",
   "metadata": {},
   "source": [
    "The element itself is replaced with the external object: the image. Your CSS can control things like the positioning of the image, or apply a filter to it, but you cannot actually modify the image itself. A more robust example might be the <code>iframe</code> element, which embeds an external site on your web page:"
   ]
  },
  {
   "cell_type": "code",
   "execution_count": null,
   "metadata": {
    "vscode": {
     "languageId": "html"
    }
   },
   "outputs": [],
   "source": [
    "<iframe src=\"https://www.example.com\" title=\"Example Site\"></iframe>"
   ]
  },
  {
   "cell_type": "markdown",
   "metadata": {},
   "source": [
    "Common examples for using the <code>iframe</code> element would be to embed Maps or YouTube videos onto the page. The element itself is replaced with the external object: the site. Your CSS can change the positioning of the embedded site, but you cannot modify the site's contents. To dive a bit further, if the embedded site has an <code>h1</code> element, your CSS would not be able to style that <code>h1</code> element. You cannot change the size, font color, and so on.\n",
    "\n",
    "There are some other replaced elements, such as <code>video</code>, and <code>embed</code>. And some elements behave as replaced elements under specific circumstances. Here's an example of an <code>input</code> element with the <code>type</code> attribute set to <code>image</code>:"
   ]
  },
  {
   "cell_type": "code",
   "execution_count": null,
   "metadata": {
    "vscode": {
     "languageId": "html"
    }
   },
   "outputs": [],
   "source": [
    "<input type=\"image\" alt=\"Descriptive text goes here\" src=\"example-img-url\">"
   ]
  },
  {
   "cell_type": "markdown",
   "metadata": {},
   "source": [
    "This type of <code>input</code> is considered to be a replaced element, but other <code>input</code> types like <code>text</code>, or <code>email</code> are not replaced elements."
   ]
  },
  {
   "cell_type": "markdown",
   "metadata": {
    "jp-MarkdownHeadingCollapsed": true
   },
   "source": [
    "## 5.2. What are common ways to optimize media assets?"
   ]
  },
  {
   "cell_type": "markdown",
   "metadata": {},
   "source": [
    "What are common ways to optimize media assets?\n",
    "\n",
    "There are three tools to consider when using media, such as images, on your web pages: the size, the format, and the compression.\n",
    "\n",
    "Let's talk about the size of your images first. When you are building a website, you'll often style images to display in a specific size. For example, you might have an image display at a 640x480 resolution. 640 represents the width while 480 represents the height in pixels. When preparing your image you want to scale it to a 640x480 size to match that styling. If you serve an image that is 1920x1080 but you are styling it to be much smaller, you're requiring your users to download unnecessary data. A smaller resolution results in a smaller file size.\n",
    "\n",
    "The next thing to consider is your file format. Two of the most common file formats are PNG and JPG, but these are no longer the most ideal formats for serving images. Unless you need support for older browsers, you should consider using a more optimized format, like WEBP or AVIF.\n",
    "\n",
    "Finally, you can run compression algorithms on your images. A compression algorithm is used to reduce the size for files or data. There are options like pngcrush to compress your images locally, or you can use online compression tools. However, it's worth noting that specific file formats, such as JPG, are not lossless. Lossless means that the original data can be perfectly reconstructed from the compressed data. If you try to compress a JPG image, it will result in a degraded quality. You should keep all these things in mind when selecting images for your web pages."
   ]
  },
  {
   "cell_type": "markdown",
   "metadata": {
    "jp-MarkdownHeadingCollapsed": true
   },
   "source": [
    "## 5.3. What are the different types of images licenses and how do they work?"
   ]
  },
  {
   "cell_type": "markdown",
   "metadata": {},
   "source": [
    "Images are considered intellectual property, this means that they are protected by copyright regulations, most often belonging to the creator. By default, images are released as all rights reserved. The creator, or publisher sometimes, holds all copyright for the image.\n",
    "\n",
    "This means that you cannot use them in your web page unless you do one of three things: \n",
    "- obtain written permission from the copyright holder\n",
    "- purchase a license from the copyright holder\n",
    "- incorporate the image in a way that falls under fair use.\n",
    "\n",
    "That third point is a bit tricky. Fair use requires that your use of the image is both limited and transformative. Some examples of fair use would be to comment on or review the art or create a parody of the image.\n",
    "\n",
    "Some images might be released under a permissive license, like a Creative Commons license, or the BSD license that freeCodeCamp uses. These images are available for use in your website, but you'll need to read the license to understand the rules you need to follow when using these images. For example, you might be required to make your website open source, or you may not be permitted to modify the image in any way.\n",
    "\n",
    "Finally, some images may be released to the public domain. An image under the public domain has no copyright attached to it and is free to be used without any restrictions. Images licensed specifically under the Creative Commons 0 license are considered public domain.\n",
    "\n",
    "Most search engines will allow you to filter image results by a license. There are also sites like Pixabay and Unsplash, which offer free-to-use images. Always be mindful of the copyright and licensing when you use an image in your website."
   ]
  },
  {
   "cell_type": "markdown",
   "metadata": {
    "jp-MarkdownHeadingCollapsed": true
   },
   "source": [
    "## 5.4. What are SVGs and when should you use them?"
   ]
  },
  {
   "cell_type": "markdown",
   "metadata": {},
   "source": [
    "First, you need to understand how images work. Common image formats like PNG and JPG are classified as raster formats. This essentially means that they are pixel-based, with the data tracking the color value in each pixel.\n",
    "\n",
    "A large downside of raster based images is that they do not upscale well. If you've ever tried to make a PNG larger, you may have seen that it becomes pixelated, or blurry.\n",
    "\n",
    "An SVG is a different kind of image. SVG stands for a scalable vector graphic. A vector graphic tracks data based on paths and equations to plot points, lines, and curves. What this really means is that a vector graphic, like an SVG, can be scaled to any size without impacting the quality.\n",
    "\n",
    "SVGs specifically have the added benefit of storing data in XML. This means you can use them directly in your code as raw HTML with the <code>svg</code> element. It also means you can programmatically change the color of the image.\n",
    "\n",
    "So when would you want to use an SVG? A great use case is for icons. If you want to create custom bullet points, or add icons to your links to represent social media platforms, using SVGs is the best approach. One of the most popular icon libraries, Font Awesome, uses SVG images for their icons. SVGs are also great for webpage logos, because they scale perfectly. They allow you to adapt your layout to any responsive design you need. Next time you have an SVG locally, try opening it with a text editor and playing with the code."
   ]
  },
  {
   "cell_type": "markdown",
   "metadata": {
    "jp-MarkdownHeadingCollapsed": true
   },
   "source": [
    "## 5.5. What are the role of the HTML audio and video elements and how do they work?"
   ]
  },
  {
   "cell_type": "markdown",
   "metadata": {},
   "source": [
    "The <code>audio</code> and <code>video</code> elements allow you to add sound and video content to your HTML documents. The <code>audio</code> element supports popular audio formats like mp3, wav, and ogg. The <code>video</code> element supports mp4, ogg, and webm formats.\n",
    "\n",
    "To include audio content on your web page, you can use the <code>audio</code> element with the <code>src</code> attribute pointing to the location of your audio file:"
   ]
  },
  {
   "cell_type": "code",
   "execution_count": null,
   "metadata": {
    "vscode": {
     "languageId": "html"
    }
   },
   "outputs": [],
   "source": [
    "<audio src=\"CrystalizeThatInnerChild.mp3\"></audio>"
   ]
  },
  {
   "cell_type": "markdown",
   "metadata": {},
   "source": [
    "If you try to run this example, you'll see that nothing shows up on the page. However, if you inspect the page with the developer tools, you'll see the <code>audio</code> element is indeed on the page. If you want to see the audio player on the page, then you can add the <code>audio</code> element with the <code>controls</code> attribute:"
   ]
  },
  {
   "cell_type": "code",
   "execution_count": null,
   "metadata": {
    "vscode": {
     "languageId": "html"
    }
   },
   "outputs": [],
   "source": [
    "<audio src=\"CrystalizeThatInnerChild.mp3\" controls></audio>"
   ]
  },
  {
   "cell_type": "markdown",
   "metadata": {},
   "source": [
    "The <code>controls</code> attribute enables users to manage audio playback, including adjusting volume, and pausing, or resuming playback. The <code>controls</code> attribute is a boolean attribute that can be added to an element to enable built-in playback controls. If omitted, no controls will be shown.\n",
    "\n",
    "Apart from the <code>src</code> and <code>controls</code> attributes, there are several other attributes that enhance the functionality of the <code>audio</code> element. The <code>loop</code> attribute is a boolean attribute that makes the audio replay continuously. Here's an example of using the <code>loop</code> attribute to play one of Quincy Larson's songs titled \"Can't stay down\":"
   ]
  },
  {
   "cell_type": "code",
   "execution_count": null,
   "metadata": {
    "vscode": {
     "languageId": "html"
    }
   },
   "outputs": [],
   "source": [
    "<audio\n",
    "  src=\"https://cdn.freecodecamp.org/curriculum/js-music-player/can't-stay-down.mp3\"\n",
    "  loop\n",
    "  controls\n",
    "></audio>"
   ]
  },
  {
   "cell_type": "markdown",
   "metadata": {},
   "source": [
    "When the song reaches the end, it will loop back around and play it again from the beginning. Another attribute you can use is the <code>muted</code> attribute. When present in the <code>audio</code> element, this boolean attribute will start the audio in a muted state. Here's an example of using the <code>muted</code> attribute:"
   ]
  },
  {
   "cell_type": "code",
   "execution_count": null,
   "metadata": {
    "vscode": {
     "languageId": "html"
    }
   },
   "outputs": [],
   "source": [
    "<audio\n",
    "  src=\"https://cdn.freecodecamp.org/curriculum/js-music-player/can't-stay-down.mp3\"\n",
    "  loop\n",
    "  controls\n",
    "  muted\n",
    "></audio>"
   ]
  },
  {
   "cell_type": "markdown",
   "metadata": {},
   "source": [
    "When you start the song in the browser, you'll not hear anything. To hear the music you will need to click on the volume icon.\n",
    "\n",
    "When it comes to audio file types, there are differences in which browsers support which type. To accommodate this, you can use <code>source</code> elements inside the <code>audio</code> element and the browser will select the first source that it understands. Here's an example of using multiple <code>source</code> elements for an <code>audio</code> element:"
   ]
  },
  {
   "cell_type": "code",
   "execution_count": null,
   "metadata": {
    "vscode": {
     "languageId": "html"
    }
   },
   "outputs": [],
   "source": [
    "<audio controls>\n",
    "  <source src=\"audio.ogg\" type=\"audio/ogg\" />\n",
    "  <source src=\"audio.wav\" type=\"audio/wav\" />\n",
    "  <source src=\"audio.mp3\" type=\"audio/mpeg\" />\n",
    "</audio>"
   ]
  },
  {
   "cell_type": "markdown",
   "metadata": {},
   "source": [
    "The browser will first start with the ogg type, and if it can't play the audio, then it'll move down to the next type in the list.\n",
    "\n",
    "All the attributes we have learned so far are also supported in the <code>video</code> element. Here's an example of using a <code>video</code> element with the <code>loop</code>, <code>muted</code>, and <code>controls</code> attributes:"
   ]
  },
  {
   "cell_type": "code",
   "execution_count": null,
   "metadata": {
    "vscode": {
     "languageId": "html"
    }
   },
   "outputs": [],
   "source": [
    "<video\n",
    "  src=\"https://archive.org/download/BigBuckBunny_124/Content/big_buck_bunny_720p_surround.mp4\"\n",
    "  loop\n",
    "  controls\n",
    "  muted\n",
    "></video>"
   ]
  },
  {
   "cell_type": "markdown",
   "metadata": {},
   "source": [
    "For the <code>src</code>, or source attribute, we are using a video called \"Big Buck Bunny\" from archive.org. If you wanted to display an image while the video is downloading, you can use the <code>poster</code> attribute. This attribute is not available for <code>audio</code> elements and is unique to the <code>video</code> element. Here's an example of using the <code>poster</code> attribute with content provided by peach.blender.org:"
   ]
  },
  {
   "cell_type": "code",
   "execution_count": null,
   "metadata": {
    "vscode": {
     "languageId": "html"
    }
   },
   "outputs": [],
   "source": [
    "<video\n",
    "  src=\"https://archive.org/download/BigBuckBunny_124/Content/big_buck_bunny_720p_surround.mp4\"\n",
    "  loop\n",
    "  controls\n",
    "  muted\n",
    "  poster=\"https://peach.blender.org/wp-content/uploads/title_anouncement.jpg?x11217\"\n",
    "  width=\"620\"\n",
    "></video>"
   ]
  },
  {
   "cell_type": "markdown",
   "metadata": {},
   "source": [
    "This example is also using the <code>width</code> attribute to set the width to 620 pixels so the video fits better on the screen."
   ]
  },
  {
   "cell_type": "markdown",
   "metadata": {
    "jp-MarkdownHeadingCollapsed": true
   },
   "source": [
    "## 5.6. How to embed videos using <code>iframe</code> element?"
   ]
  },
  {
   "cell_type": "markdown",
   "metadata": {},
   "source": [
    "First, what exactly is the <code>iframe</code> element? <code>iframe</code> stands for inline frame. It's an inline element used to embed other HTML content directly within the HTML page. That HTML content could be a video, map, another HTML element, or even other web pages. Here's what the syntax of the <code>iframe</code> element looks like:"
   ]
  },
  {
   "cell_type": "code",
   "execution_count": null,
   "metadata": {
    "vscode": {
     "languageId": "html"
    }
   },
   "outputs": [],
   "source": [
    "<iframe\n",
    "  src=\"video-url\"\n",
    "  width=\"width-value\"\n",
    "  height=\"height-value\"\n",
    "  allowfullscreen\n",
    "></iframe>"
   ]
  },
  {
   "cell_type": "markdown",
   "metadata": {},
   "source": [
    "The <code>src</code> attribute specifies the URL of the page you want to embed. The <code>width</code> attribute specifies the width of the <code>iframe</code>. The <code>height</code> attribute specifies the height of the <code>iframe</code>. The <code>allowfullscreen</code> attribute allows the user to display the <code>iframe</code> in full screen mode. It's also a good practice to specify a <code>title</code> attribute for the <code>iframe</code>, as it's important for accessibility.\n",
    "\n",
    "To embed a video within an <code>iframe</code> you can copy it directly from popular video services like YouTube and Vimeo, or define it yourself with the <code>src</code> attribute pointing to the URL of that video. Here's an example of embedding a popular freeCodeCamp course from YouTube:"
   ]
  },
  {
   "cell_type": "code",
   "execution_count": null,
   "metadata": {
    "vscode": {
     "languageId": "html"
    }
   },
   "outputs": [],
   "source": [
    "<h1>A freeCodeCamp YouTube Video Embedded with the iframe Element</h1>\n",
    "\n",
    "<iframe\n",
    "  width=\"560\"\n",
    "  height=\"315\"\n",
    "  src=\"https://www.youtube.com/embed/PkZNo7MFNFg?si=-UBVIUNM3csdeiWF\"\n",
    "  title=\"YouTube video player\"\n",
    "  allow=\"accelerometer; autoplay; clipboard-write; encrypted-media; gyroscope; picture-in-picture; web-share\"\n",
    "  referrerpolicy=\"strict-origin-when-cross-origin\"\n",
    "  allowfullscreen\n",
    "></iframe>"
   ]
  },
  {
   "cell_type": "markdown",
   "metadata": {},
   "source": [
    "You can then customize the <code>iframe</code> to your needs or even define your own by copying the link to the YouTube video and pasting it in as the URL value. The caveat is that you must replace https://youtu.be with <b>https://youtube.com/embed/</b>.\n",
    "\n",
    "youtu.be is the domain when you copy the share link and youtube.com/embed/ is the domain required for embedding videos with the <b>iframe</b> element. Here's an example of that:"
   ]
  },
  {
   "cell_type": "code",
   "execution_count": null,
   "metadata": {
    "vscode": {
     "languageId": "html"
    }
   },
   "outputs": [],
   "source": [
    "<iframe\n",
    "  src=\"https://youtube.com/embed/gp5H0Vw39yw?si=Rb_2nDK6abv1iIAM\"\n",
    "  title=\"freeCodeCamp Typescript Course\"\n",
    "  width=\"500\"\n",
    "  height=\"285\"\n",
    "  allowfullscreen\n",
    "></iframe>"
   ]
  },
  {
   "cell_type": "markdown",
   "metadata": {},
   "source": [
    "Note that the video can come from anywhere. It doesn't have to come from video services like YouTube and Vimeo. Here's a video from Pixabay embedded with the <code>iframe</code> element:"
   ]
  },
  {
   "cell_type": "code",
   "execution_count": null,
   "metadata": {
    "vscode": {
     "languageId": "html"
    }
   },
   "outputs": [],
   "source": [
    "<h1>A Video from Pixabay Embedded with the iframe Element</h1>\n",
    "\n",
    "<iframe\n",
    "  src=\"https://cdn.pixabay.com/video/2022/07/24/125310-733046613_large.mp4\"\n",
    "  width=\"500\"\n",
    "  height=\"285\"\n",
    "></iframe>"
   ]
  },
  {
   "cell_type": "markdown",
   "metadata": {},
   "source": [
    "Don't forget you can also embed a map, another web page, or direct HTML within the <code>iframe</code> element. Here's a map I was able to embed with the <code>iframe</code> element:"
   ]
  },
  {
   "cell_type": "code",
   "execution_count": null,
   "metadata": {
    "vscode": {
     "languageId": "html"
    }
   },
   "outputs": [],
   "source": [
    "<h1>A Map from Openstreetmap.org Embedded with the iframe Element</h1>\n",
    "\n",
    "<iframe\n",
    "  width=\"425\"\n",
    "  height=\"350\"\n",
    "  src=\"https://www.openstreetmap.org/export/embed.html?bbox=3.006134033203125%2C6.150112578753815%2C3.6357879638671875%2C6.749850810550778&amp;layer=mapnik\"\n",
    "  style=\"border: 1px solid rgb(255, 1, 1)\"\n",
    ">\n",
    "</iframe>\n",
    "<br />\n",
    "<small>\n",
    "  <a href=\"https://www.openstreetmap.org/#map=11/6.4501/3.3210\">\n",
    "    View Larger Map\n",
    "  </a>\n",
    "</small>"
   ]
  },
  {
   "cell_type": "markdown",
   "metadata": {},
   "source": [
    "If you want to embed direct HTML within the <code>iframe</code> element you have to use the <code>srcdoc</code> attribute instead of <code>src</code>."
   ]
  },
  {
   "cell_type": "markdown",
   "metadata": {
    "jp-MarkdownHeadingCollapsed": true
   },
   "source": [
    "# 6. Example: Build a Video Compliation Page"
   ]
  },
  {
   "cell_type": "code",
   "execution_count": null,
   "metadata": {
    "vscode": {
     "languageId": "html"
    }
   },
   "outputs": [],
   "source": [
    "<!DOCTYPE html>\n",
    "<html lang=\"en\">\n",
    "\n",
    "<head>\n",
    "    <meta charset=\"utf-8\">\n",
    "    <title>Video Compilation Page</title>\n",
    "</head>\n",
    "\n",
    "<body>\n",
    "    <main>\n",
    "        <h1>Front End Web Development</h1>\n",
    "        <p>\n",
    "            Front End Web Development involves designing and building user interfaces of websites using HTML, \n",
    "            CSS, and JavaScript. It focuses on creating visually appealing, interactive, and user-friendly \n",
    "            websites. Front End developers ensure accessibility, performance optimization, and adherence to \n",
    "            web standards, blending creativity with technical expertise.\n",
    "        </p>\n",
    "\n",
    "        <section>\n",
    "            <h2>HTML</h2>\n",
    "            <p>\n",
    "                HTML, or HyperText Markup Language, forms the backbone of web pages by defining their basic \n",
    "                structure and layout. It uses a series of elements to display text, images, lists, tables, \n",
    "                and other static content on a web page.\n",
    "            </p>\n",
    "            <iframe\n",
    "                src=\"https://www.youtube.com/embed/watch?v=rJO84scyxqo&list=RDrJO84scyxqo&start_radio=1\"\n",
    "                title=\"YouTube video player\"\n",
    "                height=\"315\"\n",
    "                width=\"560\"\n",
    "            ></iframe>\n",
    "        </section>\n",
    "            \n",
    "        <section>\n",
    "            <h2>CSS</h2>\n",
    "            <p>\n",
    "                CSS, or Cascading Style Sheets, is used to control the visual presentation of HTML elements \n",
    "                on a web page. It allows for customized styling, including colors, fonts, layouts, and \n",
    "                spacing, making websites visually appealing. CSS also supports responsive design, ensuring \n",
    "                web pages look good on all devices.\n",
    "            </p>\n",
    "            <iframe\n",
    "                src=\"https://www.youtube.com/embed/watch?v=rJO84scyxqo&list=RDrJO84scyxqo&start_radio=1\"\n",
    "                title=\"YouTube video player\"\n",
    "                height=\"315\"\n",
    "                width=\"560\"\n",
    "            ></iframe>\n",
    "        </section>\n",
    "            \n",
    "        <section>\n",
    "            <h2>JavaScript</h2>\n",
    "            <p>\n",
    "                JavaScript is a programming language that adds interactivity to static web pages, enabling \n",
    "                dynamic content updates, form validations, animations, and responsive behaviors based on \n",
    "                user interactions and events.\n",
    "            </p>\n",
    "            <iframe\n",
    "                src=\"https://www.youtube.com/embed/watch?v=rJO84scyxqo&list=RDrJO84scyxqo&start_radio=1\"\n",
    "                title=\"YouTube video player\"\n",
    "                height=\"315\"\n",
    "                width=\"560\"\n",
    "            ></iframe>\n",
    "        </section>\n",
    "    </main>\n",
    "</body>\n",
    "\n",
    "</html>"
   ]
  },
  {
   "cell_type": "markdown",
   "metadata": {
    "jp-MarkdownHeadingCollapsed": true
   },
   "source": [
    "# 7. Working with links"
   ]
  },
  {
   "cell_type": "markdown",
   "metadata": {
    "jp-MarkdownHeadingCollapsed": true
   },
   "source": [
    "## 7.1. What are the different target attribute types and how do they work?"
   ]
  },
  {
   "cell_type": "markdown",
   "metadata": {},
   "source": [
    "You may have seen the <code>target</code> attribute on anchor elements, or links. This important attribute tells the browser where to open the URL for the anchor element:"
   ]
  },
  {
   "cell_type": "code",
   "execution_count": null,
   "metadata": {
    "vscode": {
     "languageId": "html"
    }
   },
   "outputs": [],
   "source": [
    "<a href=\"https://freecodecamp.org\" target=\"_blank\">Visit freeCodeCamp</a>"
   ]
  },
  {
   "cell_type": "markdown",
   "metadata": {},
   "source": [
    "There are four important possible values for this attribute. Note that each value is preceded by an underscore.\n",
    "\n",
    "1. The first value is <code>_self</code>, which is the default value. This opens the link in the current browsing context. In most cases, this will be the current tab or window.<br><br>\n",
    "2. The second value is <code>_blank</code>, which opens the link in a new browsing context. Typically, this will open in a new tab. But some users might configure their browsers to open a new window instead.<br><br>\n",
    "3. The third value is <code>_parent</code>, which opens the link in the parent of the current context. For example, if your website has an <code>iframe</code>, a <code>_parent</code> value in that <code>iframe</code> would open in your website's tab/window, not in the embedded frame.<br><br>\n",
    "4. The fourth value is <code>_top</code>, which opens the link in the top-most browsing context - think \"the parent of the parent\". This is similar to <code>_parent</code>, but the link will always open in the full browser tab/window, even for nested embedded frames.<br><br>\n",
    "5. There is a fifth value, called <code>_unfencedTop</code>, which is currently used for the experimental FencedFrame API. At the time of this video, you probably won't have a reason to use this one yet.\n",
    "\n",
    "Selecting the right <code>target</code> value to control where your users end up is an important consideration when creating a website."
   ]
  },
  {
   "cell_type": "markdown",
   "metadata": {
    "jp-MarkdownHeadingCollapsed": true
   },
   "source": [
    "## 7.2. What is the difference between absolute and relative paths?"
   ]
  },
  {
   "cell_type": "markdown",
   "metadata": {},
   "source": [
    "A path is a string that specifies the location of a file or directory in a file system. In web development, paths let developers link to resources like images, stylesheets, scripts, and other web pages. There are absolute and relative paths - both are essential when specifying file locations within a file system. Let's look at the two so you can decide which one of them to use and when.\n",
    "\n",
    "An absolute path is a complete link to a resource. It starts from the root directory, includes every other directory, and finally the filename and extension. The \"root directory\" refers to the top-level directory or folder in a hierarchy.\n",
    "\n",
    "An absolute path also includes the protocol - which could be <code>http</code>, <code>https</code>, and <code>file</code> and the domain name if the resource is on the web. Here's an example of an absolute path that links to the freeCodeCamp logo:"
   ]
  },
  {
   "cell_type": "code",
   "execution_count": null,
   "metadata": {
    "vscode": {
     "languageId": "html"
    }
   },
   "outputs": [],
   "source": [
    "<a href=\"https://design-style-guide.freecodecamp.org/img/fcc_secondary_small.svg\">\n",
    "  View fCC Logo\n",
    "</a>"
   ]
  },
  {
   "cell_type": "markdown",
   "metadata": {},
   "source": [
    "In this example, the protocol is <code>https</code>, the domain name is <code>design-style-guide.freecodecamp.org</code>, and the filename is <code>fcc_secondary_small.svg</code>.\n",
    "\n",
    "Now, what if the resource you want to link to using an absolute path is on your local machine? Here's how to link to the <code>about.html</code> file with an absolute path:"
   ]
  },
  {
   "cell_type": "code",
   "execution_count": null,
   "metadata": {
    "vscode": {
     "languageId": "html"
    }
   },
   "outputs": [],
   "source": [
    "<p>\n",
    "  Read more on the\n",
    "  <a\n",
    "    href=\"/Users/user/Desktop/fCC/script-code/absolute-vs-relative-paths/pages/about.html\"\n",
    "    >About Page</a\n",
    "    >\n",
    "</p>"
   ]
  },
  {
   "cell_type": "markdown",
   "metadata": {},
   "source": [
    "It looks like this because we are going into a folder called <code>Users</code>, then into a folder called <code>user</code>, then into a folder called <code>Desktop</code>, then into a folder called <code>fCC</code>, then into a folder called <code>script-code</code>, then into a folder called <code>absolute-vs-relative-paths</code>, then into a folder called <code>pages</code> to finally get the <code>about.html</code> file.\n",
    "\n",
    "Here's what the absolute URL looks like in the browser address bar:"
   ]
  },
  {
   "cell_type": "code",
   "execution_count": null,
   "metadata": {
    "vscode": {
     "languageId": "html"
    }
   },
   "outputs": [],
   "source": [
    "file:///Users/user/Desktop/fCC/script-code/absolute-vs-relative-paths/pages/about.html"
   ]
  },
  {
   "cell_type": "markdown",
   "metadata": {},
   "source": [
    "The URL includes the protocol, <code>file://</code>. It also include the path, which looks like this: <code>/Users/user/Desktop/fCC/script-code/absolute-vs-relative-paths/pages/</code>, and represents the series of folders that lead to the file. And finally, it also includes the <code>about.html</code>, which is the filename and the extension.\n",
    "\n",
    "Now, lets look at the relative path. A relative path specifies the location of a file relative to the directory of the current file. It does not include the protocol or the domain name, making it shorter and more flexible for internal links within the same website. Here's an example of linking to the <code>about.html</code> page from the <code>contact.html</code> page, both of which are in the same folder:"
   ]
  },
  {
   "cell_type": "code",
   "execution_count": null,
   "metadata": {
    "vscode": {
     "languageId": "html"
    }
   },
   "outputs": [],
   "source": [
    "<p>\n",
    "  Read more on the\n",
    "  <a href=\"about.html\">About Page</a>\n",
    "</p>"
   ]
  },
  {
   "cell_type": "markdown",
   "metadata": {},
   "source": [
    "So imagine you are on the <code>contact.html</code> page, and because the <code>about.html</code> page is in the same place, you simply get the filename. This is an example of using a relative file path.\n",
    "\n",
    "So, which should you use and when; an absolute path or a relative path? Here are the rules you should follow:\n",
    "\n",
    "- Use absolute paths when linking to a resource hosted on an external website.\n",
    "\n",
    "- Use absolute paths when you need the link to a page or resource to work consistently regardless of the document location within the site.\n",
    "\n",
    "- Use relative paths when linking to resources within the same website.\n",
    "\n",
    "- Use relative paths if you want to keep your code cleaner and easier to maintain during development.\n",
    "\n",
    "- Use relative paths during local testing to ensure links work without an internet connection."
   ]
  },
  {
   "cell_type": "markdown",
   "metadata": {
    "jp-MarkdownHeadingCollapsed": true
   },
   "source": [
    "## 7.3. What is the difference between slashes, sigle dot and double dot in path syntax?"
   ]
  },
  {
   "cell_type": "markdown",
   "metadata": {},
   "source": [
    "You may have seen links like <code>/public/logo.png</code>, <code>./script.js</code>, or <code>../styles.css</code> before. But what do these special types of links mean? These are called file paths. There are three key syntaxes to know. First is the slash, which can be a backslash (<code>&#92;</code>) or forward slash (<code>&#47;</code>) depending on your operating system. The second is the single dot (<code>.</code>). And finally, we have the double dot (<code>..</code>).\n",
    "\n",
    "1. The slash is known as the \"path separator\". It is used to indicate a break in the text between folder or file names. This is how your computer knows that <code>naomis-files/</code> points to a directory of that same name, while <code>naomis/files/</code> points to a <code>files</code> directory in the <code>naomis</code> directory.\n",
    "\n",
    "2. A single dot points to the current directory, and two dots point to the parent directory. You will typically see a single dot used to ensure that the path is recognized as a relative path. Remember that you learned in a previous lecture about relative versus absolute paths before.\n",
    "\n",
    "3. Double dots, however, are much more common to access files outside of the current working directory.\n",
    "\n",
    "For example, given this file tree:"
   ]
  },
  {
   "cell_type": "code",
   "execution_count": null,
   "metadata": {
    "vscode": {
     "languageId": "html"
    }
   },
   "outputs": [],
   "source": [
    "my-app/\n",
    "├─ public/\n",
    "│  ├─ favicon.ico\n",
    "│  ├─ index.html\n",
    "├─ src/\n",
    "│  ├─ index.css\n",
    "│  ├─ index.js"
   ]
  },
  {
   "cell_type": "markdown",
   "metadata": {},
   "source": [
    "If your <code>public/index.html</code> file needed to load the <code>favicon.ico</code> file, you would use a relative path with a single dot to access the current directory: <code>./favicon.ico</code>. If your <code>public/index.html</code> file needed to load the <code>index.css</code> file, you would use a relative path with double dots to navigate to the parent <code>my-app</code> directory first, then to the <code>src</code> directory, and finally to your file: <code>../src/index.css</code>."
   ]
  },
  {
   "cell_type": "markdown",
   "metadata": {
    "jp-MarkdownHeadingCollapsed": true
   },
   "source": [
    "## 7.4. What are the different link states and why are they important?"
   ]
  },
  {
   "cell_type": "markdown",
   "metadata": {},
   "source": [
    "You may have seen a link on a web page become purple after you click it. This is because the state of the link has changed, so different styling gets applied. There are five different states a link can be in.\n",
    "\n",
    "1. The first is the default state, which is <code>:link</code>. This state represents a link which the user has not visited, clicked, or interacted with yet. You can think of this state as providing the base styles for all links on your page. The other states build on top of it.\n",
    "\n",
    "2. The second state is <code>:visited</code>, which applies when a user has already visited the page being linked to. By default, this turns the link purple - but you can leverage CSS to provide a different visual indication to the user. This is helpful to let someone know they have already read a portion of your documentation. Or, that the site is one they can trust because they have used it before.\n",
    "\n",
    "3. The third state is <code>:hover</code>. This state applies when a user is hovering their cursor over a link. This state is helpful for providing extra attention to a link, to ensure a user actually intends to click it.\n",
    "\n",
    "4. Then we have <code>:focus</code>. This state applies when we focus on a link.\n",
    "\n",
    "5. And finally, we have <code>:active</code>. This state applies to links that are being activated by the user. This typically means clicking on the link with the primary mouse button by left clicking, in most cases. This state can be helpful for showing a user that the element they clicked on is interactive.\n",
    "\n",
    "When you use these states to style your links, there is a specific order you need to write your CSS in: link, visited, hover, focus, then active.\n",
    "\n",
    "You should now know how to give links in your page your own personal flair, while still providing the important information a user needs about the state of each link."
   ]
  }
 ],
 "metadata": {
  "kernelspec": {
   "display_name": "Python (Pyodide)",
   "language": "python",
   "name": "html5"
  },
  "language_info": {
   "codemirror_mode": {
    "name": "python",
    "version": 3
   },
   "file_extension": ".py",
   "mimetype": "text/x-python",
   "name": "python",
   "nbconvert_exporter": "python",
   "pygments_lexer": "ipython3",
   "version": "3.8"
  },
  "toc": {
   "base_numbering": 1
  }
 },
 "nbformat": 4,
 "nbformat_minor": 4
}