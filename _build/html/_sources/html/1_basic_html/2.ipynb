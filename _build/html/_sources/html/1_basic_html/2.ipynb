{
 "cells": [
  {
   "cell_type": "markdown",
   "id": "88bd599e",
   "metadata": {},
   "source": [
    "# 2. HTML fundamentals"
   ]
  },
  {
   "cell_type": "markdown",
   "id": "3b6a94ca",
   "metadata": {},
   "source": [
    "## 2.1. What are <code>div</code> elements and when should you use them?"
   ]
  },
  {
   "cell_type": "markdown",
   "id": "a183a85f",
   "metadata": {},
   "source": [
    "Now that we understand what HTML is, let's move onto the fun stuff! I am going to look at the Content Division Element - or in other words, the div:"
   ]
  },
  {
   "cell_type": "code",
   "execution_count": null,
   "id": "f5e276da",
   "metadata": {
    "vscode": {
     "languageId": "html"
    }
   },
   "outputs": [],
   "source": [
    "<div></div>"
   ]
  },
  {
   "cell_type": "markdown",
   "id": "5a233b34",
   "metadata": {},
   "source": [
    "I like to think of the <code>div</code> as a beautiful being that can be anything you want it to be. We can give a <code>div</code> a <code>height</code>, we can give it a <code>width</code>, and we can give it a background color using CSS - or in other words styling, which we will cover in lectures coming up.\n",
    "\n",
    "We can also use it in a very basic form without styling, to hold other elements together. So for example, we can create a <code>div</code> and put a heading in it, and put a paragraph in it, and now these two elements will be grouped together:"
   ]
  },
  {
   "cell_type": "code",
   "execution_count": null,
   "id": "d3d4de94",
   "metadata": {
    "vscode": {
     "languageId": "html"
    }
   },
   "outputs": [],
   "source": [
    "<div>\n",
    "  <h1>I am a heading</h1>\n",
    "  <p>I am a paragraph</p>\n",
    "</div>"
   ]
  },
  {
   "cell_type": "markdown",
   "id": "79e0f7c7",
   "metadata": {},
   "source": [
    "Just be aware that there might be better elements to use when grouping these together. You might choose a <code>section</code> element, for example:"
   ]
  },
  {
   "cell_type": "code",
   "execution_count": null,
   "id": "e307c827",
   "metadata": {
    "vscode": {
     "languageId": "html"
    }
   },
   "outputs": [],
   "source": [
    "<section>\n",
    "  <h1>I am a heading</h1>\n",
    "  <p>I am a paragraph</p>\n",
    "</section>"
   ]
  },
  {
   "cell_type": "markdown",
   "id": "7c44af2a",
   "metadata": {},
   "source": [
    "This is because the <code>section</code> element has semantic meaning. Semantics are the meaning of words or phrases in a language. In HTML, which is a language, elements have their own semantic meaning too. So, this means if you use a <code>section</code> element, the browser will pick up its semantic meaning and understand to treat this as a section - on desktops, mobiles, you name it. \n",
    "\n",
    "We will dive into this topic further later on. For now, just know that the <code>div</code>, does not have this. It's like a mysterious ghost. Let's see what else we can do to a <code>div</code>, in the next lecture."
   ]
  },
  {
   "cell_type": "markdown",
   "id": "234ce64a",
   "metadata": {},
   "source": [
    "## 2.2. What are IDs and Classes and when should you use them?"
   ]
  },
  {
   "cell_type": "markdown",
   "id": "32a67bb4",
   "metadata": {},
   "source": [
    "Summary: when should you use an <code>id</code> versus a <code>class</code>? \n",
    "- Classes are best used when you want to apply a set of styles to many elements.\n",
    "- If you want to target a specific element, it is best to use <code>id</code> because those values need to be unique."
   ]
  },
  {
   "cell_type": "markdown",
   "id": "458e9978",
   "metadata": {},
   "source": [
    "### 2.2.1 <code>id</code> values in atributes"
   ]
  },
  {
   "cell_type": "markdown",
   "id": "4be6a3ec",
   "metadata": {},
   "source": [
    "The <code>id</code> attribute adds a unique identifier to an HTML element. In this example, there is an <code>h1</code> element with an <code>id</code> of <code>title</code>:"
   ]
  },
  {
   "cell_type": "code",
   "execution_count": null,
   "id": "cea35ab5",
   "metadata": {
    "vscode": {
     "languageId": "html"
    }
   },
   "outputs": [],
   "source": [
    "<h1 id=\"title\">Movie Review Page</h1>"
   ]
  },
  {
   "cell_type": "markdown",
   "id": "c6304151",
   "metadata": {},
   "source": [
    "You can reference the <code>id</code> name of <code>title</code> within your JavaScript or CSS. Here's a CSS example referencing the <code>id</code> of <code>title</code> to change the text <code>color</code> to <code>red</code>:"
   ]
  },
  {
   "cell_type": "code",
   "execution_count": null,
   "id": "85640ee4",
   "metadata": {
    "vscode": {
     "languageId": "html"
    }
   },
   "outputs": [],
   "source": [
    "#title {\n",
    "  color: red;\n",
    "}"
   ]
  },
  {
   "cell_type": "markdown",
   "id": "e6185df0",
   "metadata": {},
   "source": [
    "The hash symbol (<code>#</code>) in front of <code>title</code>, tells the computer you want to target an <code>id</code> with that value. <code>id</code> names <em><strong>should not be used more than once</strong></em>, and they should always be unique. The following explame is something you SHOULD NOT DO:"
   ]
  },
  {
   "cell_type": "code",
   "execution_count": null,
   "id": "cee81df7",
   "metadata": {
    "vscode": {
     "languageId": "html"
    }
   },
   "outputs": [],
   "source": [
    "<!-- SHOULD NOT DO -->\n",
    "<h1 id=\"main heading\">Main heading</h1>\n",
    "<h2 id=\"main heading\">Sub heading</h2>"
   ]
  },
  {
   "cell_type": "markdown",
   "id": "63015ba5",
   "metadata": {},
   "source": [
    "Another thing to note about <code>id</code> values, is that they cannot have spaces in them. Here is an example of applying the words <code>main</code> and <code>heading</code> to an <code>id</code> attribute value:"
   ]
  },
  {
   "cell_type": "code",
   "execution_count": null,
   "id": "c1463b65",
   "metadata": {
    "vscode": {
     "languageId": "html"
    }
   },
   "outputs": [],
   "source": [
    "<h1 id=\"main heading\">Main heading</h1>"
   ]
  },
  {
   "cell_type": "markdown",
   "id": "0dfc718d",
   "metadata": {},
   "source": [
    "Browsers will see this space as part of the <code>id</code> which will lead to unwanted issues when it comes to styling and scripting. <code>id</code> attribute values should only contain letters, digits, underscores (_), and dashes(-)."
   ]
  },
  {
   "cell_type": "markdown",
   "id": "983a88f6",
   "metadata": {},
   "source": [
    "### 2.2.2 <code>class</code> values in atributes"
   ]
  },
  {
   "cell_type": "markdown",
   "id": "0d4a149e",
   "metadata": {},
   "source": [
    "In contrast to the <code>id</code> attribute, the <code>class</code> attribute value <strong>does not need to be unique</strong> and can contain spaces. Here is an example of applying a class called <code>box</code> to a <code>div</code> element:"
   ]
  },
  {
   "cell_type": "code",
   "execution_count": null,
   "id": "901f804c",
   "metadata": {
    "vscode": {
     "languageId": "html"
    }
   },
   "outputs": [],
   "source": [
    "<div class=\"box\"></div>"
   ]
  },
  {
   "cell_type": "markdown",
   "id": "57287baa",
   "metadata": {},
   "source": [
    "If you wanted to add multiple class names to an element, you can do so by separating the names by a space. Here is an updated example applying multiple classes to a <code>div</code> element:"
   ]
  },
  {
   "cell_type": "code",
   "execution_count": null,
   "id": "16354fa5",
   "metadata": {
    "vscode": {
     "languageId": "html"
    }
   },
   "outputs": [],
   "source": [
    "<div class=\"box red-box\"></div>"
   ]
  },
  {
   "cell_type": "markdown",
   "id": "01954029",
   "metadata": {},
   "source": [
    "To apply a set of styles to that <code>box</code> class, you can reference that class inside your CSS. Here is an example of setting <code>width</code>, <code>height</code>, and <code>border</code> properties to the element with the <code>class</code> name of <code>box</code>:"
   ]
  },
  {
   "cell_type": "code",
   "execution_count": null,
   "id": "2f499a01",
   "metadata": {
    "vscode": {
     "languageId": "html"
    }
   },
   "outputs": [],
   "source": [
    ".box {\n",
    "  width: 200px;\n",
    "  height: 200px;\n",
    "  border: 2px solid black;\n",
    "}"
   ]
  },
  {
   "cell_type": "markdown",
   "id": "270fad09",
   "metadata": {},
   "source": [
    "The dot symbol (<code>.</code>) in front of <code>box</code>, tells the computer you want to target a <code>class</code> with that value. When the code runs, it will search through all of your HTML document to find all elements with that class name and apply those styles."
   ]
  },
  {
   "cell_type": "markdown",
   "id": "16184a2c",
   "metadata": {},
   "source": [
    "## 2.3. What are HTML entities and what are some common examples?"
   ]
  },
  {
   "cell_type": "markdown",
   "id": "cc0f3f8d",
   "metadata": {},
   "source": [
    "An HTML entity, or character reference, is a set of characters used to represent a reserved character in HTML. In this example, there is a paragraph element with an image element nested inside:"
   ]
  },
  {
   "cell_type": "code",
   "execution_count": null,
   "id": "86def895",
   "metadata": {
    "vscode": {
     "languageId": "html"
    }
   },
   "outputs": [],
   "source": [
    "<p>This is an <img /> element</p>"
   ]
  },
  {
   "cell_type": "markdown",
   "id": "a1e4c55a",
   "metadata": {},
   "source": [
    "The text on the screen should say <code>This is an &lt;img/&gt; element</code>. However, the text currently says <code>This is an element</code>. This is happening because when the HTML parser sees the less than (<code>&lt;</code>) symbol followed by an HTML tag name, it interprets that as an HTML element.\n",
    "\n",
    "To fix this issue, you can use HTML entities. Here is an updated example using the correct HTML entities for the less than and greater than (<code>&gt;</code>) symbols."
   ]
  },
  {
   "cell_type": "code",
   "execution_count": null,
   "id": "95d0b001",
   "metadata": {
    "vscode": {
     "languageId": "html"
    }
   },
   "outputs": [],
   "source": [
    "<p>This is an &lt;img /&gt; element</p>"
   ]
  },
  {
   "cell_type": "markdown",
   "id": "33e46adb",
   "metadata": {},
   "source": [
    "These types of character references are known as named character references. Named references start with an ampersand sign (<code>&</code>) and end with a semicolon (<code>;</code>). By using a named character reference, the HTML parser will not confuse this with an actual HTML element. Here is what the updated paragraph element looks like on the page: <code>This is an &lt;img/&gt; element</code>. Now, users will be able to see the entire image element syntax as you intended it.\n",
    "\n",
    "Another type of character reference would be the decimal numeric reference. Here is an example of using the decimal numeric reference for the less than symbol:"
   ]
  },
  {
   "cell_type": "code",
   "execution_count": null,
   "id": "fb301f87",
   "metadata": {
    "vscode": {
     "languageId": "html"
    }
   },
   "outputs": [],
   "source": [
    "<!-- Son lo mismo que &lt; -->\n",
    "&#60;\n",
    "&#x3C;  "
   ]
  },
  {
   "cell_type": "markdown",
   "id": "2b5aa79e",
   "metadata": {},
   "source": [
    "This character reference starts with an ampersand sign and hash symbol (<code>#</code>), followed by one or more decimal digits, followed by a semicolon. "
   ]
  },
  {
   "cell_type": "markdown",
   "id": "51054a7a",
   "metadata": {},
   "source": [
    "## 2.4. What is the role of the script element in HTML and how can it be used to link to external JavaScript files?"
   ]
  },
  {
   "cell_type": "markdown",
   "id": "28753b9a",
   "metadata": {},
   "source": [
    "The <code>script</code> element is used to embed executable code. Most developers will use this to execute JavaScript code. JavaScript is used to add interactivity to your web pages. Common examples of using JavaScript include interactive games, image sliders, and dynamic forms that validate user input in real-time. Here is an example of using the <code>script</code> element in an HTML document:"
   ]
  },
  {
   "cell_type": "code",
   "execution_count": null,
   "id": "d486c64a",
   "metadata": {
    "vscode": {
     "languageId": "html"
    }
   },
   "outputs": [],
   "source": [
    "<body>\n",
    "  <script>\n",
    "    alert(\"Welcome to freeCodeCamp\");\n",
    "  </script>\n",
    "</body>"
   ]
  },
  {
   "cell_type": "markdown",
   "id": "1722a169",
   "metadata": {},
   "source": [
    "In this example, we have an <code>alert</code> to display the message <code>Welcome to freeCodeCamp</code>. When the page first loads, the alert will pop up. Then the user can click on the OK button to dismiss the message.\n",
    "\n",
    "While you can technically write all of your JavaScript code inside the <code>script</code> tags, it is considered best practice to link to an external JavaScript file instead. Here is an example of using the <code>script</code> element to link to an external JavaScript file:"
   ]
  },
  {
   "cell_type": "code",
   "execution_count": null,
   "id": "4b8107d7",
   "metadata": {
    "vscode": {
     "languageId": "html"
    }
   },
   "outputs": [],
   "source": [
    "<script src=\"path-to-javascript-file.js\"></script>"
   ]
  },
  {
   "cell_type": "markdown",
   "id": "a5c766d6",
   "metadata": {},
   "source": [
    " The reason why it is not encouraged to place all of your JavaScript inside the HTML document is because of separation of concerns. Separation of concerns is a design principle where you separate your programs into distinct sections and have each section address a separate concern. In this case, we want to separate our JavaScript code from our HTML code."
   ]
  },
  {
   "cell_type": "markdown",
   "id": "98108987",
   "metadata": {},
   "source": [
    "## 2.5. What is the role of the meta description and how does it affect SEO?"
   ]
  },
  {
   "cell_type": "markdown",
   "id": "806eeca3",
   "metadata": {},
   "source": [
    "SEO, or Search Engine Optimization, is a practice that optimizes web pages so they become more visible and rank higher on search engines. One way to improve your site's SEO, is to provide a short description for the web page using the <code>meta</code> element. Here is an example of using the meta element to set a page description for a gardening site:"
   ]
  },
  {
   "cell_type": "code",
   "execution_count": null,
   "id": "22590b8c",
   "metadata": {
    "vscode": {
     "languageId": "html"
    }
   },
   "outputs": [],
   "source": [
    "<meta\n",
    "  name=\"description\"\n",
    "  content=\"Discover expert tips and techniques for gardening in small spaces, choosing the right plants, and maintaining a thriving garden.\"\n",
    "/>"
   ]
  },
  {
   "cell_type": "markdown",
   "id": "4b605a6e",
   "metadata": {},
   "source": [
    "By setting the <code>name</code> attribute to <code>description</code>, it ensures that browsers, search engines, and other web tools correctly interpret this metadata. The <code>content</code> attribute is where you will place your description. It is recommended that you keep your descriptions short and concise. This is because search engines will often truncate the description based on the results page layout.\n",
    "\n",
    "Similar to other types of <code>meta</code> elements, the <code>meta</code> description will not be visible on the web page itself. One place where the page description can be found is in the search engine results page snippet. Here are some examples of page result snippets for freeCodeCamp's subreddit and GitHub repositories:"
   ]
  },
  {
   "cell_type": "markdown",
   "id": "2f851fb2",
   "metadata": {},
   "source": [
    "<img src=\"img/meta_elements_description.png\" />"
   ]
  },
  {
   "cell_type": "markdown",
   "id": "288218db",
   "metadata": {},
   "source": [
    "In the examples, each of the page descriptions are located just beneath the site links. Within a couple of seconds, users can get a general sense of what the page is about and decide to click on the links for more information.\n",
    "\n",
    "Even though <code>meta</code> descriptions won't directly affect a site's ranking on search engine, having a strong description could result in more traffic to your website."
   ]
  },
  {
   "cell_type": "markdown",
   "id": "28e999a2",
   "metadata": {},
   "source": [
    "## 2.6. What is the role of Open Graph Tags (<code>og:</code>) and how do they affect SEO?"
   ]
  },
  {
   "cell_type": "markdown",
   "id": "d5320fe3",
   "metadata": {},
   "source": [
    "The open graph protocol enables you to control how your website's content appears across various social media platforms, such as Facebook, LinkedIn, and many more. By setting these open graph properties, you can entice users to want to click and engage with your content. You can set these properties through a collection of <code>meta</code> elements inside your HTML <code>head</code> section.\n",
    "\n",
    "The first important OG property to include would be the <code>title</code>. Here is an example of setting the OG <code>title</code> for the freeCodeCamp homepage:"
   ]
  },
  {
   "cell_type": "code",
   "execution_count": null,
   "id": "0a20629f",
   "metadata": {
    "vscode": {
     "languageId": "html"
    }
   },
   "outputs": [],
   "source": [
    "<meta content=\"freeCodeCamp.org\" property=\"og:title\" />"
   ]
  },
  {
   "cell_type": "markdown",
   "id": "8af01d0e",
   "metadata": {},
   "source": [
    "For the <code>property</code> attribute, you will need to specify that it is <code>og:title</code>. The <code>content</code> attribute is where you will write the title you want displayed for social media sites.\n",
    "\n",
    "The next important OG property would be the <code>type</code>. Here is an example of using the OG <code>type</code> for the freeCodeCamp homepage:"
   ]
  },
  {
   "cell_type": "code",
   "execution_count": null,
   "id": "795ed420",
   "metadata": {
    "vscode": {
     "languageId": "html"
    }
   },
   "outputs": [],
   "source": [
    "<meta property=\"og:type\" content=\"website\" />"
   ]
  },
  {
   "cell_type": "markdown",
   "id": "9b8872e9",
   "metadata": {},
   "source": [
    "The <code>type</code> property is used to represent the type of content being shared on social media. Examples of this content include articles, websites, videos, or music.\n",
    "\n",
    "The third important OG property would be the <code>image</code>. Here is an example of setting the OG <code>image</code> for the freeCodeCamp homepage:"
   ]
  },
  {
   "cell_type": "code",
   "execution_count": null,
   "id": "f620cdcf",
   "metadata": {
    "vscode": {
     "languageId": "html"
    }
   },
   "outputs": [],
   "source": [
    "<meta\n",
    "  content=\"https://cdn.freecodecamp.org/platform/universal/fcc_meta_1920X1080-indigo.png\"\n",
    "  property=\"og:image\"\n",
    "/>"
   ]
  },
  {
   "cell_type": "markdown",
   "id": "4432a33c",
   "metadata": {},
   "source": [
    "In this example, the open graph image is pointing to the freeCodeCamp logo. All of these images should be high quality with good dimensions and ratios. Most social media platforms will include criteria for image requirements to help you ensure that your content displays well on their site. For example, the developers.facebook.com documentation page states:\n",
    "\n",
    "\"use images that are at least 1200 by 630 pixels for the best display on high resolution devices. At the minimum, you should use images that are 600 by 315 pixels to display link page posts with larger images.\"\n",
    "\n",
    "The fourth important OG property would be the <code>url</code>. Here is an example of setting the OG <code>url</code> for the freeCodeCamp homepage:"
   ]
  },
  {
   "cell_type": "code",
   "execution_count": null,
   "id": "ea607d17",
   "metadata": {
    "vscode": {
     "languageId": "html"
    }
   },
   "outputs": [],
   "source": [
    "<meta property=\"og:url\" content=\"https://www.freecodecamp.org\" />"
   ]
  },
  {
   "cell_type": "markdown",
   "id": "5af39814",
   "metadata": {},
   "source": [
    "There are many more OG properties that you can set, like <code>description</code>, <code>audio</code>, <code>video</code> and <code>locale</code>. However, the open graph <code>url</code>, <code>image</code>, <code>type</code>, and <code>title</code> are the most important ones to include.\n",
    "\n",
    "So how do these open graph properties affect Search Engine Optimization? When your content is shared on social media, well-crafted OG properties can enhance the appearance for your content in users' feeds. This can lead to higher click-through rates which could signal to search engines that your content is relevant and engaging."
   ]
  }
 ],
 "metadata": {
  "language_info": {
   "name": "python"
  }
 },
 "nbformat": 4,
 "nbformat_minor": 5
}
