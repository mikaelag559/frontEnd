{
 "cells": [
  {
   "cell_type": "markdown",
   "metadata": {},
   "source": [
    "# [Resumen 1~4](https://www.freecodecamp.org/learn/full-stack-developer/review-basic-css/review-basic-css)\n",
    "\n",
    "# [Resumen 5~8](https://www.freecodecamp.org/learn/full-stack-developer/review-css-backgrounds-and-borders/review-css-backgrounds-and-borders)"
   ]
  },
  {
   "cell_type": "markdown",
   "metadata": {},
   "source": [
    "# 1. What is CSS?"
   ]
  },
  {
   "cell_type": "markdown",
   "metadata": {},
   "source": [
    "## 1.1. What is CSS, and what is its role on the web?"
   ]
  },
  {
   "cell_type": "markdown",
   "metadata": {},
   "source": [
    "CSS, which stands for Cascading Style Sheets, is a crucial component of modern web development. It's a markup language used to apply styles for HTML. In simpler terms, if HTML is the structure of a web page, CSS is what makes it look good.\n",
    "\n",
    "The primary role of CSS is to separate the content of a web page from its visual presentation. This separation allows web developers to create more flexible and maintainable websites. With CSS, you can control the layout, colors, fonts, and overall visual appearance of web pages without altering the HTML structure.\n",
    "\n",
    "Let's consider a simple analogy. If you think of a website as a house, HTML would be the foundation and framework, while CSS would be the paint, wallpaper, and decorations that make the house visually appealing and unique.\n",
    "\n",
    "CSS works by selecting HTML elements and applying styles to them. These styles can include properties like color, font size, and many more. By changing these properties, you can dramatically alter how a web page looks without changing its content.\n",
    "\n",
    "One of the most powerful aspects of CSS is its ability to create responsive designs. This means that with CSS, you can make your website look great on any device, whether it's a desktop computer, a tablet, or a smartphone. CSS allows you to adjust layouts, font sizes, and other visual elements based on the screen size of the device viewing the website.\n",
    "\n",
    "Another important feature of CSS is its cascading nature, which is where the \"cascading\" in its name comes from. This means that styles can be inherited and overridden, allowing for a hierarchical structure of styling.\n",
    "\n",
    "CSS also supports the use of external stylesheets. This means you can keep all your styling rules in a separate file, which can then be linked to multiple HTML pages. This feature greatly enhances the maintainability of websites, especially larger ones. Instead of having to change styles on each individual page, you can make changes in one CSS file that will affect all linked pages.\n",
    "\n",
    "In the world of web development, CSS plays a vital role in creating visually appealing, responsive, and user-friendly websites. It allows developers to transform simple HTML documents into engaging web experiences that capture users' attention and enhance their interaction with web content."
   ]
  },
  {
   "cell_type": "markdown",
   "metadata": {},
   "source": [
    "## 1.2. What is the basic anatomy of a CSS rule?"
   ]
  },
  {
   "cell_type": "markdown",
   "metadata": {},
   "source": [
    "CSS is responsible for the styles of a web page. All of these styles are made up of various CSS rules.\n",
    "\n",
    "A CSS rule is made up of two main parts: a selector and a declaration block.\n",
    "\n",
    "Let's take a look at the basic syntax:"
   ]
  },
  {
   "cell_type": "code",
   "execution_count": null,
   "metadata": {
    "vscode": {
     "languageId": "css"
    }
   },
   "outputs": [],
   "source": [
    "selector {\n",
    "  property: value;\n",
    "}"
   ]
  },
  {
   "cell_type": "markdown",
   "metadata": {},
   "source": [
    "A selector is a pattern used in CSS to identify and target specific HTML elements for styling.\n",
    "\n",
    "Examples of selectors include type selectors, class selectors, and ID selectors.\n",
    "\n",
    "The curly braces provided in the basic syntax are known as a declaration block. A declaration block applies a set of styles for a given selector, or selectors.\n",
    "\n",
    "Inside the declaration block, you will have a series of declarations. Each declaration consists of a property and a value.\n",
    "\n",
    "The property is the CSS identifier that specifies which feature is being styled. An example of a property would be the <code>background-color</code> property.\n",
    "\n",
    "The value would be the specific setting applied to that property. For example, if the property is <code>background-color</code>, a value could be <code>purple</code>, which sets the background color to purple.\n",
    "\n",
    "After each property name, you need to place a colon, and after each value, you should have a semicolon.\n",
    "\n",
    "Now that you know the syntax for a CSS rule, let's take a look at an example."
   ]
  },
  {
   "cell_type": "code",
   "execution_count": null,
   "metadata": {
    "vscode": {
     "languageId": "css"
    }
   },
   "outputs": [],
   "source": [
    "p {\n",
    "  color: blue;\n",
    "}"
   ]
  },
  {
   "cell_type": "markdown",
   "metadata": {},
   "source": [
    "In this CSS rule, a type selector targets all paragraph elements on the page.\n",
    "\n",
    "Inside the declaration block, there is a one declaration.\n",
    "\n",
    "The declaration consists of the <code>color</code> property with a value set to <code>blue</code>. This will change the text color for all paragraph elements to <code>blue</code>.\n",
    "\n",
    "If you want to apply the same set of styles to multiple selectors, you can create a selector list with each selector separated by a comma.\n",
    "\n",
    "Here is an example of styling multiple selectors:"
   ]
  },
  {
   "cell_type": "code",
   "execution_count": null,
   "metadata": {
    "vscode": {
     "languageId": "css"
    }
   },
   "outputs": [],
   "source": [
    "#title,\n",
    ".subheading {\n",
    "  color: navy;\n",
    "}"
   ]
  },
  {
   "cell_type": "markdown",
   "metadata": {},
   "source": [
    "In this selector list, there is an <code>id</code> selector targeting the HTML element with the <code>id</code> value of <code>title</code>. All <code>id</code> selectors must start with a hash <code>#</code> symbol.\n",
    "\n",
    "Then there is a comma followed by a <code>class</code> selector that targets all HTML elements with the <code>class</code> value of <code>subheading</code>. All class selectors must start with a dot <code>.</code>.\n",
    "\n",
    "The entire selector list will receive the same styling, with the text color set to <code>navy</code>."
   ]
  },
  {
   "cell_type": "markdown",
   "metadata": {},
   "source": [
    "## 1.3. What is the meta viewport element used for?"
   ]
  },
  {
   "cell_type": "markdown",
   "metadata": {},
   "source": [
    "The meta viewport element is a crucial component in responsive web design.\n",
    "\n",
    "It's a special HTML meta element that gives the browser instructions on how to control the page's dimensions and scaling on different devices, particularly on mobile phones and tablets.\n",
    "\n",
    "Let's take a look at the basic syntax of the meta viewport element:"
   ]
  },
  {
   "cell_type": "code",
   "execution_count": null,
   "metadata": {
    "vscode": {
     "languageId": "html"
    }
   },
   "outputs": [],
   "source": [
    "<meta name=\"viewport\" content=\"width=device-width, initial-scale=1.0\">"
   ]
  },
  {
   "cell_type": "markdown",
   "metadata": {},
   "source": [
    "This element is typically placed in the <code>head</code> section of your HTML document. But what does each part of the element mean?\n",
    "\n",
    "The <code>width=device-width</code> part tells the browser to set the width of the page to match the screen width of the device. This is essential for creating responsive layouts that adapt to different screen sizes.\n",
    "\n",
    "The <code>initial-scale=1.0</code> sets the initial zoom level when the page is first loaded. A value of 1.0 means that the page is displayed at <code>100%</code> zoom, without any scaling.\n",
    "\n",
    "By using the meta viewport element, you're ensuring that your web pages are displayed properly on mobile devices.\n",
    "\n",
    "Without it, mobile browsers will typically render the page at a desktop screen width and then scale it down, which can result in a poor user experience with tiny, hard-to-read text.\n",
    "\n",
    "The meta viewport element also allows you to control whether users can zoom in and out of your web pages.\n",
    "\n",
    "While it's possible to disable zooming with the <code>user-scalable=no</code> attribute, it's generally recommended to avoid this for accessibility reasons.\n",
    "\n",
    "Many users rely on the ability to zoom for better readability, especially those with visual impairments.\n",
    "\n",
    "Here's an example of what <span style=\"color: red;\">NOT TO DO</span>:"
   ]
  },
  {
   "cell_type": "code",
   "execution_count": null,
   "metadata": {
    "vscode": {
     "languageId": "html"
    }
   },
   "outputs": [],
   "source": [
    "<meta name=\"viewport\" content=\"width=device-width, initial-scale=1.0, user-scalable=no\">"
   ]
  },
  {
   "cell_type": "markdown",
   "metadata": {},
   "source": [
    "Instead, it's better to design your website to be responsive and readable at different zoom levels, ensuring that all users can comfortably access your content.\n",
    "\n",
    "The meta viewport element plays a crucial role in creating mobile-friendly websites.\n",
    "\n",
    "It ensures that your carefully crafted responsive designs are displayed as intended on various devices, providing a better user experience for all visitors to your site."
   ]
  },
  {
   "cell_type": "markdown",
   "metadata": {},
   "source": [
    "## 1.4. What are some default browser styles applied to HTML?"
   ]
  },
  {
   "cell_type": "markdown",
   "metadata": {},
   "source": [
    "When you start working with HTML and CSS, you'll notice that some styles are applied to your web pages even before you write any CSS. These styles are called \"default browser styles\" or \"user-agent styles\".\n",
    "\n",
    "These default browser styles provide basic formatting to ensure that HTML elements are displayed in a readable way across all browsers.\n",
    "\n",
    "However, these styles can vary slightly from one browser to another, which is why it's important to understand them when designing a consistent look for your website.\n",
    "\n",
    "Let’s take a look at some common default browser styles applied to various HTML elements.\n",
    "\n",
    "Headings are one of the most commonly used HTML elements and are styled by default to have varying sizes and weights.\n",
    "\n",
    "For example, <code>h1</code> (the highest-level heading) is usually bold and larger in font size compared to lower-level headings like <code>h2</code>, <code>h3</code>, and so on.\n",
    "\n",
    "These heading tags help define the hierarchy and structure of your content.\n",
    "\n",
    "The following example shows all six heading elements from <code>h1</code> to <code>h6</code>."
   ]
  },
  {
   "cell_type": "code",
   "execution_count": null,
   "metadata": {
    "vscode": {
     "languageId": "html"
    }
   },
   "outputs": [],
   "source": [
    "<h1>Heading 1</h1>\n",
    "<h2>Heading 2</h2>\n",
    "<h3>Heading 3</h3>\n",
    "<h4>Heading 4</h4>\n",
    "<h5>Heading 5</h5>\n",
    "<h6>Heading 6</h6>"
   ]
  },
  {
   "cell_type": "markdown",
   "metadata": {},
   "source": [
    "Another element with default styles is the <code>hr</code> element, which creates a horizontal rule often used to visually separate sections of content. Browsers generally apply a simple line style to this element.\n",
    "\n",
    "To understand it better, let's look at this code example:"
   ]
  },
  {
   "cell_type": "code",
   "execution_count": null,
   "metadata": {
    "vscode": {
     "languageId": "html"
    }
   },
   "outputs": [],
   "source": [
    "<p>Paragraph 1</p>\n",
    "<p>Paragraph 2</p>\n",
    "<hr>\n",
    "<p>Paragraph 3</p>\n",
    "<p>Paragraph 4</p>"
   ]
  },
  {
   "cell_type": "markdown",
   "metadata": {},
   "source": [
    "The horizontal rule appears as a thin line with spacing above and below the text to distinguish between sections of content.\n",
    "\n",
    "Next, we will look at the <code>blockquote</code> element.\n",
    "\n",
    "Blockquotes are used to indicate a section of text that is a quotation from another source. Browsers typically add indentation and sometimes italicize the text.\n",
    "\n",
    "The indentation helps set blockquotes apart from the rest of the text, making it clear that this content is quoted from another source.\n",
    "\n",
    "Let's take a look at this code example:"
   ]
  },
  {
   "cell_type": "code",
   "execution_count": null,
   "metadata": {
    "vscode": {
     "languageId": "html"
    }
   },
   "outputs": [],
   "source": [
    "<p>Paragraph 1</p>\n",
    "<p>Paragraph 2</p>\n",
    "<blockquote>I think, therefore I am. (Rene Descartes)</blockquote>\n",
    "<p>Paragraph 3</p>\n",
    "<p>Paragraph 4</p>"
   ]
  },
  {
   "cell_type": "markdown",
   "metadata": {},
   "source": [
    "In the example above, the <code>blockquote</code> element will produce an indent on the text, applied by the default browser styles.\n",
    "\n",
    "Another element with default styles is the anchor element (<code>&lt;a&gt;</code>), which is styled with a default blue color and underlining to make it recognizable as a link.\n",
    "\n",
    "Let's take at look at the following HTML example:"
   ]
  },
  {
   "cell_type": "code",
   "execution_count": null,
   "metadata": {
    "vscode": {
     "languageId": "html"
    }
   },
   "outputs": [],
   "source": [
    "<p>Paragraph 1</p>\n",
    "<p>Paragraph 2</p>\n",
    "<a href=\"https://freecodecamp.org/\">Visit the freeCodeCamp learn page</a>\n",
    "<p>Paragraph 3</p>\n",
    "<p>Paragraph 4</p>"
   ]
  },
  {
   "cell_type": "markdown",
   "metadata": {},
   "source": [
    "The above code has four paragraph elements with an anchor element in the middle. The anchor element is styled in blue with an underline to show users to go to the freeCodeCamp learn page.\n",
    "\n",
    "Finally, we'll look at the unordered and ordered list elements.\n",
    "\n",
    "Browsers add basic formatting to lists, including indentation and bullets or numbers, depending on whether you are using an unordered list (<code>ul</code>) or an ordered list (<code>ol</code>).\n",
    "\n",
    "Let's take a look at an example:"
   ]
  },
  {
   "cell_type": "code",
   "execution_count": null,
   "metadata": {
    "vscode": {
     "languageId": "html"
    }
   },
   "outputs": [],
   "source": [
    "<p>Sample Paragraph</p>\n",
    "<ol>\n",
    "  <li>item 1</li>\n",
    "  <li>item 2</li>\n",
    "  <li>item 3</li>\n",
    "</ol>\n",
    "<ul>\n",
    "  <li>item</li>\n",
    "  <li>another item</li>\n",
    "  <li>yet another item</li>\n",
    "</ul>\n",
    "<p>Ending Paragraph</p>"
   ]
  },
  {
   "cell_type": "markdown",
   "metadata": {},
   "source": [
    "In the above code example, we are using an unordered list and an ordered list. Both of these lists will be slightly indented to the right by default.\n",
    "\n",
    "For all of these examples, you saw how the browser applied default spacing, varying font sizes, and weights to these HTML elements.\n",
    "\n",
    "In later lecture videos, you will learn how to reset some of these default styles using a CSS reset."
   ]
  },
  {
   "cell_type": "markdown",
   "metadata": {},
   "source": [
    "## 1.5. What are inline, internal and external CSS and when should you use each one?"
   ]
  },
  {
   "cell_type": "markdown",
   "metadata": {},
   "source": [
    "CSS can be applied to a webpage in three main ways: inline, internal, or external.\n",
    "\n",
    "Each method has its own use case, advantages, and limitations, and knowing when to use each one is essential for writing clean, efficient, and maintainable code.\n",
    "\n",
    "Let’s break down the three types of CSS and when you should use them.\n",
    "\n",
    "<strong>Inline CSS</strong> is written directly within an HTML element using the <code>style</code> attribute. It applies styles to a specific element.\n",
    "\n",
    "Here's an example using inline CSS:"
   ]
  },
  {
   "cell_type": "code",
   "execution_count": null,
   "metadata": {
    "vscode": {
     "languageId": "html"
    }
   },
   "outputs": [],
   "source": [
    "<p style=\"color: red;\">This is an inline-styled paragraph.</p>"
   ]
  },
  {
   "cell_type": "markdown",
   "metadata": {},
   "source": [
    "In this example, we are using the <code>style</code> attribute to set the paragraph text to <code>red</code>.\n",
    "\n",
    "Inline CSS is generally used for quick, one-off styles or to override other styles for a specific element.\n",
    "\n",
    "However, it should be avoided in most cases because it can clutter the HTML and make the code harder to maintain.\n",
    "\n",
    "Most of the time, it's better to use internal or external CSS to keep your styles organized and maintainable.\n",
    "\n",
    "<strong>Internal CSS</strong> is written within the <code>style</code> tags inside the <code>head</code> section of an HTML document. It applies styles to the entire page and is useful when you need to style a single document.\n",
    "\n",
    "Here's an example of internal CSS:"
   ]
  },
  {
   "cell_type": "code",
   "execution_count": null,
   "metadata": {
    "vscode": {
     "languageId": "html"
    }
   },
   "outputs": [],
   "source": [
    "<head>\n",
    "  <style>\n",
    "    p {\n",
    "      color: blue;\n",
    "    }\n",
    "  </style>\n",
    "</head>\n",
    "<body>\n",
    "  <p>This paragraph is styled using internal CSS.</p>\n",
    "</body>"
   ]
  },
  {
   "cell_type": "markdown",
   "metadata": {},
   "source": [
    "In the above example, the internal CSS applies blue text to all <code>p</code> elements on the page.\n",
    "\n",
    "<b>Internal CSS is best used when you need to apply styles to a specific page rather than across multiple pages.</b> It’s useful for single-page websites or when the styles don’t need to be reused elsewhere.\n",
    "\n",
    "However, there are some downsides, such as not promoting reusability across multiple pages. Additionally, like inline CSS, it mixes HTML and CSS, making the code harder to maintain in larger projects.\n",
    "\n",
    "<strong>External CSS</strong> is written in a separate <code>.css</code> file and linked to the HTML document using the <code>link</code> element in the <code>head</code> section.\n",
    "\n",
    "It allows you to style multiple pages consistently and is the preferred method in professional web development.\n",
    "\n",
    "Here's the HTML part of our code example:"
   ]
  },
  {
   "cell_type": "code",
   "execution_count": null,
   "metadata": {
    "vscode": {
     "languageId": "html"
    }
   },
   "outputs": [],
   "source": [
    "<head>\n",
    "  <link rel=\"stylesheet\" href=\"styles.css\">\n",
    "</head>\n",
    "<body>\n",
    "  <p>This paragraph is styled using external CSS.</p>\n",
    "</body>"
   ]
  },
  {
   "cell_type": "markdown",
   "metadata": {},
   "source": [
    "In an earlier lecture, you learned that the <code>link</code> element has a <code>rel</code> attribute that specifies the relationship between the current document and the linked resource, such as linking to a stylesheet or an external resource.\n",
    "\n",
    "On the other hand, the <code>href</code> attribute specifies the URL of the linked resource, indicating where the resource should be retrieved from.\n",
    "\n",
    "Here the CSS portion of the same example in separate file named <code>style.css</code>."
   ]
  },
  {
   "cell_type": "code",
   "execution_count": null,
   "metadata": {
    "vscode": {
     "languageId": "css"
    }
   },
   "outputs": [],
   "source": [
    "p {\n",
    "  color: green;\n",
    "}"
   ]
  },
  {
   "cell_type": "markdown",
   "metadata": {},
   "source": [
    "This example targets all paragraph elements on the page and sets the text color to green.\n",
    "\n",
    "External CSS is ideal for large projects where you want to maintain a consistent style across multiple pages.\n",
    "\n",
    "It promotes separation of concerns by having HTML handle the structure and CSS handle the styling, which makes the code more maintainable and scalable.\n",
    "\n",
    "Understanding when to use each type of CSS is crucial for efficient and effective web development.\n",
    "\n",
    "In most cases, external CSS should be your go-to approach, especially for larger and more complex projects."
   ]
  },
  {
   "cell_type": "markdown",
   "metadata": {},
   "source": [
    "## 1.6. How do width and height work?"
   ]
  },
  {
   "cell_type": "markdown",
   "metadata": {},
   "source": [
    "In CSS, the <code>width</code> and <code>height</code> properties are used to control the dimensions of elements on a webpage.\n",
    "\n",
    "These properties can be defined in different units such as pixels (<code>px</code>), percentages (<code>%</code>), viewport units (<code>vw</code>, <code>vh</code>), and more.\n",
    "\n",
    "The <code>width</code> property specifies the width of an element. If you do not specify a width, then the default is set to <code>auto</code>. This means the element will take up the full width of its parent container.\n",
    "\n",
    "The <code>height</code> property specifies the height of an element. Similarly, the height is <code>auto</code> by default, which means it will adjust to the content inside.\n",
    "\n",
    "Here's an example using the <code>width</code> and <code>height</code> properties:"
   ]
  },
  {
   "cell_type": "code",
   "execution_count": null,
   "metadata": {
    "vscode": {
     "languageId": "html"
    }
   },
   "outputs": [],
   "source": [
    "<head>\n",
    "  <style>\n",
    "    .box {\n",
    "      width: 100px;\n",
    "      height: 100px;\n",
    "      background-color: skyblue\n",
    "    }\n",
    "  </style>\n",
    "</head>\n",
    "<body>\n",
    "  <div class=\"box\"></div>\n",
    "</body>"
   ]
  },
  {
   "cell_type": "markdown",
   "metadata": {},
   "source": [
    "In this example, we have a <code>div</code> element with class named <code>box</code>. This element will be occupying <code>100px</code> in height and width, whereas the background color will be <code>skyblue</code>.\n",
    "\n",
    "Pixels are a fixed-size unit of measurement in CSS, providing precise control over dimensions.\n",
    "\n",
    "The <code>min-width</code> property specifies the minimum width an element can be. Even if the content inside is smaller, the element won’t shrink below this value.\n",
    "\n",
    "The <code>min-height</code> specifies the minimum height an element can be. It ensures that the element does not become shorter than the set value.\n",
    "\n",
    "Here is an example:"
   ]
  },
  {
   "cell_type": "code",
   "execution_count": null,
   "metadata": {
    "vscode": {
     "languageId": "html"
    }
   },
   "outputs": [],
   "source": [
    "<head>\n",
    "  <style>\n",
    "    .box {\n",
    "      width: 50px;\n",
    "      min-width: 100px;\n",
    "      height: 50px;\n",
    "      min-height: 100px;\n",
    "      background-color: lightcoral;\n",
    "    }\n",
    "  </style>\n",
    "</head>\n",
    "<body>\n",
    "  <div class=\"box\"></div>\n",
    "</body>"
   ]
  },
  {
   "cell_type": "markdown",
   "metadata": {},
   "source": [
    "The above example demonstrates how <code>min-width</code> and <code>min-height</code> work.\n",
    "\n",
    "Even though the box has its <code>width</code> and <code>height</code> set to 50px, it will actually be <code>100px</code> by <code>100px</code>. This is because the <code>min-width</code> and <code>min-height</code> are set to <code>100px</code>, which are larger than the specified <code>width</code> and <code>height</code>.\n",
    "\n",
    "Remember, if <code>min-width</code> or <code>min-height</code> are larger than the <code>width</code> or <code>height</code>, they will override the smaller values. This ensures that elements don't become too small, which is important for maintaining a consistent and usable design.\n",
    "\n",
    "The <code>max-width</code> specifies the maximum width an element can grow to, even if there is enough space for it to be wider.\n",
    "\n",
    "The <code>max-height</code> specifies the maximum height an element can grow to, regardless of the content size.\n",
    "\n",
    "Here is an example:"
   ]
  },
  {
   "cell_type": "code",
   "execution_count": null,
   "metadata": {
    "vscode": {
     "languageId": "html"
    }
   },
   "outputs": [],
   "source": [
    "<head>\n",
    "  <style>\n",
    "    .box {\n",
    "      width: 200px;\n",
    "      max-width: 150px;\n",
    "      height: 200px;\n",
    "      max-height: 150px;\n",
    "      background-color: lightgreen;\n",
    "    }\n",
    "  </style>\n",
    "</head>\n",
    "<body>\n",
    "  <div class=\"box\"></div>\n",
    "</body>"
   ]
  },
  {
   "cell_type": "markdown",
   "metadata": {},
   "source": [
    "The above example demonstrates how <code>max-width</code> and <code>max-height</code> override <code>width</code> and <code>height</code>. Even though the box is set to <code>200px</code> by <code>200px</code>, it will actually be <code>150px</code> by <code>150px</code>. This is because the <code>max-width</code> and <code>max-height</code> are set to <code>150px</code>, which is smaller.\n",
    "\n",
    "Remember, when <code>max-width</code> or <code>max-height</code> are smaller than <code>width</code> or <code>height</code>, they take precedence. This is important for controlling the maximum size of elements in your layouts.\n",
    "\n",
    "CSS prioritizes <code>min-width</code> and <code>min-height</code> over <code>width</code> and <code>height</code>. <code>max-width</code> and <code>max-height</code> restrict dimensions if values exceed their limits.\n",
    "\n",
    "For example, if you set <code>width</code> to <code>600px</code> and <code>max-width</code> to <code>500px</code>, the element will be limited to <code>500px</code> wide. The <code>max-width</code> overrides the wider setting, keeping the element within the specified maximum size.\n",
    "\n",
    "This ensures elements stay within desired size ranges, regardless of standard width and height values."
   ]
  },
  {
   "cell_type": "markdown",
   "metadata": {},
   "source": [
    "## 1.7. What are the different types of CSS combinators?"
   ]
  },
  {
   "cell_type": "markdown",
   "metadata": {},
   "source": [
    "CSS combinators are used to define the relationship between selectors in CSS. They help in selecting elements based on their relationship to other elements, which allows for more precise and efficient styling.\n",
    "\n",
    "We will discuss some primary CSS combinators and their use cases, starting with the descendant combinator.\n",
    "\n",
    "A descendant combinator is used to target elements matched by the second selector if they are nested within an ancestor element that matches the first selector. An ancestor can be a parent element or a parent's parent.\n",
    "\n",
    "To better understand how this works, let's take a look at an example."
   ]
  },
  {
   "cell_type": "code",
   "execution_count": null,
   "metadata": {
    "vscode": {
     "languageId": "css"
    }
   },
   "outputs": [],
   "source": [
    "figure img {\n",
    "  border: 4px solid black;\n",
    "}"
   ]
  },
  {
   "cell_type": "markdown",
   "metadata": {},
   "source": [
    "In the above example, we use the descendant combinator to select all image elements inside <code>figure</code> elements and apply a <code>solid black</code> border on all four sides.\n",
    "\n",
    "Note that a <code>space</code> is used between the parent and child selector.\n",
    "\n",
    "In this case, the <code>figure</code> would be the parent and the <code>img</code> would be the child.\n",
    "\n",
    "If you had multiple images inside a <code>figure</code> element, using the descendant combinator would be a good way to apply a solid black border around each of those images.\n",
    "\n",
    "Another type of combinator would be the child combinator.\n",
    "\n",
    "The child combinator (<code>&gt;</code>) in CSS is used to select elements that are direct children of a specified parent element.\n",
    "\n",
    "This combinator targets only elements with a specific parent, making your CSS rules more precise and preventing unintended styling of deeper nested elements.\n",
    "\n",
    "Let's take a look at the following HTML example:"
   ]
  },
  {
   "cell_type": "code",
   "execution_count": null,
   "metadata": {
    "vscode": {
     "languageId": "html"
    }
   },
   "outputs": [],
   "source": [
    "<div class=\"container\">\n",
    "    <p>First</p>\n",
    "    <div>\n",
    "      <p>Second</p>\n",
    "    </div>\n",
    "    <div>\n",
    "      <p>Third</p>\n",
    "    </div>\n",
    "</div>"
   ]
  },
  {
   "cell_type": "markdown",
   "metadata": {},
   "source": [
    "In above HTML structure, the <code>container</code> class is applied to a <code>div</code> element.\n",
    "\n",
    "Inside this container, there is a direct child <code>p</code> element (\"First\"), followed by two additional <code>div</code> elements, each containing a <code>p</code> element (\"Second\" and \"Third\").\n",
    "\n",
    "The first <code>p</code> element is a direct child of the <code>.container</code> element, while the other two <code>p</code> elements are nested inside other <code>div</code> elements, making them deeper descendants.\n",
    "\n",
    "To apply styles to just the direct child of the <code>container</code> class, you can use the child combinator like this:"
   ]
  },
  {
   "cell_type": "code",
   "execution_count": null,
   "metadata": {
    "vscode": {
     "languageId": "css"
    }
   },
   "outputs": [],
   "source": [
    ".container > p {\n",
    "  color: blue;\n",
    "}"
   ]
  },
  {
   "cell_type": "markdown",
   "metadata": {},
   "source": [
    "In the above example, we are only targeting the direct child of <code>container</code> class. This will give the direct child the text color of <code>blue</code>.\n",
    "\n",
    "Because the other two paragraph elements are nested inside <code>div</code> elements, they are not considered direct children of the <code>container</code> class and will not get the text color of blue.\n",
    "\n",
    "Another common combinator would be the next-sibling combinator.\n",
    "\n",
    "The next-sibling combinator (<code>+</code>) in CSS selects an element that immediately follows a specified sibling element. This combinator is useful when you want to apply styles to an element that directly follows another element, allowing for targeted styling based on the element's position relative to its siblings.\n",
    "\n",
    "Let's take a look at the following HTML example:"
   ]
  },
  {
   "cell_type": "code",
   "execution_count": null,
   "metadata": {
    "vscode": {
     "languageId": "html"
    }
   },
   "outputs": [],
   "source": [
    "<figure>\n",
    "  <img\n",
    "    src=\"https://cdn.freecodecamp.org/curriculum/cat-photo-app/relaxing-cat.jpg\"\n",
    "    alt=\"A cute orange cat lying on its back.\"\n",
    "  />\n",
    "  <figcaption>A cute orange cat lying on its back.</figcaption>\n",
    "</figure>"
   ]
  },
  {
   "cell_type": "markdown",
   "metadata": {},
   "source": [
    "Here, we have a <code>figure</code> element containing an <code>img</code> element followed by a <code>figcaption</code> element. The <code>figcaption</code> element is the immediate sibling of the <code>img</code> element.\n",
    "\n",
    "If you wanted to apply a black border around the <code>figcaption</code> element, you can use the next-sibling combinator like this:"
   ]
  },
  {
   "cell_type": "code",
   "execution_count": null,
   "metadata": {
    "vscode": {
     "languageId": "css"
    }
   },
   "outputs": [],
   "source": [
    "img + figcaption {\n",
    "  border: 4px solid black;\n",
    "}"
   ]
  },
  {
   "cell_type": "markdown",
   "metadata": {},
   "source": [
    "In this example, the next-sibling combinator (<code>+</code>) selects the <code>figcaption</code> element that immediately follows the <code>img</code> element. The applied CSS rule adds a <code>4px solid black border</code> around the <code>figcaption</code>.\n",
    "\n",
    "Another common combinator is the subsequent-sibling combinator.\n",
    "\n",
    "The subsequent-sibling combinator (<code>~</code>) in CSS selects all siblings of a specified element that come after it.\n",
    "\n",
    "Unlike the next-sibling combinator, which targets only the immediately following sibling, the subsequent-sibling combinator (<code>~</code>) can target any siblings that follow the specified element, offering greater flexibility in styling.\n",
    "\n",
    "Let's take a look at the following HTML example:"
   ]
  },
  {
   "cell_type": "code",
   "execution_count": null,
   "metadata": {
    "vscode": {
     "languageId": "html"
    }
   },
   "outputs": [],
   "source": [
    "<div class=\"container\">\n",
    "  <h2>Subheading</h2>\n",
    "  <p>First paragraph.</p>\n",
    "  <p>Second paragraph.</p>\n",
    "  <p>Third paragraph.</p>\n",
    "  <p>Another paragraph element</p>\n",
    "</div>"
   ]
  },
  {
   "cell_type": "markdown",
   "metadata": {},
   "source": [
    "In this HTML structure, we have an <code>h2</code> element followed by four paragraph elements. The paragraph elements are siblings of the <code>h2</code> element.\n",
    "\n",
    "If you want to style all of the paragraph elements that come after the <code>h2</code> element, then you can use the subsequent-sibling combinator like this:"
   ]
  },
  {
   "cell_type": "code",
   "execution_count": null,
   "metadata": {
    "vscode": {
     "languageId": "css"
    }
   },
   "outputs": [],
   "source": [
    "h2 ~ p {\n",
    "  color: green;\n",
    "}"
   ]
  },
  {
   "cell_type": "markdown",
   "metadata": {},
   "source": [
    "In this example, all paragraph elements following the <code>h2</code> element will have the text color green.\n",
    "\n",
    "The subsequent-sibling combinator (<code>~</code>) targets all paragraph siblings that appear after the <code>h2</code> element, regardless of whether they are immediate siblings.\n",
    "\n",
    "In conclusion, understanding and using various CSS combinators allows you to apply precise styles to your HTML elements, enhancing the control and flexibility of your design.\n",
    "\n",
    "By mastering these selectors, you can create more sophisticated and targeted styling rules that improve both the appearance and functionality of your web pages."
   ]
  },
  {
   "cell_type": "markdown",
   "metadata": {},
   "source": [
    "## 1.8. What is the difference between inline and block-level elements?"
   ]
  },
  {
   "cell_type": "markdown",
   "metadata": {},
   "source": [
    "In HTML and CSS, elements are classified as either <b>inline elements</b> or <b>block-level elements</b>, and this classification dictates how they behave in the document layout.\n",
    "\n",
    "Understanding this difference is crucial for controlling how your content is displayed on a webpage.\n",
    "\n",
    "Block-level elements are elements that take up the full width available to them by default, stretching across the width of their container.\n",
    "\n",
    "These elements always start on a new line and push other content to the next line, creating a \"block\" of content.\n",
    "\n",
    "Block-level elements have the CSS property <code>display: block;</code> applied by default. This property ensures that the element stretches to fill the container's width and appears on a new line.\n",
    "\n",
    "Some common block-level elements are <code>div</code> elements, paragraphs, headings, ordered lists, unordered lists, and section elements.\n",
    "\n",
    "Here is a code example of a block-level element:"
   ]
  },
  {
   "cell_type": "code",
   "execution_count": null,
   "metadata": {
    "vscode": {
     "languageId": "html"
    }
   },
   "outputs": [],
   "source": [
    "<p style=\"border: 2px solid red;\">\n",
    "  First paragraph\n",
    "</p>\n",
    "<p>Second paragraph</p>"
   ]
  },
  {
   "cell_type": "markdown",
   "metadata": {},
   "source": [
    "Resultado:\n",
    "<p style=\"border: 2px solid red;\">\n",
    "First paragraph\n",
    "</p>\n",
    "<p>Second paragraph</p>"
   ]
  },
  {
   "cell_type": "markdown",
   "metadata": {},
   "source": [
    "In this example, we have two paragraph elements where the first one has a red border around it.\n",
    "\n",
    "The two paragraph elements do not share the same line because they are block level elements by default.\n",
    "\n",
    "So, both paragraph elements will take up the full width of its container, which in this case is the <code>body</code> element.\n",
    "\n",
    "Block-level elements are ideal when you want content to stack vertically, such as paragraphs, sections, or larger blocks of content. They're commonly used to define the layout and structure of a webpage.\n",
    "<hr>\n",
    "\n",
    "Inline elements, unlike block-level elements, only take up as much width as they need and do not start on a new line. These elements flow within the content, allowing text and other inline elements to appear alongside them.\n",
    "\n",
    "Inline elements have the CSS property <code>display: inline;</code> applied by default. This property ensures that the element remains within the flow of the content and does not break onto a new line.\n",
    "\n",
    "Common inline elements are <code>span</code>, <code>anchor</code>, and <code>img</code> elements.\n",
    "\n",
    "Here's an example to better understand inline elements:"
   ]
  },
  {
   "cell_type": "code",
   "execution_count": null,
   "metadata": {
    "vscode": {
     "languageId": "html"
    }
   },
   "outputs": [],
   "source": [
    "<p>This is a\n",
    "  <span style=\"color: red; border: 2px solid green;\">red</span>\n",
    "  word inside a paragraph.\n",
    "</p>"
   ]
  },
  {
   "cell_type": "markdown",
   "metadata": {},
   "source": [
    "Resultado:\n",
    "<p>This is a\n",
    "  <span style=\"color: red; border: 2px solid green;\">red</span>\n",
    "  word inside a paragraph.\n",
    "</p>"
   ]
  },
  {
   "cell_type": "markdown",
   "metadata": {},
   "source": [
    "In this example, we have a <code>span</code> element nested inside of a paragraph element. The <code>span</code> element has a <code>red</code> text color with a <code>green</code> border around it so you can see the highlighted word better.\n",
    "\n",
    "As you can see, the <code>span</code> element only takes up as much space as the word \"red\" and does not push the following content to a new line.\n",
    "\n",
    "Inline elements are best used for styling smaller portions of text or content within a line, such as emphasizing a word, creating hyperlinks, or applying specific styles to parts of a paragraph."
   ]
  },
  {
   "cell_type": "markdown",
   "metadata": {},
   "source": [
    "## 1.9. How does <code>inline-block</code> work and how does it differ from inline and block elements?"
   ]
  },
  {
   "cell_type": "markdown",
   "metadata": {},
   "source": [
    "When working with CSS, you often encounter three different types of display behaviors for elements: <code>inline</code>, <code>block</code>, and <code>inline-block</code>.\n",
    "\n",
    "Each of these properties affects how elements are positioned and how they interact with other elements on the page.\n",
    "\n",
    "In this lecture, we will focus on how the <code>inline-block</code> property works and how it differs from both inline and block-level elements.\n",
    "\n",
    "Block-level elements behave like large containers or \"blocks\" that take up the full width of their parent container. They always start on a new line, and their height and width can be adjusted.\n",
    "\n",
    "Inline elements only take up as much space as they need. They flow within the surrounding content and do not break onto a new line.\n",
    "\n",
    "The <code>inline-block</code> property is a hybrid of these two behaviors. Like inline elements, <code>inline-block</code> elements remain in the text flow without starting on a new line.\n",
    "\n",
    "However, unlike inline elements, you can adjust the width and height of an <code>inline-block</code> element, just as you would with block-level elements.\n",
    "\n",
    "In short, the key difference between <code>inline</code> and <code>inline-block</code> is that <code>inline</code> elements cannot have their size controlled, whereas <code>inline-block</code> elements allow for full control over dimensions while still staying inline with other content.\n",
    "\n",
    "Let's take a look at an example."
   ]
  },
  {
   "cell_type": "code",
   "execution_count": null,
   "metadata": {
    "vscode": {
     "languageId": "html"
    }
   },
   "outputs": [],
   "source": [
    "<div class=\"container\">\n",
    "  <span class=\"inline-block-element element1\">Inline-Block Element 1</span>\n",
    "  <span class=\"inline-block-element element2\">Inline-Block Element 2</span>\n",
    "</div>"
   ]
  },
  {
   "cell_type": "markdown",
   "metadata": {},
   "source": [
    "In the above example, we have a <code>div</code> with a class of <code>container</code>. Inside that <code>div</code> element, we have two <code>span</code> elements.\n",
    "\n",
    "Here is the accompanying CSS:"
   ]
  },
  {
   "cell_type": "code",
   "execution_count": null,
   "metadata": {
    "vscode": {
     "languageId": "css"
    }
   },
   "outputs": [],
   "source": [
    ".inline-block-element {\n",
    "  display: inline-block;\n",
    "  width: 150px;\n",
    "  height: 100px;\n",
    "}\n",
    "\n",
    ".element1 {\n",
    "  background-color: lightblue;\n",
    "}\n",
    "\n",
    ".element2 {\n",
    "  background-color: lightgreen;\n",
    "}"
   ]
  },
  {
   "cell_type": "markdown",
   "metadata": {},
   "source": [
    "Each of the span elements is set to <code>display:inline-block</code> and has a width and height set as well.\n",
    "\n",
    "The inline-block elements will appear side by side because they behave like inline elements, but they also have a specified width and height, which gives them block-like properties.\n",
    "\n",
    "But, if you remove the <code>display: inline-block</code> property, neither the <code>height</code> nor the <code>width</code> will be applied even though you defined it clearly.\n",
    "\n",
    "Here is the revised CSS:"
   ]
  },
  {
   "cell_type": "code",
   "execution_count": null,
   "metadata": {
    "vscode": {
     "languageId": "css"
    }
   },
   "outputs": [],
   "source": [
    ".inline-block-element {\n",
    "  width: 150px;\n",
    "  height: 100px;\n",
    "}\n",
    "\n",
    ".element1 {\n",
    "  background-color: lightblue;\n",
    "}\n",
    "\n",
    ".element2 {\n",
    "  background-color: lightgreen;\n",
    "}"
   ]
  },
  {
   "cell_type": "markdown",
   "metadata": {},
   "source": [
    "In this code, we removed the <code>display: inline-block;</code> property but kept everything else intact. Here, the <code>span</code> elements revert to their default behavior as inline elements.\n",
    "\n",
    "As a result, the specified width and height are ignored, and the elements only take up the space needed for their content.\n",
    "\n",
    "Understanding how <code>inline-block</code> works is useful because you can use it for creating layouts that require both alignment and dimension control within a continuous text flow."
   ]
  },
  {
   "cell_type": "markdown",
   "metadata": {},
   "source": [
    "## 1.10. What are margins and padding and how do they work?"
   ]
  },
  {
   "cell_type": "markdown",
   "metadata": {},
   "source": [
    "Margin and padding are essential properties in CSS for creating well-structured, readable, and visually appealing web pages.\n",
    "\n",
    "Margins control the space outside an element, helping to separate it from other elements and define the layout structure, while padding controls the space inside an element, improving content readability and aesthetic appeal.\n",
    "\n",
    "To better understand the differences between <code>margin</code> and <code>padding</code>, let's take a look at some examples.\n",
    "\n",
    "Here is an HTML example of three paragraph elements on the page:"
   ]
  },
  {
   "cell_type": "code",
   "execution_count": null,
   "metadata": {
    "vscode": {
     "languageId": "html"
    }
   },
   "outputs": [],
   "source": [
    "<p>Paragraph one</p>\n",
    "<p>Paragraph two</p>\n",
    "<p>Paragraph three</p>"
   ]
  },
  {
   "cell_type": "markdown",
   "metadata": {},
   "source": [
    "To apply spacing to the top of each paragraph element, you can use the <code>margin-top</code> property like this:"
   ]
  },
  {
   "cell_type": "code",
   "execution_count": null,
   "metadata": {
    "vscode": {
     "languageId": "css"
    }
   },
   "outputs": [],
   "source": [
    "p {\n",
    "  margin-top: 20px;\n",
    "  border: 2px solid black;\n",
    "}"
   ]
  },
  {
   "cell_type": "markdown",
   "metadata": {},
   "source": [
    "In this example, we are applying <code>20px</code> of margin only to the top of each paragraph element.\n",
    "\n",
    "We also have a solid black border on all four sides so you can see the margin better.\n",
    "\n",
    "The four different <code>margin</code> properties are <code>margin-top</code>, <code>margin-right</code>, <code>margin-bottom</code> and <code>margin-left</code>.\n",
    "\n",
    "Here is an example of using all four properties:"
   ]
  },
  {
   "cell_type": "code",
   "execution_count": null,
   "metadata": {
    "vscode": {
     "languageId": "html"
    }
   },
   "outputs": [],
   "source": [
    "<span>Paragraph one</span>\n",
    "<p>Paragraph two</p>\n",
    "<span>Paragraph three</span>"
   ]
  },
  {
   "cell_type": "code",
   "execution_count": null,
   "metadata": {
    "vscode": {
     "languageId": "css"
    }
   },
   "outputs": [],
   "source": [
    "p {\n",
    "  margin-top: 10px;\n",
    "  margin-right: 20px;\n",
    "  margin-bottom: 30px;\n",
    "  margin-left: 40px;\n",
    "  border: 2px solid black;\n",
    "}"
   ]
  },
  {
   "cell_type": "markdown",
   "metadata": {},
   "source": [
    "In this example, we are assigning spacing values on all four sides of the paragraph element. A solid black border has also been added so you can see the margins better.\n",
    "\n",
    "Another way to use the <code>margin</code> property is with shorthand notation. You can specify one, two, three, or four values at once. Let’s explore these options together.\n",
    "\n",
    "When using a singular value on the <code>margin</code> shorthand, that exact value will be applied to all four sides of the target element.\n",
    "\n",
    "Here is an example of using a single value on <code>margin</code> shorthand:"
   ]
  },
  {
   "cell_type": "code",
   "execution_count": null,
   "metadata": {
    "vscode": {
     "languageId": "css"
    }
   },
   "outputs": [],
   "source": [
    "p {\n",
    "  margin: 10px;\n",
    "}"
   ]
  },
  {
   "cell_type": "markdown",
   "metadata": {},
   "source": [
    "This code example will apply <code>10px</code> of <code>margin</code> equally to all four sides of the paragraph element.\n",
    "\n",
    "When using two values, the first value applies to the <code>top</code> and <code>bottom</code>, while the second value applies to the <code>left</code> and <code>right</code> sides of the element.\n",
    "\n",
    "Here is an example of using of two values for the <code>margin</code> shorthand:"
   ]
  },
  {
   "cell_type": "code",
   "execution_count": null,
   "metadata": {
    "vscode": {
     "languageId": "css"
    }
   },
   "outputs": [],
   "source": [
    "p {\n",
    "  margin: 10px 20px;\n",
    "}"
   ]
  },
  {
   "cell_type": "markdown",
   "metadata": {},
   "source": [
    "This sets the <code>top</code> and <code>bottom</code> margins to <code>10px</code>, and <code>20px</code> for the <code>left</code> and <code>right</code> margins for the paragraph element.\n",
    "\n",
    "If three values are provided, the first value applies to the <code>top</code> margin, the second value to the <code>left</code> and <code>right</code> margin, and the third value to the <code>bottom</code> margin.\n",
    "\n",
    "Here is an example to better understand:"
   ]
  },
  {
   "cell_type": "code",
   "execution_count": null,
   "metadata": {
    "vscode": {
     "languageId": "css"
    }
   },
   "outputs": [],
   "source": [
    "p {\n",
    "  margin: 10px 20px 30px;\n",
    "}"
   ]
  },
  {
   "cell_type": "markdown",
   "metadata": {},
   "source": [
    "This sets the margin to <code>10px</code> for the <code>top</code>, <code>20px</code> for the <code>left</code> and <code>right</code>, and <code>30px</code> for the <code>bottom</code>.\n",
    "\n",
    "When using four values, this gives you more control, as you can independently specify each margin value for each side of the target element.\n",
    "\n",
    "The first value targets the <code>top</code>, the second value targets the <code>right</code>, the third value targets the <code>bottom</code>, and the fourth value targets the <code>left</code>.\n",
    "\n",
    "Here is an example of using the margin shorthand with four values:"
   ]
  },
  {
   "cell_type": "code",
   "execution_count": null,
   "metadata": {
    "vscode": {
     "languageId": "css"
    }
   },
   "outputs": [],
   "source": [
    "p {\n",
    "  margin: 10px 20px 30px 40px;\n",
    "}"
   ]
  },
  {
   "cell_type": "markdown",
   "metadata": {},
   "source": [
    "This sets the margin to <code>10px</code> for the <code>top</code>, <code>20px</code> for the <code>right</code>, <code>30px</code> for the <code>bottom</code>, and <code>40px</code> for the <code>left</code>.\n",
    "<hr>\n",
    "The <code>padding</code> property is used to apply space inside the element, between the content and its border.\n",
    "\n",
    "Like the <code>margin</code> property, the four <code>padding</code> properties are <code>padding-top</code>, <code>padding-right</code>, <code>padding-bottom</code> and <code>padding-left</code>.\n",
    "\n",
    "Here's an example on how to set the <code>padding</code> for a paragraph element:"
   ]
  },
  {
   "cell_type": "code",
   "execution_count": null,
   "metadata": {
    "vscode": {
     "languageId": "html"
    }
   },
   "outputs": [],
   "source": [
    "<span>Paragraph one</span>\n",
    "<p>Paragraph two</p>\n",
    "<span>Paragraph three</span>"
   ]
  },
  {
   "cell_type": "code",
   "execution_count": null,
   "metadata": {
    "vscode": {
     "languageId": "css"
    }
   },
   "outputs": [],
   "source": [
    "p {\n",
    "  padding-top: 10px;\n",
    "  padding-right: 20px;\n",
    "  padding-bottom: 30px;\n",
    "  padding-left: 40px;\n",
    "  border: 2px solid black;\n",
    "}"
   ]
  },
  {
   "cell_type": "markdown",
   "metadata": {},
   "source": [
    "This sets the padding to <code>10px</code> for the <code>top</code>, <code>20px</code> for the <code>right</code>, <code>30px</code> for the <code>bottom</code>, and <code>40px</code> for the <code>left</code>.\n",
    "\n",
    "As you can see that, <code>padding</code> is applied to the content which is inside the border, unlike <code>margin</code> which applies to outside the border.\n",
    "\n",
    "Just like the <code>margin</code> property, you can also choose to use the shorthand for the <code>padding</code> property.\n",
    "\n",
    "You can either specify one, two, three, or four values on the <code>padding</code> shorthand property as well.\n",
    "\n",
    "Here is an example of using the <code>padding</code> shorthand for paragraph element from earlier:"
   ]
  },
  {
   "cell_type": "code",
   "execution_count": null,
   "metadata": {
    "vscode": {
     "languageId": "css"
    }
   },
   "outputs": [],
   "source": [
    "p {\n",
    "  padding: 10px 20px 30px 40px;\n",
    "  border: 2px solid black;\n",
    "}"
   ]
  },
  {
   "cell_type": "markdown",
   "metadata": {},
   "source": [
    "In the example, using the shorthand the code will set the padding to <code>10px</code> for the <code>top</code>, <code>20px</code> for the <code>right</code>, <code>30px</code> for the <code>bottom</code>, and <code>40px</code> for the <code>left</code> of the paragraph element."
   ]
  },
  {
   "cell_type": "markdown",
   "metadata": {},
   "source": [
    "# 2. Example: Design a Cafe Menu"
   ]
  },
  {
   "cell_type": "markdown",
   "metadata": {},
   "source": [
    "index.html:"
   ]
  },
  {
   "cell_type": "code",
   "execution_count": null,
   "metadata": {
    "vscode": {
     "languageId": "html"
    }
   },
   "outputs": [],
   "source": [
    "<!DOCTYPE html>\n",
    "<html lang=\"en\">\n",
    "    <head>\n",
    "        <meta charset=\"utf-8\" />\n",
    "        <meta name=\"viewport\" content=\"width=device-width, initial-scale=1.0\" />\n",
    "        <title>Cafe Menu</title>\n",
    "        <link href=\"styles.css\" rel=\"stylesheet\" />\n",
    "    </head>\n",
    "    <body>\n",
    "        <div class=\"menu\">\n",
    "            <main>\n",
    "                <h1>CAMPER CAFE</h1>\n",
    "                <p class=\"established\">Est. 2020</p>\n",
    "                <hr>\n",
    "                <section>\n",
    "                    <h2>Coffee</h2>\n",
    "                    <img\n",
    "                        src=\"https://cdn.freecodecamp.org/curriculum/css-cafe/coffee.jpg\"\n",
    "                        alt=\"coffee icon\" />\n",
    "                    <article class=\"item\">\n",
    "                        <p class=\"flavor\">French Vanilla</p><p\n",
    "                            class=\"price\">3.00</p>\n",
    "                    </article>\n",
    "                    <article class=\"item\">\n",
    "                        <p class=\"flavor\">Caramel Macchiato</p><p\n",
    "                            class=\"price\">3.75</p>\n",
    "                    </article>\n",
    "                    <article class=\"item\">\n",
    "                        <p class=\"flavor\">Pumpkin Spice</p><p\n",
    "                            class=\"price\">3.50</p>\n",
    "                    </article>\n",
    "                    <article class=\"item\">\n",
    "                        <p class=\"flavor\">Hazelnut</p><p class=\"price\">4.00</p>\n",
    "                    </article>\n",
    "                    <article class=\"item\">\n",
    "                        <p class=\"flavor\">Mocha</p><p class=\"price\">4.50</p>\n",
    "                    </article>\n",
    "                </section>\n",
    "                <section>\n",
    "                    <h2>Desserts</h2>\n",
    "                    <img\n",
    "                        src=\"https://cdn.freecodecamp.org/curriculum/css-cafe/pie.jpg\"\n",
    "                        alt=\"pie icon\" />\n",
    "                    <article class=\"item\">\n",
    "                        <p class=\"dessert\">Donut</p><p class=\"price\">1.50</p>\n",
    "                    </article>\n",
    "                    <article class=\"item\">\n",
    "                        <p class=\"dessert\">Cherry Pie</p><p\n",
    "                            class=\"price\">2.75</p>\n",
    "                    </article>\n",
    "                    <article class=\"item\">\n",
    "                        <p class=\"dessert\">Cheesecake</p><p\n",
    "                            class=\"price\">3.00</p>\n",
    "                    </article>\n",
    "                    <article class=\"item\">\n",
    "                        <p class=\"dessert\">Cinnamon Roll</p><p\n",
    "                            class=\"price\">2.50</p>\n",
    "                    </article>\n",
    "                </section>\n",
    "            </main>\n",
    "            <hr class=\"bottom-line\">\n",
    "            <footer>\n",
    "                <address>\n",
    "                    <p>\n",
    "                        <a href=\"https://www.freecodecamp.org\"\n",
    "                            target=\"_blank\">Visit our website</a>\n",
    "                    </p>\n",
    "                    <p class=\"address\">123 Free Code Camp Drive</p>\n",
    "                </address>\n",
    "            </footer>\n",
    "        </div>\n",
    "    </body>\n",
    "</html>"
   ]
  },
  {
   "cell_type": "markdown",
   "metadata": {},
   "source": [
    "styles.css:"
   ]
  },
  {
   "cell_type": "code",
   "execution_count": null,
   "metadata": {
    "vscode": {
     "languageId": "css"
    }
   },
   "outputs": [],
   "source": [
    "body {\n",
    "  background-image: url(https://cdn.freecodecamp.org/curriculum/css-cafe/beans.jpg);\n",
    "  font-family: sans-serif;\n",
    "  padding: 20px;\n",
    "}\n",
    "\n",
    "h1 {\n",
    "  font-size: 40px;\n",
    "  margin-top: 0;\n",
    "  margin-bottom: 15px;\n",
    "}\n",
    "\n",
    "h2 {\n",
    "  font-size: 30px;\n",
    "}\n",
    "\n",
    ".established {\n",
    "  font-style: italic;\n",
    "}\n",
    "\n",
    "h1, h2, p {\n",
    "  text-align: center;\n",
    "}\n",
    "\n",
    ".menu {\n",
    "  width: 80%;\n",
    "  background-color: burlywood;\n",
    "  margin-left: auto;\n",
    "  margin-right: auto;\n",
    "  padding: 20px;\n",
    "  max-width: 500px;\n",
    "}\n",
    "\n",
    "img {\n",
    "  display: block;\n",
    "  margin-left: auto;\n",
    "  margin-right: auto;\n",
    "}\n",
    "\n",
    "hr {\n",
    "  height: 2px;\n",
    "  background-color: brown;\n",
    "  border-color: brown;\n",
    "}\n",
    "\n",
    ".bottom-line {\n",
    "  margin-top: 25px;\n",
    "}\n",
    "\n",
    "h1, h2 {\n",
    "  font-family: Impact, serif;\n",
    "}\n",
    "\n",
    ".item p {\n",
    "  display: inline-block;\n",
    "  margin-top: 5px;\n",
    "  margin-bottom: 5px;\n",
    "  font-size: 18px;\n",
    "}\n",
    "\n",
    ".flavor, .dessert {\n",
    "  text-align: left;\n",
    "  width: 75%;\n",
    "}\n",
    "\n",
    ".price {\n",
    "  text-align: right;\n",
    "  width: 25%;\n",
    "}\n",
    "\n",
    "/* FOOTER */\n",
    "\n",
    "footer {\n",
    "  font-size: 14px;\n",
    "}\n",
    "\n",
    "address {\n",
    "  font-style: normal;\n",
    "}\n",
    "\n",
    ".address {\n",
    "  margin-bottom: 5px;\n",
    "}\n",
    "\n",
    "a {\n",
    "  color: black;\n",
    "}\n",
    "\n",
    "a:visited {\n",
    "  color: black;\n",
    "}\n",
    "\n",
    "a:hover {\n",
    "  color: brown;\n",
    "}\n",
    "\n",
    "a:active {\n",
    "  color: brown;\n",
    "}"
   ]
  },
  {
   "cell_type": "markdown",
   "metadata": {},
   "source": [
    "# 3. Example: Design a Business Card"
   ]
  },
  {
   "cell_type": "code",
   "execution_count": null,
   "metadata": {
    "vscode": {
     "languageId": "html"
    }
   },
   "outputs": [],
   "source": [
    "<!DOCTYPE html>\n",
    "<html lang=\"en\">\n",
    "\n",
    "<head>\n",
    "    <meta charset=\"utf-8\">\n",
    "    <title>Business Card</title>\n",
    "    <link href=\"styles.css\" rel=\"stylesheet\">\n",
    "</head>\n",
    "\n",
    "<body>\n",
    "    <div class=\"business-card\">\n",
    "        <img class=\"profile-image\" src=\"https://cdn.freecodecamp.org/curriculum/labs/flower.jpg\" alt=\"flor rosa\">\n",
    "        <p class=\"full-name\">Mikaela González</p>\n",
    "        <p class=\"designation\">Software Engineer</p>\n",
    "        <p class=\"company\">Vasalto</p>\n",
    "        <hr>\n",
    "        <p class=\"\">Email: mgonzalez@vasalto.com</p>\n",
    "        <p class=\"\">Phone: +34 711 780 070</p>\n",
    "        <a href=\"freeCodeCamp.com\">Portfolio</a>\n",
    "        <hr>\n",
    "        <div class=\"social-media\">\n",
    "            <h2>Connect with me</h2>\n",
    "            <a href=\"freeCodeCamp.com\"><img class=\"logo\" src=\"https://upload.wikimedia.org/wikipedia/commons/6/6f/Logo_of_Twitter.svg\" alt=\"Twitter logo\"></a>\n",
    "            <a href=\"freeCodeCamp.com\"><img class=\"logo\" src=\"https://upload.wikimedia.org/wikipedia/commons/8/81/LinkedIn_icon.svg\" alt=\"LinkedIn logo\"></a>\n",
    "            <a href=\"freeCodeCamp.com\"><img class=\"logo\" src=\"https://upload.wikimedia.org/wikipedia/commons/9/91/Octicons-mark-github.svg\" alt=\"GitHub logo\"></a>\n",
    "        </div>\n",
    "    </div>\n",
    "</body>\n",
    "\n",
    "</html>"
   ]
  },
  {
   "cell_type": "code",
   "execution_count": null,
   "metadata": {
    "vscode": {
     "languageId": "css"
    }
   },
   "outputs": [],
   "source": [
    "body {\n",
    "    background-color:rosybrown;\n",
    "    font-family:Arial, sans-serif;\n",
    "  }\n",
    "  \n",
    "  p {\n",
    "    /* Otra forma de escribir lo mismo sería: \n",
    "      margin: 5px 0;  */\n",
    "    margin-top:5px;\n",
    "    margin-bottom:5px;\n",
    "  }\n",
    "  \n",
    "  .full-name {\n",
    "    color:#596F70;\n",
    "    font-size:25px;\n",
    "    font-weight: bold;\n",
    "  }\n",
    "  \n",
    "  .designation {\n",
    "    color:#858585;\n",
    "    font-size:20px;\n",
    "  }\n",
    "  \n",
    "  .company {\n",
    "    color:#B0AFB0;\n",
    "    font-size:18px;\n",
    "  }\n",
    "  \n",
    "  .business-card {\n",
    "    text-align: center;\n",
    "    width:300px;\n",
    "    background-color:white;\n",
    "    padding:20px;\n",
    "    margin-top:100px;\n",
    "    margin-left:auto;\n",
    "    margin-right:auto;\n",
    "    font-size:16px;\n",
    "  }\n",
    "  \n",
    "  .profile-image {\n",
    "    max-width:100%;\n",
    "  }\n",
    "  \n",
    "  .social-media a {\n",
    "    color:rosybrown;\n",
    "  }\n",
    "  \n",
    "  a {\n",
    "    text-decoration: none;\n",
    "  }\n",
    "  \n",
    "  a:hover {\n",
    "    text-decoration: underline;\n",
    "  }\n",
    "  \n",
    "  .logo {\n",
    "    max-width:8%;\n",
    "    margin-left:4%;\n",
    "    margin-right:4%;\n",
    "  }\n",
    "  \n",
    "  .logo:hover {\n",
    "    color:grey;\n",
    "  }"
   ]
  },
  {
   "cell_type": "markdown",
   "metadata": {},
   "source": [
    "# 4. CSS Specificity, the Cascade Algorithm and Inheritance"
   ]
  },
  {
   "cell_type": "markdown",
   "metadata": {},
   "source": [
    "## 4.1. What is CSS specificity and the specificity for inline, internal, and external CSS?"
   ]
  },
  {
   "cell_type": "markdown",
   "metadata": {},
   "source": [
    "CSS specificity is a fundamental concept that determines which styles are applied to an element when multiple rules could apply.\n",
    "\n",
    "Understanding specificity helps developers resolve conflicts between different CSS rules and ensures that the desired styles are consistently applied.\n",
    "\n",
    "CSS specificity is calculated based on the type of selectors used.\n",
    "\n",
    "The highest specificity is attributed to inline styles, which are applied directly to an element through the <code>style</code> attribute.\n",
    "\n",
    "Following this, ID selectors like <code>#main</code> and <code>#header</code> have a high level of specificity.\n",
    "\n",
    "Next, class selectors, attribute selectors, and pseudo-classes come into play.\n",
    "\n",
    "Examples include class selectors such as <code>.container</code> and <code>.button</code>, attribute selectors like <code>[type=\"text\"]</code>, and pseudo-classes such as <code>:hover</code>. These have a moderate level of specificity.\n",
    "\n",
    "Type selectors, such as <code>div</code> and <code>h1</code>, and pseudo-elements like <code>::before</code> and <code>::after</code>, have a lower specificity compared to the previous groups.\n",
    "\n",
    "Finally, the universal selector, represented by an asterisk <code>*</code>, has the lowest specificity of all.\n",
    "\n",
    "Specificity values are calculated as a four-part value <code>(a, b, c, d)</code>:\n",
    "\n",
    "- <code>a</code>: Inline styles (<code>1</code> or <code>0</code>).\n",
    "- <code>b</code>: Number of ID selectors.\n",
    "- <code>c</code>: Number of class selectors, attribute selectors, and pseudo-classes.\n",
    "- <code>d</code>: Number of type selectors, pseudo-elements, and universal selectors.\n",
    "\n",
    "Each part of the specificity value carries different weight:\n",
    "\n",
    "- <b>Inline styles (<code>a</code>)</b> have the highest weight, contributing a value of <code>1</code> to the first part of the specificity value.\n",
    "\n",
    "- <b>ID selectors (<code>b</code>)</b> carry the next highest weight, with each ID contributing <code>1</code> to the second part of the specificity value.\n",
    "\n",
    "- <b>Class selectors, attribute selectors, and pseudo-classes (<code>c</code>)</b> carry moderate weight, with each contributing <code>1</code> to the third part of the specificity value.\n",
    "\n",
    "- <b>Type selectors and pseudo-elements (<code>d</code>)</b> have the lowest weight, with each contributing <code>1</code> to the fourth part of the specificity value.\n",
    "\n",
    "- <b>Universal selector (<code>*</code>)</b>: The universal selector contributes <code>0</code> to the specificity calculation and does not affect specificity. Its inclusion in a selector does not change the specificity value.\n",
    "\n",
    "Inline CSS has the highest specificity because it is applied directly to the element. It overrides any internal or external CSS. The specificity value for inline styles is <code>(1, 0, 0, 0)</code>.\n",
    "\n",
    "Here is an example using inline styles for a <code>div</code> element."
   ]
  },
  {
   "cell_type": "code",
   "execution_count": null,
   "metadata": {
    "vscode": {
     "languageId": "html"
    }
   },
   "outputs": [],
   "source": [
    "<div style=\"color: red;\">This text is red.</div>"
   ]
  },
  {
   "cell_type": "markdown",
   "metadata": {},
   "source": [
    "In this example, the text will always be red, regardless of any other styles applied via internal or external CSS.\n",
    "\n",
    "Internal CSS is defined within a <code>style</code> element in the <code>head</code> section of the HTML document. It has lower specificity than inline styles but can override external styles.\n",
    "\n",
    "The specificity value for internal styles is determined by the selectors used. For example, an ID selector within internal CSS has a specificity value of <code>(0, 1, 0, 0)</code>."
   ]
  },
  {
   "cell_type": "code",
   "execution_count": null,
   "metadata": {
    "vscode": {
     "languageId": "html"
    }
   },
   "outputs": [],
   "source": [
    "<head>\n",
    "  <style>\n",
    "    .text {\n",
    "      color: blue;\n",
    "    }\n",
    "  </style>\n",
    "</head>\n",
    "<body>\n",
    "  <div class=\"text\">This text is blue.</div>\n",
    "</body>"
   ]
  },
  {
   "cell_type": "markdown",
   "metadata": {},
   "source": [
    "In this example, the text will be blue unless an inline style or a more specific external style is applied.\n",
    "\n",
    "External CSS is linked via a <code>link</code> element in the <code>head</code> section and is written in separate <code>.css</code> files. It has the lowest specificity but provides the best maintainability for larger projects.\n",
    "\n",
    "The specificity value for external styles is also determined by the selectors used. For example, a class selector within external CSS has a specificity value of <code>(0, 0, 1, 0)</code>."
   ]
  },
  {
   "cell_type": "code",
   "execution_count": null,
   "metadata": {
    "vscode": {
     "languageId": "html"
    }
   },
   "outputs": [],
   "source": [
    "<head>\n",
    "  <link rel=\"stylesheet\" href=\"styles.css\">\n",
    "</head>\n",
    "<body>\n",
    "  <div class=\"text\">This text's color is defined in an external CSS file.</div>\n",
    "</body>"
   ]
  },
  {
   "cell_type": "markdown",
   "metadata": {},
   "source": [
    "In this example, the text color is defined in the <code>styles.css</code> file and will be applied unless overridden by internal or inline styles."
   ]
  },
  {
   "cell_type": "markdown",
   "metadata": {},
   "source": [
    "<img src=\"data:image/png;base64,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\" style=\"cursor:pointer;max-width:100%;\" onclick=\"(function(img){if(img.wnd!=null&&!img.wnd.closed){img.wnd.focus();}else{var r=function(evt){if(evt.data=='ready'&&evt.source==img.wnd){img.wnd.postMessage(decodeURIComponent(img.getAttribute('src')),'*');window.removeEventListener('message',r);}};window.addEventListener('message',r);img.wnd=window.open('https://viewer.diagrams.net/?client=1&page=0&edit=_blank');}})(this);\"/>"
   ]
  },
  {
   "cell_type": "markdown",
   "metadata": {},
   "source": [
    "## 4.2. What is the universal selector <code>*</code> and what is its specificity?"
   ]
  },
  {
   "cell_type": "markdown",
   "metadata": {},
   "source": [
    "The universal selector (<code>*</code>) is a special type of CSS selector that matches any element in the document.\n",
    "\n",
    "It is often used to apply a style to all elements on the page, which can be useful for resetting or normalizing styles across different browsers.\n",
    "\n",
    "The universal selector can be used to select all elements within a specific context or globally across the entire document.\n",
    "\n",
    "Here is an example of using the universal selector for setting the <code>margin</code> and <code>padding</code> for the entire HTML document:"
   ]
  },
  {
   "cell_type": "code",
   "execution_count": null,
   "metadata": {
    "vscode": {
     "languageId": "css"
    }
   },
   "outputs": [],
   "source": [
    "* {\n",
    "  margin: 0;\n",
    "  padding: 0;\n",
    "}"
   ]
  },
  {
   "cell_type": "markdown",
   "metadata": {},
   "source": [
    "In this code example, the <code>*</code> selector resets the margin and padding of all elements to zero, which is a common technique used in CSS resets.\n",
    "\n",
    "The universal selector has the lowest specificity value of any selector. It contributes 0 to all parts of the specificity value <code>(0, 0, 0, 0)</code>.\n",
    "\n",
    "This means that any other selector, including type selectors, class selectors, ID selectors, and inline styles, will override the styles set by the universal selector.\n",
    "\n",
    "Let's take a look at the following HTML and CSS example:"
   ]
  },
  {
   "cell_type": "code",
   "execution_count": null,
   "metadata": {
    "vscode": {
     "languageId": "html"
    }
   },
   "outputs": [],
   "source": [
    "<head>\n",
    "  <style>\n",
    "    * {\n",
    "      color: blue;\n",
    "    }\n",
    "    p {\n",
    "      color: red;\n",
    "    }\n",
    "    .highlight {\n",
    "      color: green;\n",
    "    }\n",
    "    #unique {\n",
    "      color: purple;\n",
    "    }\n",
    "  </style>\n",
    "</head>\n",
    "<body>\n",
    "  <p id=\"unique\" class=\"highlight\">This text has multiple styles applied, but will be purple.</p>\n",
    "  <p class=\"highlight\">However, this text will be green.</p>\n",
    "  <p>This text will be red.</p>\n",
    "  <span>And, finally, this will be blue.</span>\n",
    "</body>"
   ]
  },
  {
   "cell_type": "markdown",
   "metadata": {
    "vscode": {
     "languageId": "html"
    }
   },
   "source": [
    "<head>\n",
    "  <style>\n",
    "    * {\n",
    "      color: lightblue;\n",
    "    }\n",
    "    p {\n",
    "      color: lightcoral;\n",
    "    }\n",
    "    .highlight {\n",
    "      color: lightgreen;\n",
    "    }\n",
    "    #unique {\n",
    "      color: rgb(248, 161, 215);\n",
    "    }\n",
    "  </style>\n",
    "</head>\n",
    "<body>\n",
    "  <p id=\"unique\" class=\"highlight\">This text has multiple styles applied, but will be purple.</p>\n",
    "  <p class=\"highlight\">However, this text will be green.</p>\n",
    "  <p>This text will be red.</p>\n",
    "  <span>And, finally, this will be blue.</span>\n",
    "</body>"
   ]
  },
  {
   "cell_type": "markdown",
   "metadata": {},
   "source": [
    "The universal <code>*</code> selector sets the text color to <code>blue</code> for all elements.\n",
    "\n",
    "However, the <code>p</code> type selector overrides this by setting the text color to <code>red</code> specifically for <code>p</code> elements.\n",
    "\n",
    "If an element has the <code>highlight</code> class, the class selector takes precedence, changing the text color to <code>green</code>.\n",
    "\n",
    "Finally, the <code>#unique</code> ID selector, which has the highest specificity, will override all others, setting the text color to <code>pruple</code>."
   ]
  },
  {
   "cell_type": "markdown",
   "metadata": {},
   "source": [
    "## 4.3. What is the specificity for type selectors?"
   ]
  },
  {
   "cell_type": "markdown",
   "metadata": {},
   "source": [
    "Type selectors, also known as element selectors, target elements based on their tag name.\n",
    "\n",
    "These selectors are fundamental in CSS and allow you to apply styles to all instances of a specific HTML element.\n",
    "\n",
    "Type selectors are straightforward to use and are written simply as the tag name of the element you want to style.\n",
    "\n",
    "Here is an example of a type selector targeting all paragraph elements on the page:"
   ]
  },
  {
   "cell_type": "code",
   "execution_count": null,
   "metadata": {
    "vscode": {
     "languageId": "css"
    }
   },
   "outputs": [],
   "source": [
    "p {\n",
    "  color: blue;\n",
    "}"
   ]
  },
  {
   "cell_type": "markdown",
   "metadata": {},
   "source": [
    "In this example, all <code>p</code> elements will have their text color set to <code>blue</code>.\n",
    "\n",
    "Type selectors have a relatively low specificity compared to other selectors. The specificity value for a type selector is <code>(0, 0, 0, 1)</code>.\n",
    "\n",
    "This means that type selectors will be overridden by class selectors, ID selectors, and inline styles, but can still apply styles unless those higher-specificity rules are present.\n",
    "\n",
    "Let's take a look at an example where the class selectors will override the styles of the type selector.\n",
    "\n",
    "Here is an example with two paragraph elements:"
   ]
  },
  {
   "cell_type": "code",
   "execution_count": null,
   "metadata": {
    "vscode": {
     "languageId": "html"
    }
   },
   "outputs": [],
   "source": [
    "<p class=\"para\">I am a paragraph</p>\n",
    "<p class=\"para\">Here is another paragraph</p>"
   ]
  },
  {
   "cell_type": "markdown",
   "metadata": {},
   "source": [
    "Both paragraph elements have a class called <code>para</code>.\n",
    "\n",
    "Inside the CSS file, the type selector targets paragraphs, and the class selector targets elements with the <code>para</code> class."
   ]
  },
  {
   "cell_type": "code",
   "execution_count": null,
   "metadata": {
    "vscode": {
     "languageId": "css"
    }
   },
   "outputs": [],
   "source": [
    "p {\n",
    "  color: blue;\n",
    "}\n",
    "\n",
    ".para {\n",
    "  color: red;\n",
    "}"
   ]
  },
  {
   "cell_type": "markdown",
   "metadata": {},
   "source": [
    "All paragraphs on the page with the class of <code>para</code> will have the text color set to <code>red</code> instead of <code>blue</code> because class selectors have a higher specificity than type selectors."
   ]
  },
  {
   "cell_type": "markdown",
   "metadata": {},
   "source": [
    "## 4.4. What is the specificity for class selectors?"
   ]
  },
  {
   "cell_type": "markdown",
   "metadata": {},
   "source": [
    "Class selectors are a key part of CSS, allowing developers to target multiple elements with the same class attribute and apply consistent styling.\n",
    "\n",
    "This makes them highly versatile and efficient for applying styles across a website.\n",
    "\n",
    "Class selectors are defined by a period (<code>.</code>) followed by the class name. They can be applied to any element in the HTML document.\n",
    "\n",
    "Here is an example using a class selector:"
   ]
  },
  {
   "cell_type": "code",
   "execution_count": null,
   "metadata": {
    "vscode": {
     "languageId": "css"
    }
   },
   "outputs": [],
   "source": [
    ".highlight {\n",
    "  color: green;\n",
    "}"
   ]
  },
  {
   "cell_type": "markdown",
   "metadata": {},
   "source": [
    "In this example, any element with the class <code>highlight</code> will have its text color set to <code>green</code>.\n",
    "\n",
    "Class selectors have a higher specificity than type selectors but lower than ID selectors and inline styles.\n",
    "\n",
    "The specificity value for a class selector is <code>(0, 0, 1, 0)</code>. This means that class selectors can override type selectors, but they can be overridden by ID selectors and inline styles.\n",
    "\n",
    "Class selectors can be combined with other selectors to create more specific rules.\n",
    "\n",
    "Here is an example combining a paragraph type selector with a class selector:"
   ]
  },
  {
   "cell_type": "code",
   "execution_count": null,
   "metadata": {
    "vscode": {
     "languageId": "css"
    }
   },
   "outputs": [],
   "source": [
    "p.highlight {\n",
    "  font-weight: bold;\n",
    "}"
   ]
  },
  {
   "cell_type": "markdown",
   "metadata": {},
   "source": [
    "This rule applies only to <code>p</code> elements that also have the <code>highlight</code> class, making their text bold."
   ]
  },
  {
   "cell_type": "markdown",
   "metadata": {},
   "source": [
    "## 4.5. What is the specificity for ID selectors?"
   ]
  },
  {
   "cell_type": "markdown",
   "metadata": {},
   "source": [
    "ID selectors are among the most powerful selectors in CSS, allowing developers to apply styles to specific elements with unique identifiers.\n",
    "\n",
    "This makes them highly effective for targeting individual elements that need unique styling.\n",
    "\n",
    "ID selectors are defined by a hash symbol (<code>#</code>) followed by the ID name. They should be unique within an HTML document, meaning no two elements should share the same ID.\n",
    "\n",
    "Here is an example using an ID selector:"
   ]
  },
  {
   "cell_type": "code",
   "execution_count": null,
   "metadata": {
    "vscode": {
     "languageId": "css"
    }
   },
   "outputs": [],
   "source": [
    "#unique {\n",
    "  color: purple;\n",
    "}"
   ]
  },
  {
   "cell_type": "markdown",
   "metadata": {},
   "source": [
    "In this example, the element with the ID <code>unique</code> will have its text color set to <code>purple</code>.\n",
    "\n",
    "ID selectors have a very high specificity, higher than type selectors and class selectors, but lower than inline styles. The specificity value for an ID selector is <code>(0, 1, 0, 0)</code>.\n",
    "\n",
    "This means that ID selectors can override class selectors and type selectors but can be overridden by inline styles.\n",
    "\n",
    "ID selectors can be combined with other selectors to create even more specific rules.\n",
    "\n",
    "Here is an example of combining a <code>div</code> type selector with an ID selector called <code>unique</code>:"
   ]
  },
  {
   "cell_type": "code",
   "execution_count": null,
   "metadata": {
    "vscode": {
     "languageId": "css"
    }
   },
   "outputs": [],
   "source": [
    "div#unique {\n",
    "  font-size: 20px;\n",
    "}"
   ]
  },
  {
   "cell_type": "markdown",
   "metadata": {},
   "source": [
    "This rule applies only to <code>div</code> elements that have the <code>unique</code> ID, setting their font size to <code>20px</code>."
   ]
  },
  {
   "cell_type": "markdown",
   "metadata": {},
   "source": [
    "## 4.6. What is the <code>!important</code> keyword in CSS, and what are the best practices for using it?"
   ]
  },
  {
   "cell_type": "markdown",
   "metadata": {},
   "source": [
    "The <code>!important</code> keyword in CSS is used to give a style rule the highest priority, allowing it to override any other declarations for a property.\n",
    "\n",
    "When used, it forces the browser to apply the specified style, regardless of the specificity of other selectors.\n",
    "\n",
    "Let's say you have an HTML paragraph element with inline styles like this:"
   ]
  },
  {
   "cell_type": "code",
   "execution_count": null,
   "metadata": {
    "vscode": {
     "languageId": "html"
    }
   },
   "outputs": [],
   "source": [
    "<p class=\"para\" style=\"background-color: lightblue; color: black;\">\n",
    "  This is a paragraph.\n",
    "</p>"
   ]
  },
  {
   "cell_type": "markdown",
   "metadata": {},
   "source": [
    "In this example, the paragraph element has a background color set to <code>lightblue</code> and a text color set to <code>black</code>.\n",
    "\n",
    "The CSS file applies the following styles to the paragraph element:"
   ]
  },
  {
   "cell_type": "code",
   "execution_count": null,
   "metadata": {
    "vscode": {
     "languageId": "css"
    }
   },
   "outputs": [],
   "source": [
    ".para {\n",
    "  background-color: black;\n",
    "  color: white;\n",
    "}"
   ]
  },
  {
   "cell_type": "markdown",
   "metadata": {},
   "source": [
    "Since inline styles have a higher precedence than class, ID and type selectors, the black background color and white text color will not be applied to that paragraph element.\n",
    "\n",
    "To override those inline styles, you can use the <code>!important</code> keyword like this:"
   ]
  },
  {
   "cell_type": "code",
   "execution_count": null,
   "metadata": {
    "vscode": {
     "languageId": "css"
    }
   },
   "outputs": [],
   "source": [
    ".para {\n",
    "  background-color: black !important;\n",
    "  color: white !important;\n",
    "}"
   ]
  },
  {
   "cell_type": "markdown",
   "metadata": {},
   "source": [
    "The <code>!important</code> keyword is used after the CSS value and before the semicolon.\n",
    "\n",
    "Now the paragraph element will have those black and white colors applied because the inline styles are being overridden with the use of the <code>!important</code> keyword.\n",
    "\n",
    "The <code>!important</code> keyword in CSS is used to give a style rule the highest priority, effectively overriding other declarations, including those with higher specificity and inline styles.\n",
    "\n",
    "However, the <code>!important</code> keyword does not change the specificity of the CSS selector itself. It simply ensures that the rule with<code>!important</code>is applied, even if there are other conflicting rules with higher specificity.\n",
    "\n",
    "Another appropriate use case for the<code>!important</code>keyword is to override styles from third-party libraries or frameworks when you do not have control over the original CSS.\n",
    "\n",
    "However, overusing the<code>!important</code>keyword can lead to difficulties in maintaining and debugging your CSS, as it breaks the natural cascading of styles and can lead to unintended consequences.\n",
    "\n",
    "So, it is best to use the<code>!important</code>keyword sparingly."
   ]
  },
  {
   "cell_type": "markdown",
   "metadata": {},
   "source": [
    "## 4.7. How does the Cascade Algorithm work at a high level?"
   ]
  },
  {
   "cell_type": "markdown",
   "metadata": {},
   "source": [
    "The Cascade Algorithm is the process the browser uses to decide which CSS rules to apply when there are multiple styles targeting the same element. It ensures that the most appropriate styles are used, based on a set of well-defined rules.\n",
    "\n",
    "1. The process begins with <b>relevance</b>. The browser first filters all the CSS rules to find those that actually apply to the element in question. This includes matching selectors and considering media queries that might be in effect.\n",
    "\n",
    "    A media query is a CSS technique used to apply styles based on the characteristics of the device or viewport, such as its width, height, or orientation.\n",
    "\n",
    "2. Next, the algorithm considers <b>origin and importance</b>. CSS can come from different sources: the browser’s default styles (user-agent), styles set by the user, and styles written by the author (you).\n",
    "\n",
    "    Following the consideration of origin, the algorithm then evaluates the importance of each rule, giving priority to rules marked with <code>!important</code>, which override other rules regardless of their source.\n",
    "\n",
    "3. After filtering by origin and importance, the algorithm looks at <b>specificity</b>. When two rules from the same origin and importance level apply, the rule with the higher specificity will be applied.\n",
    "\n",
    "    Specificity is a measure of how targeted a selector is, with more specific selectors taking precedence over more general ones.\n",
    "\n",
    "4. Finally, if everything else is equal, the <b>order of appearance</b> comes into play. When two rules have the same specificity, the one that appears last in the CSS will be applied.\n",
    "\n",
    "This is why the order in which you write your styles can sometimes affect the outcome.\n",
    "\n",
    "Let's take a look at an example.\n",
    "\n",
    "Here we have a single paragraph element on the page:"
   ]
  },
  {
   "cell_type": "code",
   "execution_count": null,
   "metadata": {
    "vscode": {
     "languageId": "html"
    }
   },
   "outputs": [],
   "source": [
    "<p>example paragraph</p>"
   ]
  },
  {
   "cell_type": "markdown",
   "metadata": {},
   "source": [
    "Inside the CSS, we have two rules each targeting the paragraph element."
   ]
  },
  {
   "cell_type": "code",
   "execution_count": null,
   "metadata": {
    "vscode": {
     "languageId": "css"
    }
   },
   "outputs": [],
   "source": [
    "p {\n",
    "  color: blue;\n",
    "}\n",
    "\n",
    "p {\n",
    "  color: green; \n",
    "}"
   ]
  },
  {
   "cell_type": "markdown",
   "metadata": {},
   "source": [
    "The first rule sets all paragraph elements to the text color of blue while the second rule sets all paragraph elements to the text color of green.\n",
    "\n",
    "So which color will be applied? <u>The color green will be applied to the paragraph elements</u>.\n",
    "\n",
    "By considering relevance, origin and importance, specificity, scope, and order of appearance, the Cascade Algorithm ensures that your CSS behaves predictably, allowing you to design more complex and nuanced web pages."
   ]
  },
  {
   "cell_type": "markdown",
   "metadata": {},
   "source": [
    "## 4.8. How does inheritance work with CSS at a high level?"
   ]
  },
  {
   "cell_type": "markdown",
   "metadata": {},
   "source": [
    "Inheritance is a key concept in CSS that determines how styles are passed down from parent elements to their child elements.\n",
    "\n",
    "Just like in the real world, where children often inherit traits from their parents, in CSS, certain properties can be inherited by child elements from their parent elements.\n",
    "\n",
    "This allows for a more efficient way to apply consistent styling across an entire document.\n",
    "\n",
    "In CSS, not all properties are inherited by default. For example, properties like <code>color</code>, <code>font-family</code>, and <code>line-height</code> are inherited. This means that if you set the text color on a parent element, all of its child elements will inherit that color unless you specifically override it.\n",
    "\n",
    "For instance, consider the following example where a parent <code>div</code> element has its color set using an inline style, and the child <code>p</code> element inherits that color:"
   ]
  },
  {
   "cell_type": "code",
   "execution_count": null,
   "metadata": {
    "vscode": {
     "languageId": "html"
    }
   },
   "outputs": [],
   "source": [
    "<div style=\"color: blue;\">\n",
    "  This is the parent element.\n",
    "  <p>This is the child element inheriting the color.</p>\n",
    "</div>"
   ]
  },
  {
   "cell_type": "markdown",
   "metadata": {},
   "source": [
    "In this case, both the parent <code>div</code> and the child <code>p</code> will display their text in blue because the color is inherited:\n",
    "\n",
    "<div style=\"color: rgb(163, 163, 255);\">\n",
    "  This is the parent element.\n",
    "  <p>This is the child element inheriting the color.</p>\n",
    "</div>\n",
    "\n",
    "On the other hand, properties like <code>margin</code>, <code>padding</code>, <code>border</code>, and <code>background</code> are not inherited by default. If you want a child element to inherit these styles, you need to explicitly set them, either directly on the child element or by using the <code>inherit</code> keyword.\n",
    "\n",
    "The <code>inherit</code> keyword can be used to force inheritance of a property from a parent element, even if that property is not normally inherited.\n",
    "\n",
    "For example, if you want a specific child element to have the same <code>padding</code> as its parent, you can set <code>padding: inherit</code> on the child element:"
   ]
  },
  {
   "cell_type": "code",
   "execution_count": null,
   "metadata": {
    "vscode": {
     "languageId": "html"
    }
   },
   "outputs": [],
   "source": [
    "<div style=\"padding: 20px;\">\n",
    "  This is the parent element with padding.\n",
    "  <p style=\"padding: inherit;\">This is the child element inheriting the padding.</p>\n",
    "</div>"
   ]
  },
  {
   "cell_type": "markdown",
   "metadata": {},
   "source": [
    "In this case, the child <code>p</code> element will inherit the <code>20px</code> of padding from its parent <code>div</code> element.\n",
    "\n",
    "Inheritance is especially useful for maintaining consistency and reducing redundancy in your stylesheets.\n",
    "\n",
    "Instead of writing the same style rule for multiple elements, you can define it once on a parent element, and the child elements will inherit it. This can make your CSS more concise and easier to manage.\n",
    "\n",
    "However, it’s important to remember that inheritance only works in one direction – from parent to child. If you override a style on a child element, it won’t affect the parent element."
   ]
  },
  {
   "cell_type": "markdown",
   "metadata": {},
   "source": [
    "# 5. Styling Lists and Links"
   ]
  },
  {
   "cell_type": "markdown",
   "metadata": {},
   "source": [
    "## 5.1. How do you space list items using <code>margin</code> or <code>line-height</code> in CSS?"
   ]
  },
  {
   "cell_type": "markdown",
   "metadata": {},
   "source": [
    "Margins and line-height are essential for spacing list items to enhance readability and visual appeal.\n",
    "\n",
    "First, let's start spacing list items using margins!\n",
    "\n",
    "Margins can be used to create space between list items by applying margin properties to the <code>li</code> elements. This method allows you to control the spacing outside each list item, effectively increasing or decreasing the gap between them.\n",
    "\n",
    "Let's take a look at an example of an unordered list with three list items."
   ]
  },
  {
   "cell_type": "code",
   "execution_count": null,
   "metadata": {
    "vscode": {
     "languageId": "html"
    }
   },
   "outputs": [],
   "source": [
    "<ul>\n",
    "  <li>Item 1</li>\n",
    "  <li>Item 2</li>\n",
    "  <li>Item 3</li>\n",
    "</ul>"
   ]
  },
  {
   "cell_type": "markdown",
   "metadata": {},
   "source": [
    "By default, HTML will not apply that much spacing between the list items.\n",
    "\n",
    "To apply some spacing to the bottom of each list item, you can use the <code>margin-bottom</code> property like this:"
   ]
  },
  {
   "cell_type": "code",
   "execution_count": null,
   "metadata": {
    "vscode": {
     "languageId": "css"
    }
   },
   "outputs": [],
   "source": [
    "li {\n",
    "  margin-bottom: 40px;\n",
    "}"
   ]
  },
  {
   "cell_type": "markdown",
   "metadata": {},
   "source": [
    "In this example, <code>40px</code> of margin will be applied to the bottom of each list item inside the unordered list.\n",
    "<hr>\n",
    "Another way to space out list items would be to use the <code>line-height</code> property.\n",
    "\n",
    "The <code>line-height</code> property adjusts the vertical spacing between lines of text within a single list item.\n",
    "\n",
    "While it primarily affects the spacing between lines of text within each item, it can also indirectly influence the overall spacing between list items if the items contain only a single line of text.\n",
    "\n",
    "If list items have multiple lines of text, the <code>line-height</code> will affect the spacing between those lines, but it does not directly adjust the spacing between separate list items themselves.\n",
    "\n",
    "To control the spacing between individual list items, you would use <code>margin</code> or <code>padding</code> properties instead.\n",
    "\n",
    "Using the same unordered list from earlier, here is an example of applying <code>line-height</code> to the list items:"
   ]
  },
  {
   "cell_type": "code",
   "execution_count": null,
   "metadata": {
    "vscode": {
     "languageId": "css"
    }
   },
   "outputs": [],
   "source": [
    "li {\n",
    "  line-height: 2; \n",
    "}"
   ]
  },
  {
   "cell_type": "markdown",
   "metadata": {},
   "source": [
    "In this example, <code>line-height: 2;</code> sets the line height to be twice the font size, creating more vertical space within each list item."
   ]
  },
  {
   "cell_type": "markdown",
   "metadata": {},
   "source": [
    "## 5.2. How do the different <code>list-style</code> properties work in CSS?"
   ]
  },
  {
   "cell_type": "markdown",
   "metadata": {},
   "source": [
    "In CSS, the <code>list-style</code> property is used to control the appearance of lists on a webpage.\n",
    "\n",
    "Whether you're working with ordered lists (<code>ol</code>) or unordered lists (<code>ul</code>), the <code>list-style</code> property allows you to customize how list items are displayed.\n",
    "\n",
    "The <code>list-style</code> property is actually a shorthand for three other properties:\n",
    "\n",
    "- <code>list-style-type</code>\n",
    "- <code>list-style-position</code>\n",
    "- <code>list-style-image</code>\n",
    "\n",
    "Each one plays a different role in defining the appearance of lists.\n",
    "<hr>\n",
    "The <code>list-style-type</code> property allows you to define the type of bullet point or number used in a list.\n",
    "\n",
    "For unordered lists, you can choose from several bullet styles, such as discs, circles, or squares.\n",
    "\n",
    "For ordered lists, you can use different numbering systems, like decimal, Roman numerals, or even alphabetical characters.\n",
    "\n",
    "Here’s an example of using <code>list-style-type</code>:"
   ]
  },
  {
   "cell_type": "code",
   "execution_count": null,
   "metadata": {
    "vscode": {
     "languageId": "html"
    }
   },
   "outputs": [],
   "source": [
    "<ul style=\"list-style-type: square;\">\n",
    "  <li>Item 1</li>\n",
    "  <li>Item 2</li>\n",
    "  <li>Item 3</li>\n",
    "</ul>"
   ]
  },
  {
   "cell_type": "markdown",
   "metadata": {},
   "source": [
    "In this example, the bullet points of the unordered list are changed to squares.\n",
    "\n",
    "The <code>list-style-type</code> property is the most commonly used of the three, as it directly affects the appearance of the bullet or numbering style in your lists.\n",
    "<hr>\n",
    "The <code>list-style-position</code> property controls the position of the bullet or number in relation to the list item’s content. There are two values you can use: <code>inside</code> and <code>outside</code>.\n",
    "\n",
    "- When you use the value <code>outside</code>, the bullet or number appears outside the content, which is the default behavior.\n",
    "\n",
    "- And, when you use the value <code>inside</code>, the bullet or number appears inside the content, which may cause the text to wrap and align with the bullet or number.\n",
    "\n",
    "Here’s an example of using <code>list-style-position</code>:"
   ]
  },
  {
   "cell_type": "code",
   "execution_count": null,
   "metadata": {
    "vscode": {
     "languageId": "html"
    }
   },
   "outputs": [],
   "source": [
    "<ul style=\"list-style-position: inside;\">\n",
    "  <li>Item 1</li>\n",
    "  <li>Item 2</li>\n",
    "  <li>Item 3</li>\n",
    "</ul>\n",
    "<ul style=\"list-style-position: outside;\">\n",
    "  <li>Item 4</li>\n",
    "  <li>Item 5</li>\n",
    "  <li>Item 6</li>\n",
    "</ul>"
   ]
  },
  {
   "cell_type": "markdown",
   "metadata": {},
   "source": [
    "In this example, both <code>inside</code> and <code>outside</code> values are provided for two different unordered list tags.\n",
    "\n",
    "The <code>list-style-position</code> property can be useful when you want to control the alignment of the list content, especially in situations where you have multiple lines of text in a single list item.\n",
    "<hr>\n",
    "The <code>list-style-image</code> property allows you to use an image as the bullet point for your list items. This can be useful for adding a unique visual style to your lists.\n",
    "\n",
    "Here’s an example of using <code>list-style-image</code>:"
   ]
  },
  {
   "cell_type": "code",
   "execution_count": null,
   "metadata": {
    "vscode": {
     "languageId": "html"
    }
   },
   "outputs": [],
   "source": [
    "<head>\n",
    "  <style>\n",
    "    ul {\n",
    "      list-style-image: url('freeCodeCamp-logo.svg');\n",
    "      list-style-position: inside;\n",
    "    }\n",
    "  </style>\n",
    "</head>\n",
    "<body>\n",
    "  <ul>\n",
    "    <li>Item 1</li>\n",
    "    <li>Item 2</li>\n",
    "    <li>Item 3</li>\n",
    "  </ul>\n",
    "</body>"
   ]
  },
  {
   "cell_type": "markdown",
   "metadata": {},
   "source": [
    "In this example, the bullet points are replaced by a custom freeCodeCamp logo, adding a personalized touch to the list.\n",
    "\n",
    "When using <code>list-style-image</code>, make sure the image you choose is small and appropriate for the design of your webpage. If the image is too large or complex, it can make the list harder to read.\n",
    "<hr>\n",
    "You can combine the three properties – <code>list-style-type</code>, <code>list-style-position</code>, and <code>list-style-image</code> – into a single <code>list-style</code> shorthand property.\n",
    "\n",
    "The order of the values in the shorthand doesn’t matter, but all three can be specified together.\n",
    "\n",
    "Here’s an example using the shorthand property:"
   ]
  },
  {
   "cell_type": "code",
   "execution_count": null,
   "metadata": {
    "vscode": {
     "languageId": "html"
    }
   },
   "outputs": [],
   "source": [
    "<ul style=\"list-style: square inside url('https://cdn.freecodecamp.org/curriculum/cat-photo-app/relaxing-cat.jpg');\">\n",
    "  <li>Item 1</li>\n",
    "  <li>Item 2</li>\n",
    "  <li>Item 3</li>\n",
    "</ul>"
   ]
  },
  {
   "cell_type": "markdown",
   "metadata": {},
   "source": [
    "In this example, the list items use square bullets, positioned inside the content, with a custom image as the bullet.\n",
    "\n",
    "However, if the image is unavailable or not rendered, the square bullets will be used as a fallback."
   ]
  },
  {
   "cell_type": "markdown",
   "metadata": {},
   "source": [
    "## 5.3. What are default link styles, and why are they important for usability on the web?"
   ]
  },
  {
   "cell_type": "markdown",
   "metadata": {},
   "source": [
    "Default link styles play a crucial role in enhancing usability and accessibility on the web.\n",
    "\n",
    "These styles, typically blue for unvisited links and purple for visited links, have become a standard that users have come to expect and rely on when navigating websites.\n",
    "\n",
    "The primary purpose of default link styles is to provide clear visual cues that help users distinguish between interactive and non-interactive elements on a webpage.\n",
    "\n",
    "This distinction is fundamental to creating an intuitive and user-friendly browsing experience.\n",
    "\n",
    "Let's consider the basic default styles for links:"
   ]
  },
  {
   "cell_type": "code",
   "execution_count": null,
   "metadata": {
    "vscode": {
     "languageId": "css"
    }
   },
   "outputs": [],
   "source": [
    "a:link {  \n",
    "    color: blue;  \n",
    "    text-decoration: underline;\n",
    "}\n",
    "\n",
    "a:visited {  \n",
    "    color: purple;\n",
    "}"
   ]
  },
  {
   "cell_type": "markdown",
   "metadata": {},
   "source": [
    "These styles serve several important functions.\n",
    "\n",
    "Firstly, the blue color for unvisited links stands out against most background colors and text, making links easily identifiable. This contrast is crucial for users to quickly scan a page and find navigational elements or important information.\n",
    "\n",
    "The underline further emphasizes that the text is clickable, providing an additional visual cue. This is particularly helpful for users who may be colorblind or have difficulty distinguishing colors.\n",
    "\n",
    "The change in color for visited links (typically to purple) helps users keep track of where they've been. This feature is invaluable for navigating large websites or conducting research, as it prevents users from inadvertently revisiting the same pages.\n",
    "\n",
    "Consider this HTML example:"
   ]
  },
  {
   "cell_type": "code",
   "execution_count": null,
   "metadata": {
    "vscode": {
     "languageId": "html"
    }
   },
   "outputs": [],
   "source": [
    "<p>\n",
    "    Learn more about \n",
    "        <a href=\"https://www.example.com/cats\">cats</a> \n",
    "        and <a href=\"https://www.example.com/dogs\">dogs</a>.\n",
    "</p>"
   ]
  },
  {
   "cell_type": "markdown",
   "metadata": {},
   "source": [
    "Without any custom CSS, most browsers will render these links in blue with an underline. After clicking on one of the links, its color will change to purple, providing immediate feedback to the user about their browsing history.\n",
    "\n",
    "While it's common for designers to modify these default styles to match a website's aesthetic, it's crucial to maintain the core principles behind them.\n",
    "\n",
    "If you choose to change the default styles, ensure that links are still clearly distinguishable from regular text, there's a visible difference between visited and unvisited links, and the chosen colors provide sufficient contrast with the background.\n",
    "\n",
    "For example, you might use a custom style like this:"
   ]
  },
  {
   "cell_type": "code",
   "execution_count": null,
   "metadata": {
    "vscode": {
     "languageId": "css"
    }
   },
   "outputs": [],
   "source": [
    "a:link {  \n",
    "    color: blue;  \n",
    "    text-decoration: none;  \n",
    "    border-bottom: 1px solid blue;\n",
    "}\n",
    "\n",
    "a:visited {  \n",
    "    color: purple;  \n",
    "    border-bottom: 1px solid purple;\n",
    "}"
   ]
  },
  {
   "cell_type": "markdown",
   "metadata": {},
   "source": [
    "This maintains the blue and purple color scheme while replacing the underline with a bottom border for a more modern look.\n",
    "\n",
    "It's also important to consider the different states of links. In addition to the default and visited states, links typically have hover and active states:"
   ]
  },
  {
   "cell_type": "code",
   "execution_count": null,
   "metadata": {
    "vscode": {
     "languageId": "css"
    }
   },
   "outputs": [],
   "source": [
    "a:hover {  \n",
    "    color: red;\n",
    "}\n",
    "\n",
    "a:active {  \n",
    "    color: darkorange;\n",
    "}"
   ]
  },
  {
   "cell_type": "markdown",
   "metadata": {},
   "source": [
    "These states provide immediate feedback to users as they interact with links, enhancing the overall usability of the site.\n",
    "\n",
    "In conclusion, while it's possible to customize link styles, the principles behind the default styles should be maintained.\n",
    "\n",
    "They play a crucial role in creating a usable and accessible web experience, helping users navigate and interact with content effectively.\n",
    "\n",
    "Always prioritize clarity and user experience when designing link styles for your websites."
   ]
  },
  {
   "cell_type": "markdown",
   "metadata": {},
   "source": [
    "## 5.4. How do you style the different link states in CSS?"
   ]
  },
  {
   "cell_type": "markdown",
   "metadata": {},
   "source": [
    "There are different states of a link, including <code>link</code>, <code>visited</code>, <code>hover</code>, <code>focus</code>, and <code>active</code>. These states are important for helping users recognize links and providing clear feedback after interactions, which improves both usability and accessibility.\n",
    "\n",
    "Styling these different link states is crucial for usability and accessibility, as it provides visual cues about the current state of the link. This helps users understand which links they have visited, which link they are interacting with, and what will happen when they click.\n",
    "\n",
    "For users with visual impairments or cognitive disabilities, these distinct styles can make navigation much easier and more intuitive.\n",
    "\n",
    "Additionally, clear link states enhance the overall user experience by providing immediate feedback on user interactions, reducing confusion and improving the site's navigability.\n",
    "\n",
    "These states can be styled using something called <code>pseudo-classes</code> in CSS.\n",
    "\n",
    "A pseudo-class is a keyword added to a selector that specifies a special state of the selected element.\n",
    "\n",
    "For example, <code>:hover</code> can change a button's color when the user's pointer hovers over it, while <code>:visited</code> can change the color of a link that has already been visited.\n",
    "\n",
    "Pseudo-classes allow you to style elements based on their state or the user's interaction with them, without the need for additional markup in your HTML.\n",
    "\n",
    "The syntax of a <code>pseudo-class</code> looks something like this where <code>A</code> is the selector and <code>:B</code> is the pseudo-class:"
   ]
  },
  {
   "cell_type": "code",
   "execution_count": null,
   "metadata": {
    "vscode": {
     "languageId": "css"
    }
   },
   "outputs": [],
   "source": [
    "A:B {  \n",
    "    property: value;\n",
    "}"
   ]
  },
  {
   "cell_type": "markdown",
   "metadata": {},
   "source": [
    "To better understand how to style the different link states, let's take a look at some examples.\n",
    "\n",
    "The <code>:link</code> <code>pseudo-class</code> styles unvisited links, indicating that they are clickable.\n",
    "\n",
    "Here is an example of targeting an anchor element and using the <code>:link</code> pseudo-class:"
   ]
  },
  {
   "cell_type": "code",
   "execution_count": null,
   "metadata": {
    "vscode": {
     "languageId": "css"
    }
   },
   "outputs": [],
   "source": [
    "/* Normal state (unvisited link) */\n",
    "a:link { \n",
    "  color: red;\n",
    "}"
   ]
  },
  {
   "cell_type": "markdown",
   "metadata": {},
   "source": [
    "The above example will change the link's default blue color to <code>red</code> when it is unvisited.\n",
    "\n",
    "<code>:visited</code> styles links that have already been visited or clicked, helping users track which links they have clicked before. Here’s an example usage of <code>:visited</code> pseudo-class:"
   ]
  },
  {
   "cell_type": "code",
   "execution_count": null,
   "metadata": {
    "vscode": {
     "languageId": "css"
    }
   },
   "outputs": [],
   "source": [
    "/* Visited link */\n",
    "a:visited {\n",
    "  color: green;\n",
    "}"
   ]
  },
  {
   "cell_type": "markdown",
   "metadata": {},
   "source": [
    "This code will color the link to <code>green</code> when it is clicked.\n",
    "\n",
    "<code>:hover</code> changes the link's style when the user hovers over it, providing a visual cue that the link is interactive. Here’s an example usage of <code>:hover</code> pseudo-class:"
   ]
  },
  {
   "cell_type": "code",
   "execution_count": null,
   "metadata": {
    "vscode": {
     "languageId": "css"
    }
   },
   "outputs": [],
   "source": [
    "/* Hover state */\n",
    "a:hover {\n",
    "  color: yellow;\n",
    "}"
   ]
  },
  {
   "cell_type": "markdown",
   "metadata": {},
   "source": [
    "This code will color the links to <code>yellow</code> when mouse is hovered over it.\n",
    "\n",
    "<code>:focus</code> adds styles around the link when it is focused, such as when <u>navigating with a keyboard</u>, or enhancing accessibility.\n",
    "\n",
    "Here is an example using the <code>outline</code> property to apply a solid orange outline when the link is focused."
   ]
  },
  {
   "cell_type": "code",
   "execution_count": null,
   "metadata": {
    "vscode": {
     "languageId": "css"
    }
   },
   "outputs": [],
   "source": [
    "/* Focus state */\n",
    "a:focus {\n",
    "  outline: 2px solid orange;\n",
    "}"
   ]
  },
  {
   "cell_type": "markdown",
   "metadata": {},
   "source": [
    "<code>:active</code> changes the link's styles while the link is <u>being clicked</u>, providing immediate feedback to the user that their action is being registered. Here’s an example usage of <code>:active</code> pseudo-class:"
   ]
  },
  {
   "cell_type": "code",
   "execution_count": null,
   "metadata": {
    "vscode": {
     "languageId": "css"
    }
   },
   "outputs": [],
   "source": [
    "/* Active state */\n",
    "a:active {\n",
    "  color: pink;\n",
    "}"
   ]
  },
  {
   "cell_type": "markdown",
   "metadata": {},
   "source": [
    "This code example will make the link to <code>pink</code> color immediately when the link is clicked."
   ]
  },
  {
   "cell_type": "markdown",
   "metadata": {},
   "source": []
  }
 ],
 "metadata": {
  "kernelspec": {
   "display_name": "Python 3",
   "language": "python",
   "name": "python3"
  },
  "language_info": {
   "codemirror_mode": {
    "name": "ipython",
    "version": 3
   },
   "file_extension": ".py",
   "mimetype": "text/x-python",
   "name": "python",
   "nbconvert_exporter": "python",
   "pygments_lexer": "ipython3",
   "version": "3.11.9"
  }
 },
 "nbformat": 4,
 "nbformat_minor": 2
}
