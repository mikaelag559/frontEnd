{
  "cells": [
    {
      "cell_type": "markdown",
      "id": "2e0e4ab6",
      "metadata": {},
      "source": [
        "# <a href=\"https://www.freecodecamp.org/learn/full-stack-developer/review-html-tables-and-forms/review-html-tables-and-forms\">Resumen</a>"
      ]
    },
    {
      "cell_type": "markdown",
      "id": "dc6bdb63-0bda-4020-a07f-b151352ebbb6",
      "metadata": {
        "trusted": true
      },
      "source": [
        "# 1. Working with Forms"
      ]
    },
    {
      "cell_type": "markdown",
      "id": "ab9b11bd",
      "metadata": {},
      "source": [
        "## 1.1. How do forms, labels and inputs work in HTML?"
      ]
    },
    {
      "cell_type": "markdown",
      "id": "bf4406c2",
      "metadata": {},
      "source": [
        "The <code>form</code> element in HTML is used to gather user information, such as names and email addresses. Here is an example of a <code>form</code> element:"
      ]
    },
    {
      "cell_type": "code",
      "execution_count": null,
      "id": "4fc9311f",
      "metadata": {
        "vscode": {
          "languageId": "html"
        }
      },
      "outputs": [],
      "source": [
        "<form action=\"url-goes-here\">\n",
        "  <!-- input elements go here -->\n",
        "</form>"
      ]
    },
    {
      "cell_type": "markdown",
      "id": "83fdd88e",
      "metadata": {},
      "source": [
        "The <code>action</code> attribute specifies where the form data will be sent upon submission. To collect specific information, like names and email addresses, you would use the <code>input</code> element. Here is an example of using an <code>input</code> element:"
      ]
    },
    {
      "cell_type": "code",
      "execution_count": null,
      "id": "93fb92df",
      "metadata": {
        "vscode": {
          "languageId": "html"
        }
      },
      "outputs": [],
      "source": [
        "<form action=\"\">\n",
        "  <input type=\"text\" />\n",
        "</form>"
      ]
    },
    {
      "cell_type": "markdown",
      "id": "dc473bdb",
      "metadata": {},
      "source": [
        "<code>input</code> elements are void elements and do not have closing tags. The <code>type</code> attribute defines the data type expected from the user. In this case, the data would be plaintext. To add a label for the input, you would use a <code>label</code> element. Here is an example of using a <code>label</code> element with the text of <code>Full Name:</code>:"
      ]
    },
    {
      "cell_type": "code",
      "execution_count": null,
      "id": "a275f192",
      "metadata": {
        "vscode": {
          "languageId": "html"
        }
      },
      "outputs": [],
      "source": [
        "<form action=\"\">\n",
        "  <label>\n",
        "    Full Name:\n",
        "    <input type=\"text\" />\n",
        "  </label>\n",
        "</form>"
      ]
    },
    {
      "cell_type": "markdown",
      "id": "f1f5a4de",
      "metadata": {},
      "source": [
        "By nesting an <code>input</code> inside a <code>label</code> element, you create an implicit association between the <code>label</code> and the <code>input</code> field. The term \"implicit\" refers to something that is understood or inferred without needing to be explicitly stated or defined with additional attributes or elements. To explicitly associate a <code>label</code> with an <code>input</code>, you can use the <code>for</code> attribute. Here is an example of using the <code>for</code> attribute for an email address label:"
      ]
    },
    {
      "cell_type": "code",
      "execution_count": null,
      "id": "7a9b99a7",
      "metadata": {
        "vscode": {
          "languageId": "html"
        }
      },
      "outputs": [],
      "source": [
        "<form action=\"\">\n",
        "  <label for=\"email\"> Email Address: </label>\n",
        "  <input type=\"email\" id=\"email\" />\n",
        "</form>"
      ]
    },
    {
      "cell_type": "markdown",
      "id": "b56a1b41",
      "metadata": {},
      "source": [
        "When using an explicit association, the values for the <code>for</code> attribute and <code>id</code> need to be the same. In this case, the values are both set to <code>email</code>. The <code>email</code> type in the input provides basic validation for correctly formatted email addresses. If you want to show additional hints to the users about the expected input, you can use the <code>placeholder</code> attribute. Here is an example using the <code>placeholder</code> attribute inside the email input:"
      ]
    },
    {
      "cell_type": "code",
      "execution_count": null,
      "id": "12b9142f",
      "metadata": {
        "vscode": {
          "languageId": "html"
        }
      },
      "outputs": [],
      "source": [
        "<form action=\"\">\n",
        "  <label for=\"email\"> Email Address: </label>\n",
        "  <input type=\"email\" id=\"email\" placeholder=\"Ex. example@email.com\" />\n",
        "</form>"
      ]
    },
    {
      "cell_type": "markdown",
      "id": "32004f2d",
      "metadata": {},
      "source": [
        "For the placeholder text, you want to provide helpful short text to show the format and type of data you expect from your users. In this case, the placeholder text, <code>Ex. example@email</code>.com, shows the user that they must enter a correctly formatted email address."
      ]
    },
    {
      "cell_type": "markdown",
      "id": "ff6af105",
      "metadata": {},
      "source": [
        "## 1.2. What are the different types of buttons and when should you use them?"
      ]
    },
    {
      "cell_type": "markdown",
      "id": "bf52647f",
      "metadata": {},
      "source": [
        "The <code>button</code> element is used to perform a particular action when it is activated. Here is an example of a <code>button</code> element with the button text of <code>Start Game</code>."
      ]
    },
    {
      "cell_type": "code",
      "execution_count": null,
      "id": "dc75548e",
      "metadata": {
        "vscode": {
          "languageId": "html"
        }
      },
      "outputs": [],
      "source": [
        "<button>Start Game</button>"
      ]
    },
    {
      "cell_type": "markdown",
      "id": "b199deb2",
      "metadata": {},
      "source": [
        "Other examples of using the <code>button</code> element include submitting a form, showing a modal, or toggling a side menu open and closed. The <code>button</code> element has a <code>type</code> attribute which controls the behavior of the button when it is activated. The first possible value for the <code>type</code> attribute would be the <code>button</code> type. Here is an example of using the <code>button</code> element with the <code>button</code> type and a text of <code>Show Alert</code>:"
      ]
    },
    {
      "cell_type": "code",
      "execution_count": null,
      "id": "029e14e3",
      "metadata": {
        "vscode": {
          "languageId": "html"
        }
      },
      "outputs": [],
      "source": [
        "<button type=\"button\">Show Alert</button>"
      ]
    },
    {
      "cell_type": "markdown",
      "id": "293a4642",
      "metadata": {},
      "source": [
        "By default, the button will not do anything when activated. However, you can add some JavaScript code to make the button interactive, such as showing an alert in this case. Another possible value for the <code>type</code> attribute is the submit value. Here is an example of using a <code>button</code> element with the <code>submit</code> type:"
      ]
    },
    {
      "cell_type": "code",
      "execution_count": null,
      "id": "9b21ff69",
      "metadata": {
        "vscode": {
          "languageId": "html"
        }
      },
      "outputs": [],
      "source": [
        "<form action=\"\">\n",
        "  <label for=\"email\">Email address:</label>\n",
        "  <input type=\"email\" id=\"email\" name=\"email\" />\n",
        "  <button type=\"submit\">Submit form</button>\n",
        "</form>"
      ]
    },
    {
      "cell_type": "markdown",
      "id": "171a8fa7",
      "metadata": {},
      "source": [
        "Inside this <code>form</code> element, there is a <code>label</code> and <code>input</code> element for the user's email address. When the user clicks on the submit button, their data will be sent to the server and will be processed. The third possible value for the <code>type</code> attribute is the <code>reset</code> value. Here is an example of a <code>form</code> element with reset and submit buttons:"
      ]
    },
    {
      "cell_type": "code",
      "execution_count": null,
      "id": "e9cfd4c7",
      "metadata": {
        "vscode": {
          "languageId": "html"
        }
      },
      "outputs": [],
      "source": [
        "<form action=\"\">\n",
        "  <label for=\"email\">Email address:</label>\n",
        "  <input type=\"email\" id=\"email\" name=\"email\" />\n",
        "  <button type=\"reset\">Reset form</button>\n",
        "  <button type=\"submit\">Submit form</button>\n",
        "</form>"
      ]
    },
    {
      "cell_type": "markdown",
      "id": "3896ee97",
      "metadata": {},
      "source": [
        "In this modified example, a <code>label</code> and <code>input</code> element are used to collect the user's email address. When the user clicks on the reset button, then it will clear out all of their input data. It is important to note that reset buttons are usually not the best idea because they could lead to users accidentally resetting their data. Also, multiple buttons in your form could clutter up the user interface.\n",
        "\n",
        "Another way to create buttons in HTML is to use the <code>input</code> element. The <code>input</code> element also has a <code>type</code> attribute with the possible values of <code>submit</code>, <code>reset</code>, and <code>button</code>. Here is an example of using the <code>input</code> element with the <code>type</code> set to <code>button</code>:"
      ]
    },
    {
      "cell_type": "code",
      "execution_count": null,
      "id": "3f53af23",
      "metadata": {
        "vscode": {
          "languageId": "html"
        }
      },
      "outputs": [],
      "source": [
        "<input type=\"button\" value=\"Show Alert\" />"
      ]
    },
    {
      "cell_type": "markdown",
      "id": "db28393f",
      "metadata": {},
      "source": [
        "The <code>value</code> attribute is used to show the button text. So, what is the difference between using the <code>input</code> and <code>button</code> elements? \n",
        "- <code>input</code> elements are void elements, which means they cannot have child nodes, such as text, and can only have a start tag. \n",
        "- On the other hand, the <code>button</code> element offers more flexibility because you can nest text, images, and icons inside it."
      ]
    },
    {
      "cell_type": "markdown",
      "id": "d2437d45",
      "metadata": {},
      "source": [
        "## 1.3. What is client-side form validation in HTML forms?"
      ]
    },
    {
      "cell_type": "markdown",
      "id": "c08ac0ca",
      "metadata": {},
      "source": [
        "When a user fills out a form on your website, it is important that they fill out all of the necessary information in the correct format. HTML form controls, like inputs, have a lot of built-in validation that you can use to check for invalid data. This will help ensure that the user fixes these mistakes before the information is submitted and processed by the server.\n",
        "\n",
        "The term \"client-side\" refers to everything that happens on the user's computer or device, like the part of a website or app you interact with directly. This includes the layout, design, and any interactive features.\n",
        "\n",
        "The term \"server-side\" refers to everything that happens on the server, the computer, or system, that hosts the website or app. This includes processing data, running applications, and handling requests that come from the user's device.\n",
        "\n",
        "While client-side validation is important, you also need server-side validation for added security. Malicious users can bypass client-side checks, so robust server-side measures are essential. You'll learn more about this in a later module. For now, let's take a look at some examples of client-side form validation.\n",
        "\n",
        "One common example of built-in form validation is to use the <code>required</code> attribute in inputs. The <code>required</code> attribute specifies that the user needs to fill out that portion of the form before it gets submitted. Here is an example of using the <code>required</code> attribute in an email input:"
      ]
    },
    {
      "cell_type": "code",
      "execution_count": null,
      "id": "549d0071",
      "metadata": {
        "vscode": {
          "languageId": "html"
        }
      },
      "outputs": [],
      "source": [
        "<form action=\"\">\n",
        "  <label for=\"email\">Email Address (Required field):</label>\n",
        "  <input required type=\"email\" name=\"email\" id=\"email\" />\n",
        "  <button type=\"submit\">Submit Form</button>\n",
        "</form>"
      ]
    },
    {
      "cell_type": "markdown",
      "id": "ff2695ee",
      "metadata": {},
      "source": [
        "When the user clicks on the <code>Submit Form</code> button without supplying an email address, they will be alerted that the field is required and the form will not be submitted. Each browser will have its own set of styles for showing this alert message. Another advantage of using the email input, is that email inputs have some basic validation to ensure correctly formatted email addresses. It is important to note that browsers only check for basic validation for standard email addresses. It is up to you to add additional layers of validation, which you will learn about in later modules.\n",
        "\n",
        "Other forms of validation for email inputs are to use the <code>minlength</code> and <code>maxlength</code> attributes. Here is an example using the extra validation:"
      ]
    },
    {
      "cell_type": "code",
      "execution_count": null,
      "id": "7c454ba0",
      "metadata": {
        "vscode": {
          "languageId": "html"
        }
      },
      "outputs": [],
      "source": [
        "<form action=\"\">\n",
        "  <label for=\"email\">Email Address (Required field):</label>\n",
        "  <input\n",
        "    required\n",
        "    type=\"email\"\n",
        "    name=\"email\"\n",
        "    id=\"email\"\n",
        "    minlength=\"4\"\n",
        "    maxlength=\"64\"\n",
        "  />\n",
        "  <button type=\"submit\">Submit Form</button>\n",
        "</form>"
      ]
    },
    {
      "cell_type": "markdown",
      "id": "60fb302d",
      "metadata": {},
      "source": [
        "The <code>minlength</code> and <code>maxlength</code> attributes are used to set the minimum and maximum length in characters for the email input. If you don't include the minimum length or exceed the max length of characters, the browser will show an alert message."
      ]
    },
    {
      "cell_type": "markdown",
      "id": "7ba0eec0",
      "metadata": {},
      "source": [
        "## 1.4. What are the different form states and why are they important?"
      ]
    },
    {
      "cell_type": "markdown",
      "id": "f7c30090",
      "metadata": {},
      "source": [
        "In HTML, form controls, like inputs, can be in different stages or conditions like a <code>focused</code> state, <code>readonly</code> state or <code>disabled</code> state.\n",
        "\n",
        "The first state would be considered the <code>default</code> state. The default state of an email address input is a blank input. That is what the email input looks like when it is first rendered on the page. At this point, the user has not input any information.\n",
        "\n",
        "When the user clicks on a form control or selects it with the keyboard's tab key, then that means it is in the <code>focused</code> state. When an input is in the <code>focused</code> state, most browsers will show a blue highlighted border around the input. But you can choose to add additional styles in CSS.\n",
        "\n",
        "Another form state is the <code>disabled</code> state. This state shows users that an input cannot be focused or activated. To disable an input, you can add the <code>disabled</code> boolean attribute to the element like this:"
      ]
    },
    {
      "cell_type": "code",
      "execution_count": null,
      "id": "31b4d136",
      "metadata": {
        "vscode": {
          "languageId": "html"
        }
      },
      "outputs": [],
      "source": [
        "<input disabled type=\"email\" name=\"email\" id=\"email\" />"
      ]
    },
    {
      "cell_type": "markdown",
      "id": "7fad4540",
      "metadata": {},
      "source": [
        "If the user tries to click on the input, then the focus will not be enabled. Similar to the <code>focused</code> state, you can choose to add additional styles for the <code>disabled</code> state using CSS.\n",
        "\n",
        "Another type of form state is the <code>readonly</code> state. This is when a form control, like an input, is not editable by the user. Here is an example of setting an email input to read only:"
      ]
    },
    {
      "cell_type": "code",
      "execution_count": null,
      "id": "d0b0d040",
      "metadata": {
        "vscode": {
          "languageId": "html"
        }
      },
      "outputs": [],
      "source": [
        "<input\n",
        "  readonly\n",
        "  type=\"email\"\n",
        "  name=\"email\"\n",
        "  id=\"email\"\n",
        "  value=\"example@email.com\"\n",
        "/>"
      ]
    },
    {
      "cell_type": "markdown",
      "id": "d7fec9ea",
      "metadata": {},
      "source": [
        "The <code>value</code> attribute is used to set the value shown inside the input field. If you tried to click on the input, you would not be able to edit the existing value.\n",
        "\n",
        "A key difference between the <code>disabled</code> state and <code>readonly</code> state is that <code>readonly</code> can be focused while the <code>disabled</code> state cannot.\n",
        "\n",
        "Understanding the different form states is important because they ensure a smooth user experience by providing clear feedback and guidance while handling errors."
      ]
    },
    {
      "cell_type": "markdown",
      "id": "12fce18f",
      "metadata": {},
      "source": [
        "# 2. Example: Build a hotel feedback form"
      ]
    },
    {
      "cell_type": "code",
      "execution_count": null,
      "id": "9b124581",
      "metadata": {
        "vscode": {
          "languageId": "html"
        }
      },
      "outputs": [],
      "source": [
        "<!DOCTYPE html>\n",
        "<html lang=\"en\">\n",
        "\n",
        "<head>\n",
        "    <meta charset=\"UTF-8\" />\n",
        "    <title>Hotel Feedback Form</title>\n",
        "</head>\n",
        "\n",
        "<body>\n",
        "    <header>\n",
        "        <h1>Hotel Feedback Form</h1>\n",
        "        <p>\n",
        "            Thank you for staying with us. Please provide feedback on your recent\n",
        "            stay.\n",
        "        </p>\n",
        "    </header>\n",
        "    <main>\n",
        "        <form method=\"POST\" action=\"https://hotel-feedback.freecodecamp.org\">\n",
        "            <fieldset>\n",
        "                <legend>Personal Information</legend>\n",
        "                <label for=\"full-name\">Name (required):</label>\n",
        "                <input type=\"text\" id=\"full-name\" name=\"name\" placeholder=\"Ex. John Doe\" required size=\"20\">\n",
        "\n",
        "                <label for=\"email\">Email address (required):</label>\n",
        "                <input placeholder=\"example@email.com\" required id=\"email\" type=\"email\" name=\"email\" size=\"20\" />\n",
        "                <label for=\"age\">Age (optional):</label>\n",
        "                <input type=\"number\" name=\"age\" id=\"age\" min=\"3\" max=\"100\" />\n",
        "            </fieldset>\n",
        "\n",
        "            <fieldset>\n",
        "                <legend>Was this your first time at our hotel?</legend>\n",
        "                <label for=\"yes-option\">Yes</label>\n",
        "                <input id=\"yes-option\" type=\"radio\" name=\"hotel-stay\" />\n",
        "                <label for=\"no-option\">No</label>\n",
        "                <input id=\"no-option\" type=\"radio\" name=\"hotel-stay\" />\n",
        "            </fieldset>\n",
        "\n",
        "            <fieldset>\n",
        "                <legend>\n",
        "                    Why did you choose to stay at our hotel? (Check all that apply)\n",
        "                </legend>\n",
        "\n",
        "                <label for=\"ads\">Social Media Ads</label>\n",
        "                <input type=\"checkbox\" id=\"ads\" name=\"ads\" value=\"ads\" />\n",
        "\n",
        "                <label for=\"recommendation\">Personal Recommendation</label>\n",
        "                <input type=\"checkbox\" id=\"recommendation\" name=\"recommendation\" value=\"recommendation\" />\n",
        "\n",
        "                <label for=\"location\">Location</label>\n",
        "                <input type=\"checkbox\" id=\"location\" name=\"location\" value=\"location\" />\n",
        "\n",
        "                <label for=\"reputation\">Reputation</label>\n",
        "                <input checked type=\"checkbox\" id=\"reputation\" name=\"reputation\" value=\"reputation\" />\n",
        "\n",
        "                <label for=\"price\">Price</label>\n",
        "                <input type=\"checkbox\" id=\"price\" name=\"price\" value=\"price\" />\n",
        "            </fieldset>\n",
        "\n",
        "            <fieldset>\n",
        "                <legend>Ratings</legend>\n",
        "\n",
        "                <label for=\"service\">How was the service?</label>\n",
        "\n",
        "                <select name=\"service\" id=\"service\">\n",
        "                    <option value=\"poor\">Poor</option>\n",
        "                    <option value=\"satisfactory\">Satisfactory</option>\n",
        "                    <option value=\"good\">Good</option>\n",
        "                    <option value=\"very-good\">Very Good</option>\n",
        "                    <option selected value=\"excellent\">Excellent</option>\n",
        "                </select>\n",
        "\n",
        "                <label for=\"food\">How was the food?</label>\n",
        "\n",
        "                <select name=\"food\" id=\"food\">\n",
        "                    <option value=\"poor\">Poor</option>\n",
        "                    <option value=\"satisfactory\">Satisfactory</option>\n",
        "                    <option value=\"good\">Good</option>\n",
        "                    <option value=\"very-good\">Very Good</option>\n",
        "                    <option selected value=\"excellent\">Excellent</option>\n",
        "                </select>\n",
        "            </fieldset>\n",
        "\n",
        "            <label for=\"comments\">Other Comments?</label>\n",
        "            <textarea cols=\"30\" rows=\"10\" name=\"comments\" id=\"comments\"></textarea>\n",
        "            <button type=\"submit\">Submit</button>\n",
        "        </form>\n",
        "    </main>\n",
        "</body>\n",
        "\n",
        "</html>"
      ]
    },
    {
      "cell_type": "markdown",
      "id": "a55c209a",
      "metadata": {},
      "source": [
        "Resultado:\n",
        "\n",
        "![img/hotel_feedback_form.png](hotel_feedback_form.png)"
      ]
    },
    {
      "cell_type": "markdown",
      "id": "c678d915",
      "metadata": {},
      "source": [
        "# 3. Example: build a survey form"
      ]
    },
    {
      "cell_type": "code",
      "execution_count": null,
      "id": "7d4e5542",
      "metadata": {
        "vscode": {
          "languageId": "html"
        }
      },
      "outputs": [],
      "source": [
        "<!DOCTYPE html>\n",
        "<html lang=\"en\">\n",
        "\n",
        "<head>\n",
        "    <meta charset=\"UTF-8\" />\n",
        "    <title>Survey Form</title>\n",
        "</head>\n",
        "\n",
        "<body>\n",
        "    <h1 id=\"title\">YourKidnapperWantsToMeetYou.com Survey Form</h1>\n",
        "    <p id=\"description\">Thank you for taking the time to help us improve the services we work so hard on providing you!</p>\n",
        "\n",
        "    <form id=\"survey-form\">\n",
        "\n",
        "        <fieldset>\n",
        "            <legend>Basic information</legend>\n",
        "            <label id=\"name-label\">Name (required):</label>\n",
        "            <input required id=\"name\" type=\"text\" placeholder=\"Ex: Christian Nightingale\" size=\"30\">\n",
        "            <br>\n",
        "            <label id=\"email-label\">Email (required):</label>\n",
        "            <input required id=\"email\" type=\"email\" placeholder=\"Ex: yourFavouriteTwin@email.co.uk\" size=\"30\">\n",
        "            <br>\n",
        "            <label id=\"number-label\">Age:</label>\n",
        "            <input required id=\"number\" type=\"number\" min=\"3\" max=\"100\" placeholder=\"Ex: 16\">\n",
        "            <br><br>\n",
        "            <label id=\"dropdown-name\">Which option best describes your current role?</label>\n",
        "            <select name=\"ocupation\" id=\"dropdown\">\n",
        "                <option value=\"student\">Student</option>\n",
        "                <option value=\"part-time\">Part time job</option>\n",
        "                <option value=\"full-time\">Full time job</option>\n",
        "                <option value=\"prefer-not-to-say\">Prefer not to say</option>\n",
        "            </select>\n",
        "\n",
        "\n",
        "        </fieldset>\n",
        "        <br>\n",
        "        <fieldset>\n",
        "            <legend>Tell us: how was the experience?</legend>\n",
        "            <label id=\"radio-name\">What role did you play during your last experience with us?</label>\n",
        "            <br>\n",
        "            <label for=\"victim-option\">Victim</label>\n",
        "            <input id=\"victim-option\" type=\"radio\" name=\"rol-name\" value=\"victim\"/>\n",
        "            <label for=\"aggressor-option\">Aggressor</label>\n",
        "            <input id=\"aggressor-option\" type=\"radio\" name=\"rol-name\" value=\"aggressor\"/>\n",
        "            <br><br>\n",
        "            <label id=\"friend-name\">Would you recommend us to a friend (or enemy)?</label>\n",
        "            <br>\n",
        "            <label for=\"yes-friend\">Definitely</label>\n",
        "            <input id=\"yes-friend\" type=\"radio\" name=\"recommend-name\" value=\"yes-friend\"/>\n",
        "            <label for=\"maybe-friend\">Maybe</label>\n",
        "            <input id=\"maybe-friend\" type=\"radio\" name=\"recommend-name\" value=\"maybe-friend\"/>\n",
        "            <label for=\"no-friend\">Never</label>\n",
        "            <input id=\"no-friend\" type=\"radio\" name=\"recommend-name\" value=\"no-friend\"/>\n",
        "            <br><br>\n",
        "            <label id=\"repeat-name\">Would you repeat the experience in the future?</label>\n",
        "            <br>\n",
        "            <input id=\"yes-repeat\" type=\"radio\" name=\"again-name\" value=\"yes-repeat\"/>\n",
        "            <label for=\"yes-repeat\">Absolutely</label><br>\n",
        "            <input id=\"change-repeat\" type=\"radio\" name=\"again-name\" value=\"change-repeat\"/>\n",
        "            <label for=\"no-repeat\">Probably, but I'd like a different role</label><br>\n",
        "            <input id=\"maybe-repeat\" type=\"radio\" name=\"again-name\" value=\"maybe-repeat\"/>\n",
        "            <label for=\"maybe-repeat\">Maybe after a few visits to a therapist...</label><br>\n",
        "            <input id=\"no-repeat\" type=\"radio\" name=\"again-name\" value=\"no-repeat\"/>\n",
        "            <label for=\"no-repeat\">Are you fucking crazy?</label>\n",
        "        </fieldset>\n",
        "        <br><br>\n",
        "\n",
        "        <fieldset>\n",
        "            <legend>What could we improve? (Select as many as you'd like)</legend>\n",
        "            <input type=\"checkbox\" id=\"ads\" name=\"ads\" value=\"ads\" />\n",
        "            <label for=\"ads\">Less meals per day</label><br>\n",
        "            <input type=\"checkbox\" id=\"recommendation\" name=\"recommendation\" value=\"recommendation\" />\n",
        "            <label for=\"recommendation\">More strict restraints</label><br>\n",
        "            <input type=\"checkbox\" id=\"location\" name=\"location\" value=\"location\" />\n",
        "            <label for=\"location\">More emotional abuse</label><br>\n",
        "            <input checked type=\"checkbox\" id=\"reputation\" name=\"reputation\" value=\"reputation\" />\n",
        "            <label for=\"reputation\">More phisical abuse</label><br>\n",
        "            <input checked type=\"checkbox\" id=\"reputation\" name=\"reputation\" value=\"reputation\" />\n",
        "            <label for=\"reputation\">More sexual abuse</label><br>\n",
        "            <input type=\"checkbox\" id=\"price\" name=\"price\" value=\"price\" />\n",
        "            <label for=\"price\">Longer duration</label><br>\n",
        "        </fieldset>\n",
        "\n",
        "        <label for=\"comments\">Other Comments?</label>\n",
        "        <textarea cols=\"30\" rows=\"1\" name=\"comments\" id=\"comments\"></textarea>\n",
        "\n",
        "        <p><em>\n",
        "                Please, note we are not responsibles for bills such as hospital's or therapist's bill nor we can be held responsibles for any possible damage caused during the experience.\n",
        "            </em></p>\n",
        "        <input type=\"submit\" id=\"submit\">Submit :)</button>\n",
        "\n",
        "    </form>\n",
        "\n",
        "</body>\n",
        "\n",
        "</html>"
      ]
    },
    {
      "cell_type": "markdown",
      "id": "55d4f314",
      "metadata": {},
      "source": [
        "Resultado:\n",
        "\n",
        "![img/kidnap_feedback_form.png](kidnap_feedback_form.png)"
      ]
    },
    {
      "cell_type": "markdown",
      "id": "84005d30",
      "metadata": {},
      "source": [
        "# 4. Working with tables"
      ]
    },
    {
      "cell_type": "markdown",
      "id": "4e29b101",
      "metadata": {},
      "source": [
        "HTML tables aren't used as much these days as they used to be. But, as a frontend developer, you should still be familiar with them. Tables are one of the earliest ways devs had for displaying data in a browser way back in the 1990s.\n",
        "\n",
        "Here's an example of code used to generate a table from the U.S. Bureau of Labor Statistics:"
      ]
    },
    {
      "cell_type": "code",
      "execution_count": null,
      "id": "35be9ba4",
      "metadata": {
        "vscode": {
          "languageId": "html"
        }
      },
      "outputs": [],
      "source": [
        "<table id=\"quickfacts\">\n",
        "  <thead>\n",
        "    <tr>\n",
        "      <th colspan=\"2\">Quick Facts: Software Developers, Quality Assurance Analysts, and Testers</th>\n",
        "    </tr>\n",
        "  </thead>\n",
        "  <tbody>\n",
        "    <tr>\n",
        "      <th>2023 Median Pay</th>\n",
        "      <td>\n",
        "        $130,160 per year\n",
        "        <br>$62.58 per hour\n",
        "      </td>\n",
        "    </tr>\n",
        "    <tr>\n",
        "      <th>Typical Entry-Level Education</th>\n",
        "      <td>Bachelor's degree</td>\n",
        "    </tr>\n",
        "    <tr>\n",
        "      <th>Work Experience in a Related Occupation</th>\n",
        "      <td>None</td>\n",
        "    </tr>\n",
        "    <tr>\n",
        "      <th>On-the-job Training</th>\n",
        "      <td>None</td>\n",
        "    </tr>\n",
        "    <tr>\n",
        "      <th>Number of Jobs, 2022</th>\n",
        "      <td>1,795,300</td>\n",
        "    </tr>\n",
        "    <tr>\n",
        "      <th>Job Outlook, 2022-32</th>\n",
        "      <td>25% (Much faster than average)</td>\n",
        "    </tr>\n",
        "    <tr>\n",
        "      <th>Employment Change, 2022-32</th>\n",
        "      <td>451,200</td>\n",
        "    </tr>\n",
        "  </tbody>\n",
        "  <tfoot>\n",
        "    <tr>\n",
        "      <th>If this table had a footer it would be here.</th>\n",
        "    </tr>\n",
        "  </tfoot>\n",
        "</table>"
      ]
    },
    {
      "cell_type": "markdown",
      "id": "5a429e50",
      "metadata": {},
      "source": [
        "<table id=\"quickfacts\">\n",
        "  <thead>\n",
        "    <tr>\n",
        "      <th colspan=\"2\">Quick Facts: Software Developers, Quality Assurance Analysts, and Testers</th>\n",
        "    </tr>\n",
        "  </thead>\n",
        "  <tbody>\n",
        "    <tr>\n",
        "      <th>2023 Median Pay</th>\n",
        "      <td>\n",
        "        $130,160 per year\n",
        "        <br>$62.58 per hour\n",
        "      </td>\n",
        "    </tr>\n",
        "    <tr>\n",
        "      <th>Typical Entry-Level Education</th>\n",
        "      <td>Bachelor's degree</td>\n",
        "    </tr>\n",
        "    <tr>\n",
        "      <th>Work Experience in a Related Occupation</th>\n",
        "      <td>None</td>\n",
        "    </tr>\n",
        "    <tr>\n",
        "      <th>On-the-job Training</th>\n",
        "      <td>None</td>\n",
        "    </tr>\n",
        "    <tr>\n",
        "      <th>Number of Jobs, 2022</th>\n",
        "      <td>1,795,300</td>\n",
        "    </tr>\n",
        "    <tr>\n",
        "      <th>Job Outlook, 2022-32</th>\n",
        "      <td>25% (Much faster than average)</td>\n",
        "    </tr>\n",
        "    <tr>\n",
        "      <th>Employment Change, 2022-32</th>\n",
        "      <td>451,200</td>\n",
        "    </tr>\n",
        "  </tbody>\n",
        "  <tfoot>\n",
        "    <tr>\n",
        "      <th colspan=\"2\">If this table had a footer it would be here.</th>\n",
        "    </tr>\n",
        "  </tfoot>\n",
        "</table>"
      ]
    },
    {
      "cell_type": "markdown",
      "id": "2ab08303",
      "metadata": {},
      "source": [
        "As you can see, there's a main <code>table</code> element with an <code>id</code> set to <code>quickfacts</code>. Inside it, the table has a table head element, <code>thead</code>, table body element, <code>tbody</code>, and a table foot element, <code>tfoot</code>.\n",
        "\n",
        "The table head, body, and foot elements can each contain some number of table rows, <code>tr</code>. And each table row can contain a table header <code>th</code> which labels the data in that row. It can also contain some number of individual data cells, called table data, <code>td</code>.\n",
        "\n",
        "Now, that's a lot of HTML elements. But don't be intimidated – these follow a simple hierarchy.\n",
        "\n",
        "Here's the simplest table we can create that includes all of these elements:"
      ]
    },
    {
      "cell_type": "code",
      "execution_count": null,
      "id": "097a5fc2",
      "metadata": {
        "vscode": {
          "languageId": "html"
        }
      },
      "outputs": [],
      "source": [
        "<table>\n",
        "  <thead>\n",
        "      <tr>\n",
        "          <th>The title of this table</th>\n",
        "      </tr>\n",
        "  </thead>\n",
        "  <tbody>\n",
        "      <tr>\n",
        "          <th>First Row</th>\n",
        "          <td>\n",
        "              First Data Cell\n",
        "          </td>\n",
        "      </tr>\n",
        "      <tr>\n",
        "          <th>Second Row</th>\n",
        "          <td>\n",
        "              Second Data Cell\n",
        "          </td>\n",
        "      </tr>\n",
        "  </tbody>\n",
        "  <tfoot>\n",
        "      <tr>\n",
        "          <th>The footer of this table, which might contain date of publication, author credits, or other meta information.</th>\n",
        "      </tr>\n",
        "  </tfoot>\n",
        "</table>"
      ]
    },
    {
      "cell_type": "markdown",
      "id": "2bc26f92",
      "metadata": {},
      "source": [
        "<table>\n",
        "  <thead>\n",
        "      <tr>\n",
        "          <th colspan=\"2\">The title of this table</th>\n",
        "      </tr>\n",
        "  </thead>\n",
        "  <tbody>\n",
        "      <tr>\n",
        "          <th>First Row</th>\n",
        "          <td>\n",
        "              First Data Cell\n",
        "          </td>\n",
        "      </tr>\n",
        "      <tr>\n",
        "          <th>Second Row</th>\n",
        "          <td>\n",
        "              Second Data Cell\n",
        "          </td>\n",
        "      </tr>\n",
        "  </tbody>\n",
        "  <tfoot>\n",
        "      <tr>\n",
        "          <th colspan=\"2\">The footer of this table, which might contain date of publication, author credits, or other meta information.</th>\n",
        "      </tr>\n",
        "  </tfoot>\n",
        "</table>"
      ]
    },
    {
      "cell_type": "markdown",
      "id": "b00f22ae",
      "metadata": {},
      "source": [
        "So as you can see, the data itself is always within a <code>tr</code> – and within that <code>tr</code> element is a <code>th</code> element with a header, and a <code>td</code> element with data.\n",
        "\n",
        "Some websites will choose to use <code>div</code>s to build their own tables instead of using the more appropriate <code>table</code> element.\n",
        "\n",
        "While it is possible to display tabular data using generic <code>div</code> elements, it is still better to use the <code>table</code> element instead.\n",
        "\n",
        "Many years ago, developers might have used a <code>table</code> to position non-data elements on a webpage. This was never considered a best practice. But you may encounter some codebases where tables are still used like this.\n",
        "\n",
        "Nowadays, developers use CSS flexbox and grid to layout their designs. freeCodeCamp will cover these tools in depth later.\n",
        "\n",
        "For now, just use HTML tables for their original intended purpose: displaying tabular data."
      ]
    },
    {
      "cell_type": "code",
      "execution_count": null,
      "id": "e042d550",
      "metadata": {
        "vscode": {
          "languageId": "html"
        }
      },
      "outputs": [],
      "source": [
        "<table>\n",
        "    <thead>\n",
        "      <tr>\n",
        "        <th></th>\n",
        "        <th>Name</th>\n",
        "        <th>Age</th>\n",
        "      </tr>\n",
        "    </thead>\n",
        "    <tbody>\n",
        "      <tr>\n",
        "        <th rowspan=\"2\">Dogs</th>\n",
        "        <td>Nora</td>\n",
        "        <td>5</td>\n",
        "      </tr>\n",
        "      <tr>\n",
        "        <td>Gino</td>\n",
        "        <td>2</td>\n",
        "      </tr>\n",
        "      <tr>\n",
        "        <th rowspan=\"2\">Cats</th>\n",
        "        <td>Lulu</td>\n",
        "        <td>10</td>\n",
        "      </tr>\n",
        "      <tr>\n",
        "        <td>Elizabeth</td>\n",
        "        <td>6</td>\n",
        "      </tr>\n",
        "    </tbody>\n",
        "  </table>\n",
        "  "
      ]
    },
    {
      "cell_type": "markdown",
      "id": "8c121880",
      "metadata": {},
      "source": [
        "<table>\n",
        "  <thead>\n",
        "    <tr>\n",
        "      <th></th>\n",
        "      <th>Name</th>\n",
        "      <th>Age</th>\n",
        "    </tr>\n",
        "  </thead>\n",
        "  <tbody>\n",
        "    <tr>\n",
        "      <th rowspan=\"2\">Dogs</th>\n",
        "      <td>Nora</td>\n",
        "      <td>5</td>\n",
        "    </tr>\n",
        "    <tr>\n",
        "      <td>Gino</td>\n",
        "      <td>2</td>\n",
        "    </tr>\n",
        "    <tr>\n",
        "      <th rowspan=\"2\">Cats</th>\n",
        "      <td>Lulu</td>\n",
        "      <td>10</td>\n",
        "    </tr>\n",
        "    <tr>\n",
        "      <td>Elizabeth</td>\n",
        "      <td>6</td>\n",
        "    </tr>\n",
        "  </tbody>\n",
        "</table>\n"
      ]
    },
    {
      "cell_type": "markdown",
      "id": "606f5710",
      "metadata": {},
      "source": [
        "# 5. Example: Build a final exam table"
      ]
    },
    {
      "cell_type": "code",
      "execution_count": null,
      "id": "3e74f997",
      "metadata": {
        "vscode": {
          "languageId": "html"
        }
      },
      "outputs": [],
      "source": [
        "<!DOCTYPE html>\n",
        "<html lang=\"en\">\n",
        "  <head>\n",
        "    <title>Calculus Final Exams Table</title>\n",
        "    <meta charset=\"UTF-8\" />\n",
        "  </head>\n",
        "  <body>\n",
        "    <table>\n",
        "      <caption>\n",
        "        Calculus Final Exam Grades\n",
        "      </caption>\n",
        "\n",
        "      <thead>     \n",
        "        <tr>\n",
        "          <th>Last Name</th>\n",
        "          <th>First Name</th>\n",
        "          <th>Grade</th>\n",
        "        </tr>\n",
        "      </thead>\n",
        "\n",
        "      <tbody>\n",
        "        <tr>\n",
        "          <td>Davis</td>\n",
        "          <td>Alex</td>\n",
        "          <td>54</td>\n",
        "        </tr>\n",
        "\n",
        "        <tr>\n",
        "          <td>Doe</td>\n",
        "          <td>Samantha</td>\n",
        "          <td>92</td>\n",
        "        </tr>\n",
        "\n",
        "        <tr>\n",
        "          <td>Rodriguez</td>\n",
        "          <td>Marcus</td>\n",
        "          <td>88</td>\n",
        "        </tr>\n",
        "\n",
        "        <tr>\n",
        "          <td>Thompson</td>\n",
        "          <td>Jane</td>\n",
        "          <td>77</td>\n",
        "        </tr>\n",
        "\n",
        "        <tr>\n",
        "          <td>Williams</td>\n",
        "          <td>Natalie</td>\n",
        "          <td>83</td>\n",
        "        </tr>\n",
        "      </tbody>\n",
        "\n",
        "      <tfoot>\n",
        "        <tr>\n",
        "            <td colspan=\"2\">Average Grade</td>\n",
        "            <td>78.8</td>\n",
        "        </tr>\n",
        "      </tfoot>\n",
        "    </table>\n",
        "  </body>\n",
        "</html>"
      ]
    },
    {
      "cell_type": "markdown",
      "id": "5b562fa2",
      "metadata": {},
      "source": [
        "# 6. Example: build a book catalog table"
      ]
    },
    {
      "cell_type": "markdown",
      "id": "9238012b",
      "metadata": {},
      "source": [
        "<!DOCTYPE html>\n",
        "<html lang=\"en\">\n",
        "\n",
        "<head>\n",
        "  <meta charset=\"UTF-8\">\n",
        "  <meta name=\"viewport\" content=\"width=device-width, initial-scale=1.0\">\n",
        "  <title>Book Catalog</title>\n",
        "</head>\n",
        "\n",
        "<body>\n",
        "  <table>\n",
        "    <thead>\n",
        "      <tr>\n",
        "        <th>Title</th>\n",
        "        <th>Author</th>\n",
        "        <th>Genre</th>\n",
        "        <th>Publication Year</th>\n",
        "      </tr>\n",
        "    </thead>\n",
        "    <tbody>\n",
        "      <tr>\n",
        "        <td>How to Contribute to Open-Source Projects – A Handbook for Beginners</td>\n",
        "        <td>Hillary Nyakundi</td>\n",
        "        <td>Open Source</td>\n",
        "        <td>2023</td>\n",
        "      </tr>\n",
        "      <tr>\n",
        "        <td>Learn Linux for Beginners: From Basics to Advanced Techniques</td>\n",
        "        <td>Quincy Larson</td>\n",
        "        <td>Linux</td>\n",
        "        <td>2023</td>\n",
        "      </tr>\n",
        "      <tr>\n",
        "        <td>How to Learn to Code and Get a Developer Job</td>\n",
        "        <td>Zaira Hira</td>\n",
        "        <td>Learn To Code</td>\n",
        "        <td>2023</td>\n",
        "      </tr>\n",
        "      <tr>\n",
        "        <td>The Regular Expressions Book – RegEx for JavaScript Developers</td>\n",
        "        <td>Kolade Chris</td>\n",
        "        <td>Regular Expressions</td>\n",
        "        <td>2023</td>\n",
        "      </tr>\n",
        "      <tr>\n",
        "        <td>The Python Code Example Handbook</td>\n",
        "        <td>Farhan Hasin Chowdhury\t</td>\n",
        "        <td>Python</td>\n",
        "        <td>2023</td>\n",
        "      </tr>\n",
        "    </tbody>\n",
        "    <tfoot>\n",
        "      <tr>\n",
        "        <td colspan=\"4\">Total Books: 5</td>\n",
        "      </tr>\n",
        "    </tfoot>\n",
        "  </table>\n",
        "</body>\n",
        "\n",
        "</html>"
      ]
    },
    {
      "cell_type": "markdown",
      "id": "532bff14",
      "metadata": {},
      "source": [
        "# 7. Working with HTML tools"
      ]
    },
    {
      "cell_type": "markdown",
      "id": "78b9e1d7",
      "metadata": {},
      "source": [
        "## 7.1. What is an HTML validator, and how can it help you debug your code?"
      ]
    },
    {
      "cell_type": "markdown",
      "id": "7ef12d7c",
      "metadata": {},
      "source": [
        "HTML is a very forgiving language – elements still render even when you make mistakes, like forgetting to include a closing tag.\n",
        "\n",
        "Let's say you have an <code>h2</code> element without a closing tag:"
      ]
    },
    {
      "cell_type": "code",
      "execution_count": null,
      "id": "de77695d",
      "metadata": {
        "vscode": {
          "languageId": "html"
        }
      },
      "outputs": [],
      "source": [
        "<h1>Article Topic</h1>\n",
        "<h2>Subheading 1 </h2>\n",
        "<h2>Subheading 2 </h2>\n",
        "\n",
        "<!-- This h2 does not have a closing tag -->\n",
        "<h2>Subheading 3"
      ]
    },
    {
      "cell_type": "markdown",
      "id": "a54047c9",
      "metadata": {},
      "source": [
        "The <code>h2</code> without a closing tag will still render fine. This happens because browsers use a parsing algorithm that handles common errors and tries to render HTML as closely as possible to the author's intention.\n",
        "\n",
        "But this could backfire sometimes. Let's add a few paragraphs under the existing heading 2 tags in the code:"
      ]
    },
    {
      "cell_type": "code",
      "execution_count": null,
      "id": "a89ef369",
      "metadata": {
        "vscode": {
          "languageId": "html"
        }
      },
      "outputs": [],
      "source": [
        "<h1>Article Topic</h1>\n",
        "<p>Lorem ipsum dolor sit amet consectetur adipisicing elit. Maiores, nisi.</p>\n",
        "\n",
        "<h2>Subheading 1 </h2>\n",
        "<p>Lorem, ipsum dolor sit amet consectetur adipisicing elit. At, doloremque.</p>\n",
        "\n",
        "<h2>Subheading 2 </h2>\n",
        "<p>Lorem ipsum dolor sit amet consectetur adipisicing elit. Unde, placeat.</p>\n",
        "\n",
        "<!-- This h2 does not have a closing tag -->\n",
        "<h2>Subheading 3\n",
        "<p>Lorem ipsum dolor, sit amet consectetur adipisicing elit. Tempore, illum.</p>"
      ]
    },
    {
      "cell_type": "markdown",
      "id": "52f99221",
      "metadata": {},
      "source": [
        "As a result, the paragraph element under the <code>h2</code> without a closing <code>h2</code> tag renders as heading 2. This is why you need an HTML validator.\n",
        "\n",
        "An HTML validator is a tool that checks the validity of your HTML code against the standard HTML specifications. It helps you identify errors and warnings in your HTML code, ensuring your web pages are correctly structured and compliant with web standards.\n",
        "\n",
        "Using an HTML validator benefits not only you and your future code reviews, but also anybody else going through your code, such as your teammates and open-source contributors.\n",
        "\n",
        "There are several HTML validators out there you can use. The most widely accepted one is the <code>w3.org</code> markup validation service.\n",
        "\n",
        "When you visit the site [validator.w3.org](https://validator.w3.org/), you can click on the <code>Validate by Direct Input</code> button and paste in your HTML code. When you click on the <code>Check</code> button, then a list of results will display with the errors that need to be fixed.\n",
        "\n",
        "Another HTML validator that you can use is [jsonformatter.org](https://jsonformatter.org/). You can copy and paste your HTML code inside the first editor, and when you click on the <code>Validate</code> button, it will show you any errors you have in your code."
      ]
    },
    {
      "cell_type": "markdown",
      "id": "15e5528e",
      "metadata": {},
      "source": [
        "## 7.2. How do you use the DOM inspector and devtools to debug and build your projects?"
      ]
    },
    {
      "cell_type": "markdown",
      "id": "0ad5f6f9",
      "metadata": {},
      "source": [
        "When you are building out your projects, you will frequently run into issues where your programs are not working as expected. Programmers often refer to issues as bugs. The process of finding and fixing these bugs is known as debugging.\n",
        "\n",
        "To debug your code, you will need to use some tools provided by your browser. Two important tools to use would be the DOM inspector and developer tools.\n",
        "\n",
        "1. The DOM inspector allows you to inspect the HTML structure of the page you are on. The DOM stands for Document Object Model. It is a tree-like structure that represents the elements on a page. You will learn more about the DOM in later modules.\n",
        "\n",
        "2. The developer tools allow you to inspect the HTML, CSS, and JavaScript of the page you are on. Let's take a look at an HTML example that contains a small bug in the anchor element:"
      ]
    },
    {
      "cell_type": "code",
      "execution_count": null,
      "id": "c76b679c",
      "metadata": {
        "vscode": {
          "languageId": "html"
        }
      },
      "outputs": [],
      "source": [
        "<a href=\"https://www.freecodecamp.org/larn/\">freeCodeCamp curriculum</a>"
      ]
    },
    {
      "cell_type": "markdown",
      "id": "ef25b2dd",
      "metadata": {},
      "source": [
        "When you click on the link, it will lead to a 404 page. A 404 page is an error page that appears when a user tries to access a webpage that doesn't exist on the server. The intent is for the link to lead to the freeCodeCamp curriculum.\n",
        "\n",
        "To see what the issue might be, you can use the developer tools:\n",
        "\n",
        "- To open the developer tools in your browser, you can right-click on the page and select <code>Inspect</code>. You can also use <code>Control + Shift + I</code> I on your PC keyboard or <code>Command + Option + I</code> on your Mac.\n",
        "\n",
        "- When you open developer tools in Google Chrome, you'll see a number of tabs. The first tab is called the <code>Elements</code> tab. This tab shows you the HTML structure of the page you are on. The second tab is called the <code>Console</code> tab. This tab shows you any errors that might be occurring on the page.\n",
        "\n",
        "- In the situation where you have a broken link, you can check the console to see the error messages for that broken link. The common message that continues to display for the broken link is the 404 error. The 404 error indicates that the page is not found.\n",
        "\n",
        "- This lets us know that the issue is with the URL in the anchor element. When you inspect the <code>href</code> value you will see there is a typo. Right now the console message shows <code>/larn</code> against a 404, but the correct URL should be <code>/learn</code>. When the link is corrected, then it will work as expected.\n",
        "\n",
        "You will learn more about working with the developer tools throughout the certification, but this is just a short example on how it can help you debug your code."
      ]
    }
  ],
  "metadata": {
    "kernelspec": {
      "display_name": "",
      "name": ""
    },
    "language_info": {
      "name": ""
    }
  },
  "nbformat": 4,
  "nbformat_minor": 5
}
