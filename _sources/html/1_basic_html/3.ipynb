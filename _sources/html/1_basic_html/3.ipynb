{
 "cells": [
  {
   "cell_type": "markdown",
   "id": "17b429dd",
   "metadata": {},
   "source": [
    "# 3. Working with Media"
   ]
  },
  {
   "cell_type": "markdown",
   "id": "8de81143",
   "metadata": {},
   "source": [
    "## 3.1. What are replaced elements and what are some examples?"
   ]
  },
  {
   "cell_type": "markdown",
   "id": "b6d7f7f4",
   "metadata": {},
   "source": [
    "A replaced element is an element whose content is determined by an external resource rather than by CSS itself. CSS, or cascading stylesheets, is used to add styles to a web page. Common examples of replaced elements include the image, iframe, and video elements.\n",
    "\n",
    "With replaced elements, you can control the position, or layout of an element. But your CSS cannot directly modify the content of that element. This might be easier to explain with some examples. Consider the image element, which embeds an image on your web page:"
   ]
  },
  {
   "cell_type": "code",
   "execution_count": null,
   "id": "e3fbd9f1",
   "metadata": {
    "vscode": {
     "languageId": "html"
    }
   },
   "outputs": [],
   "source": [
    "<img src=\"example-img-url\" alt=\"Descriptive text goes here\">"
   ]
  },
  {
   "cell_type": "markdown",
   "id": "59e36234",
   "metadata": {},
   "source": [
    "The element itself is replaced with the external object: the image. Your CSS can control things like the positioning of the image, or apply a filter to it, but you cannot actually modify the image itself. A more robust example might be the <code>iframe</code> element, which embeds an external site on your web page:"
   ]
  },
  {
   "cell_type": "code",
   "execution_count": null,
   "id": "8f2ffebf",
   "metadata": {
    "vscode": {
     "languageId": "html"
    }
   },
   "outputs": [],
   "source": [
    "<iframe src=\"https://www.example.com\" title=\"Example Site\"></iframe>"
   ]
  },
  {
   "cell_type": "markdown",
   "id": "0772486b",
   "metadata": {},
   "source": [
    "Common examples for using the <code>iframe</code> element would be to embed Maps or YouTube videos onto the page. The element itself is replaced with the external object: the site. Your CSS can change the positioning of the embedded site, but you cannot modify the site's contents. To dive a bit further, if the embedded site has an <code>h1</code> element, your CSS would not be able to style that <code>h1</code> element. You cannot change the size, font color, and so on.\n",
    "\n",
    "There are some other replaced elements, such as <code>video</code>, and <code>embed</code>. And some elements behave as replaced elements under specific circumstances. Here's an example of an <code>input</code> element with the <code>type</code> attribute set to <code>image</code>:"
   ]
  },
  {
   "cell_type": "code",
   "execution_count": null,
   "id": "65ffce9f",
   "metadata": {
    "vscode": {
     "languageId": "html"
    }
   },
   "outputs": [],
   "source": [
    "<input type=\"image\" alt=\"Descriptive text goes here\" src=\"example-img-url\">"
   ]
  },
  {
   "cell_type": "markdown",
   "id": "76360052",
   "metadata": {},
   "source": [
    "This type of <code>input</code> is considered to be a replaced element, but other <code>input</code> types like <code>text</code>, or <code>email</code> are not replaced elements."
   ]
  },
  {
   "cell_type": "markdown",
   "id": "d45426e1",
   "metadata": {},
   "source": [
    "## 3.2. What are common ways to optimize media assets?"
   ]
  },
  {
   "cell_type": "markdown",
   "id": "eba8b918",
   "metadata": {},
   "source": [
    "What are common ways to optimize media assets?\n",
    "\n",
    "There are three tools to consider when using media, such as images, on your web pages: the size, the format, and the compression.\n",
    "\n",
    "Let's talk about the size of your images first. When you are building a website, you'll often style images to display in a specific size. For example, you might have an image display at a 640x480 resolution. 640 represents the width while 480 represents the height in pixels. When preparing your image you want to scale it to a 640x480 size to match that styling. If you serve an image that is 1920x1080 but you are styling it to be much smaller, you're requiring your users to download unnecessary data. A smaller resolution results in a smaller file size.\n",
    "\n",
    "The next thing to consider is your file format. Two of the most common file formats are PNG and JPG, but these are no longer the most ideal formats for serving images. Unless you need support for older browsers, you should consider using a more optimized format, like WEBP or AVIF.\n",
    "\n",
    "Finally, you can run compression algorithms on your images. A compression algorithm is used to reduce the size for files or data. There are options like pngcrush to compress your images locally, or you can use online compression tools. However, it's worth noting that specific file formats, such as JPG, are not lossless. Lossless means that the original data can be perfectly reconstructed from the compressed data. If you try to compress a JPG image, it will result in a degraded quality. You should keep all these things in mind when selecting images for your web pages."
   ]
  },
  {
   "cell_type": "markdown",
   "id": "b8253545",
   "metadata": {},
   "source": [
    "## 3.3. What are the different types of images licenses and how do they work?"
   ]
  },
  {
   "cell_type": "markdown",
   "id": "7281869b",
   "metadata": {},
   "source": [
    "Images are considered intellectual property, this means that they are protected by copyright regulations, most often belonging to the creator. By default, images are released as all rights reserved. The creator, or publisher sometimes, holds all copyright for the image.\n",
    "\n",
    "This means that you cannot use them in your web page unless you do one of three things: \n",
    "- obtain written permission from the copyright holder\n",
    "- purchase a license from the copyright holder\n",
    "- incorporate the image in a way that falls under fair use.\n",
    "\n",
    "That third point is a bit tricky. Fair use requires that your use of the image is both limited and transformative. Some examples of fair use would be to comment on or review the art or create a parody of the image.\n",
    "\n",
    "Some images might be released under a permissive license, like a Creative Commons license, or the BSD license that freeCodeCamp uses. These images are available for use in your website, but you'll need to read the license to understand the rules you need to follow when using these images. For example, you might be required to make your website open source, or you may not be permitted to modify the image in any way.\n",
    "\n",
    "Finally, some images may be released to the public domain. An image under the public domain has no copyright attached to it and is free to be used without any restrictions. Images licensed specifically under the Creative Commons 0 license are considered public domain.\n",
    "\n",
    "Most search engines will allow you to filter image results by a license. There are also sites like Pixabay and Unsplash, which offer free-to-use images. Always be mindful of the copyright and licensing when you use an image in your website."
   ]
  },
  {
   "cell_type": "markdown",
   "id": "e0892108",
   "metadata": {},
   "source": [
    "## 3.4. What are SVGs and when should you use them?"
   ]
  },
  {
   "cell_type": "markdown",
   "id": "4b95c08b",
   "metadata": {},
   "source": [
    "First, you need to understand how images work. Common image formats like PNG and JPG are classified as raster formats. This essentially means that they are pixel-based, with the data tracking the color value in each pixel.\n",
    "\n",
    "A large downside of raster based images is that they do not upscale well. If you've ever tried to make a PNG larger, you may have seen that it becomes pixelated, or blurry.\n",
    "\n",
    "An SVG is a different kind of image. SVG stands for a scalable vector graphic. A vector graphic tracks data based on paths and equations to plot points, lines, and curves. What this really means is that a vector graphic, like an SVG, can be scaled to any size without impacting the quality.\n",
    "\n",
    "SVGs specifically have the added benefit of storing data in XML. This means you can use them directly in your code as raw HTML with the <code>svg</code> element. It also means you can programmatically change the color of the image.\n",
    "\n",
    "So when would you want to use an SVG? A great use case is for icons. If you want to create custom bullet points, or add icons to your links to represent social media platforms, using SVGs is the best approach. One of the most popular icon libraries, Font Awesome, uses SVG images for their icons. SVGs are also great for webpage logos, because they scale perfectly. They allow you to adapt your layout to any responsive design you need. Next time you have an SVG locally, try opening it with a text editor and playing with the code."
   ]
  },
  {
   "cell_type": "markdown",
   "id": "134fe40f",
   "metadata": {},
   "source": [
    "## 3.5. What are the role of the HTML audio and video elements and how do they work?"
   ]
  },
  {
   "cell_type": "markdown",
   "id": "670c041c",
   "metadata": {},
   "source": [
    "The <code>audio</code> and <code>video</code> elements allow you to add sound and video content to your HTML documents. The <code>audio</code> element supports popular audio formats like mp3, wav, and ogg. The <code>video</code> element supports mp4, ogg, and webm formats.\n",
    "\n",
    "To include audio content on your web page, you can use the <code>audio</code> element with the <code>src</code> attribute pointing to the location of your audio file:"
   ]
  },
  {
   "cell_type": "code",
   "execution_count": null,
   "id": "00ec4280",
   "metadata": {
    "vscode": {
     "languageId": "html"
    }
   },
   "outputs": [],
   "source": [
    "<audio src=\"CrystalizeThatInnerChild.mp3\"></audio>"
   ]
  },
  {
   "cell_type": "markdown",
   "id": "cc1f5afb",
   "metadata": {},
   "source": [
    "If you try to run this example, you'll see that nothing shows up on the page. However, if you inspect the page with the developer tools, you'll see the <code>audio</code> element is indeed on the page. If you want to see the audio player on the page, then you can add the <code>audio</code> element with the <code>controls</code> attribute:"
   ]
  },
  {
   "cell_type": "code",
   "execution_count": null,
   "id": "9f3ad735",
   "metadata": {
    "vscode": {
     "languageId": "html"
    }
   },
   "outputs": [],
   "source": [
    "<audio src=\"CrystalizeThatInnerChild.mp3\" controls></audio>"
   ]
  },
  {
   "cell_type": "markdown",
   "id": "36243c34",
   "metadata": {},
   "source": [
    "The <code>controls</code> attribute enables users to manage audio playback, including adjusting volume, and pausing, or resuming playback. The <code>controls</code> attribute is a boolean attribute that can be added to an element to enable built-in playback controls. If omitted, no controls will be shown.\n",
    "\n",
    "Apart from the <code>src</code> and <code>controls</code> attributes, there are several other attributes that enhance the functionality of the <code>audio</code> element. The <code>loop</code> attribute is a boolean attribute that makes the audio replay continuously. Here's an example of using the <code>loop</code> attribute to play one of Quincy Larson's songs titled \"Can't stay down\":"
   ]
  },
  {
   "cell_type": "code",
   "execution_count": null,
   "id": "997e80e7",
   "metadata": {
    "vscode": {
     "languageId": "html"
    }
   },
   "outputs": [],
   "source": [
    "<audio\n",
    "  src=\"https://cdn.freecodecamp.org/curriculum/js-music-player/can't-stay-down.mp3\"\n",
    "  loop\n",
    "  controls\n",
    "></audio>"
   ]
  },
  {
   "cell_type": "markdown",
   "id": "5f54a939",
   "metadata": {},
   "source": [
    "When the song reaches the end, it will loop back around and play it again from the beginning. Another attribute you can use is the <code>muted</code> attribute. When present in the <code>audio</code> element, this boolean attribute will start the audio in a muted state. Here's an example of using the <code>muted</code> attribute:"
   ]
  },
  {
   "cell_type": "code",
   "execution_count": null,
   "id": "bf6b3561",
   "metadata": {
    "vscode": {
     "languageId": "html"
    }
   },
   "outputs": [],
   "source": [
    "<audio\n",
    "  src=\"https://cdn.freecodecamp.org/curriculum/js-music-player/can't-stay-down.mp3\"\n",
    "  loop\n",
    "  controls\n",
    "  muted\n",
    "></audio>"
   ]
  },
  {
   "cell_type": "markdown",
   "id": "f7acc6af",
   "metadata": {},
   "source": [
    "When you start the song in the browser, you'll not hear anything. To hear the music you will need to click on the volume icon.\n",
    "\n",
    "When it comes to audio file types, there are differences in which browsers support which type. To accommodate this, you can use <code>source</code> elements inside the <code>audio</code> element and the browser will select the first source that it understands. Here's an example of using multiple <code>source</code> elements for an <code>audio</code> element:"
   ]
  },
  {
   "cell_type": "code",
   "execution_count": null,
   "id": "cfad1cd0",
   "metadata": {
    "vscode": {
     "languageId": "html"
    }
   },
   "outputs": [],
   "source": [
    "<audio controls>\n",
    "  <source src=\"audio.ogg\" type=\"audio/ogg\" />\n",
    "  <source src=\"audio.wav\" type=\"audio/wav\" />\n",
    "  <source src=\"audio.mp3\" type=\"audio/mpeg\" />\n",
    "</audio>"
   ]
  },
  {
   "cell_type": "markdown",
   "id": "cb20b4e8",
   "metadata": {},
   "source": [
    "The browser will first start with the ogg type, and if it can't play the audio, then it'll move down to the next type in the list.\n",
    "\n",
    "All the attributes we have learned so far are also supported in the <code>video</code> element. Here's an example of using a <code>video</code> element with the <code>loop</code>, <code>muted</code>, and <code>controls</code> attributes:"
   ]
  },
  {
   "cell_type": "code",
   "execution_count": null,
   "id": "302f088c",
   "metadata": {
    "vscode": {
     "languageId": "html"
    }
   },
   "outputs": [],
   "source": [
    "<video\n",
    "  src=\"https://archive.org/download/BigBuckBunny_124/Content/big_buck_bunny_720p_surround.mp4\"\n",
    "  loop\n",
    "  controls\n",
    "  muted\n",
    "></video>"
   ]
  },
  {
   "cell_type": "markdown",
   "id": "da17356d",
   "metadata": {},
   "source": [
    "For the <code>src</code>, or source attribute, we are using a video called \"Big Buck Bunny\" from archive.org. If you wanted to display an image while the video is downloading, you can use the <code>poster</code> attribute. This attribute is not available for <code>audio</code> elements and is unique to the <code>video</code> element. Here's an example of using the <code>poster</code> attribute with content provided by peach.blender.org:"
   ]
  },
  {
   "cell_type": "code",
   "execution_count": null,
   "id": "cf3a63cf",
   "metadata": {
    "vscode": {
     "languageId": "html"
    }
   },
   "outputs": [],
   "source": [
    "<video\n",
    "  src=\"https://archive.org/download/BigBuckBunny_124/Content/big_buck_bunny_720p_surround.mp4\"\n",
    "  loop\n",
    "  controls\n",
    "  muted\n",
    "  poster=\"https://peach.blender.org/wp-content/uploads/title_anouncement.jpg?x11217\"\n",
    "  width=\"620\"\n",
    "></video>"
   ]
  },
  {
   "cell_type": "markdown",
   "id": "74ecbf34",
   "metadata": {},
   "source": [
    "This example is also using the <code>width</code> attribute to set the width to 620 pixels so the video fits better on the screen."
   ]
  },
  {
   "cell_type": "markdown",
   "id": "4abf4b57",
   "metadata": {},
   "source": [
    "## 3.6. How to embed videos using <code>iframe</code> element?"
   ]
  },
  {
   "cell_type": "markdown",
   "id": "e8c31f9d",
   "metadata": {},
   "source": [
    "First, what exactly is the <code>iframe</code> element? <code>iframe</code> stands for inline frame. It's an inline element used to embed other HTML content directly within the HTML page. That HTML content could be a video, map, another HTML element, or even other web pages. Here's what the syntax of the <code>iframe</code> element looks like:"
   ]
  },
  {
   "cell_type": "code",
   "execution_count": null,
   "id": "d48ecd20",
   "metadata": {
    "vscode": {
     "languageId": "html"
    }
   },
   "outputs": [],
   "source": [
    "<iframe\n",
    "  src=\"video-url\"\n",
    "  width=\"width-value\"\n",
    "  height=\"height-value\"\n",
    "  allowfullscreen\n",
    "></iframe>"
   ]
  },
  {
   "cell_type": "markdown",
   "id": "03f0037d",
   "metadata": {},
   "source": [
    "The <code>src</code> attribute specifies the URL of the page you want to embed. The <code>width</code> attribute specifies the width of the <code>iframe</code>. The <code>height</code> attribute specifies the height of the <code>iframe</code>. The <code>allowfullscreen</code> attribute allows the user to display the <code>iframe</code> in full screen mode. It's also a good practice to specify a <code>title</code> attribute for the <code>iframe</code>, as it's important for accessibility.\n",
    "\n",
    "To embed a video within an <code>iframe</code> you can copy it directly from popular video services like YouTube and Vimeo, or define it yourself with the <code>src</code> attribute pointing to the URL of that video. Here's an example of embedding a popular freeCodeCamp course from YouTube:"
   ]
  },
  {
   "cell_type": "code",
   "execution_count": null,
   "id": "0b7308d9",
   "metadata": {
    "vscode": {
     "languageId": "html"
    }
   },
   "outputs": [],
   "source": [
    "<h1>A freeCodeCamp YouTube Video Embedded with the iframe Element</h1>\n",
    "\n",
    "<iframe\n",
    "  width=\"560\"\n",
    "  height=\"315\"\n",
    "  src=\"https://www.youtube.com/embed/PkZNo7MFNFg?si=-UBVIUNM3csdeiWF\"\n",
    "  title=\"YouTube video player\"\n",
    "  allow=\"accelerometer; autoplay; clipboard-write; encrypted-media; gyroscope; picture-in-picture; web-share\"\n",
    "  referrerpolicy=\"strict-origin-when-cross-origin\"\n",
    "  allowfullscreen\n",
    "></iframe>"
   ]
  },
  {
   "cell_type": "markdown",
   "id": "1159cd84",
   "metadata": {},
   "source": [
    "You can then customize the <code>iframe</code> to your needs or even define your own by copying the link to the YouTube video and pasting it in as the URL value. The caveat is that you must replace https://youtu.be with <b>https://youtube.com/embed/</b>.\n",
    "\n",
    "youtu.be is the domain when you copy the share link and youtube.com/embed/ is the domain required for embedding videos with the <b>iframe</b> element. Here's an example of that:"
   ]
  },
  {
   "cell_type": "code",
   "execution_count": null,
   "id": "2d43bfbd",
   "metadata": {
    "vscode": {
     "languageId": "html"
    }
   },
   "outputs": [],
   "source": [
    "<iframe\n",
    "  src=\"https://youtube.com/embed/gp5H0Vw39yw?si=Rb_2nDK6abv1iIAM\"\n",
    "  title=\"freeCodeCamp Typescript Course\"\n",
    "  width=\"500\"\n",
    "  height=\"285\"\n",
    "  allowfullscreen\n",
    "></iframe>"
   ]
  },
  {
   "cell_type": "markdown",
   "id": "2a17c59d",
   "metadata": {},
   "source": [
    "Note that the video can come from anywhere. It doesn't have to come from video services like YouTube and Vimeo. Here's a video from Pixabay embedded with the <code>iframe</code> element:"
   ]
  },
  {
   "cell_type": "code",
   "execution_count": null,
   "id": "e4f44d7a",
   "metadata": {
    "vscode": {
     "languageId": "html"
    }
   },
   "outputs": [],
   "source": [
    "<h1>A Video from Pixabay Embedded with the iframe Element</h1>\n",
    "\n",
    "<iframe\n",
    "  src=\"https://cdn.pixabay.com/video/2022/07/24/125310-733046613_large.mp4\"\n",
    "  width=\"500\"\n",
    "  height=\"285\"\n",
    "></iframe>"
   ]
  },
  {
   "cell_type": "markdown",
   "id": "d364f24e",
   "metadata": {},
   "source": [
    "Don't forget you can also embed a map, another web page, or direct HTML within the <code>iframe</code> element. Here's a map I was able to embed with the <code>iframe</code> element:"
   ]
  },
  {
   "cell_type": "code",
   "execution_count": null,
   "id": "d4be34c0",
   "metadata": {
    "vscode": {
     "languageId": "html"
    }
   },
   "outputs": [],
   "source": [
    "<h1>A Map from Openstreetmap.org Embedded with the iframe Element</h1>\n",
    "\n",
    "<iframe\n",
    "  width=\"425\"\n",
    "  height=\"350\"\n",
    "  src=\"https://www.openstreetmap.org/export/embed.html?bbox=3.006134033203125%2C6.150112578753815%2C3.6357879638671875%2C6.749850810550778&amp;layer=mapnik\"\n",
    "  style=\"border: 1px solid rgb(255, 1, 1)\"\n",
    ">\n",
    "</iframe>\n",
    "<br />\n",
    "<small>\n",
    "  <a href=\"https://www.openstreetmap.org/#map=11/6.4501/3.3210\">\n",
    "    View Larger Map\n",
    "  </a>\n",
    "</small>"
   ]
  },
  {
   "cell_type": "markdown",
   "id": "585546cb",
   "metadata": {},
   "source": [
    "If you want to embed direct HTML within the <code>iframe</code> element you have to use the <code>srcdoc</code> attribute instead of <code>src</code>."
   ]
  }
 ],
 "metadata": {
  "language_info": {
   "name": "python"
  }
 },
 "nbformat": 4,
 "nbformat_minor": 5
}
