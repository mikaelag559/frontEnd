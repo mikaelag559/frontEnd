{
 "cells": [
  {
   "cell_type": "markdown",
   "id": "5168e9ca",
   "metadata": {},
   "source": [
    "# 4. Working with links"
   ]
  },
  {
   "cell_type": "markdown",
   "id": "88c0d2ab",
   "metadata": {},
   "source": [
    "## 4.1. What are the different target attribute types and how do they work?"
   ]
  },
  {
   "cell_type": "markdown",
   "id": "4113c616",
   "metadata": {},
   "source": [
    "You may have seen the <code>target</code> attribute on anchor elements, or links. This important attribute tells the browser where to open the URL for the anchor element:"
   ]
  },
  {
   "cell_type": "code",
   "execution_count": null,
   "id": "3eb029d5",
   "metadata": {
    "vscode": {
     "languageId": "html"
    }
   },
   "outputs": [],
   "source": [
    "<a href=\"https://freecodecamp.org\" target=\"_blank\">Visit freeCodeCamp</a>"
   ]
  },
  {
   "cell_type": "markdown",
   "id": "922149d6",
   "metadata": {},
   "source": [
    "There are four important possible values for this attribute. Note that each value is preceded by an underscore.\n",
    "\n",
    "1. The first value is <code>_self</code>, which is the default value. This opens the link in the current browsing context. In most cases, this will be the current tab or window.<br><br>\n",
    "2. The second value is <code>_blank</code>, which opens the link in a new browsing context. Typically, this will open in a new tab. But some users might configure their browsers to open a new window instead.<br><br>\n",
    "3. The third value is <code>_parent</code>, which opens the link in the parent of the current context. For example, if your website has an <code>iframe</code>, a <code>_parent</code> value in that <code>iframe</code> would open in your website's tab/window, not in the embedded frame.<br><br>\n",
    "4. The fourth value is <code>_top</code>, which opens the link in the top-most browsing context - think \"the parent of the parent\". This is similar to <code>_parent</code>, but the link will always open in the full browser tab/window, even for nested embedded frames.<br><br>\n",
    "5. There is a fifth value, called <code>_unfencedTop</code>, which is currently used for the experimental FencedFrame API. At the time of this video, you probably won't have a reason to use this one yet.\n",
    "\n",
    "Selecting the right <code>target</code> value to control where your users end up is an important consideration when creating a website."
   ]
  },
  {
   "cell_type": "markdown",
   "id": "438fc144",
   "metadata": {},
   "source": [
    "## 4.2. What is the difference between absolute and relative paths?"
   ]
  },
  {
   "cell_type": "markdown",
   "id": "430db2fa",
   "metadata": {},
   "source": [
    "A path is a string that specifies the location of a file or directory in a file system. In web development, paths let developers link to resources like images, stylesheets, scripts, and other web pages. There are absolute and relative paths - both are essential when specifying file locations within a file system. Let's look at the two so you can decide which one of them to use and when.\n",
    "\n",
    "An absolute path is a complete link to a resource. It starts from the root directory, includes every other directory, and finally the filename and extension. The \"root directory\" refers to the top-level directory or folder in a hierarchy.\n",
    "\n",
    "An absolute path also includes the protocol - which could be <code>http</code>, <code>https</code>, and <code>file</code> and the domain name if the resource is on the web. Here's an example of an absolute path that links to the freeCodeCamp logo:"
   ]
  },
  {
   "cell_type": "code",
   "execution_count": null,
   "id": "631c2daa",
   "metadata": {
    "vscode": {
     "languageId": "html"
    }
   },
   "outputs": [],
   "source": [
    "<a href=\"https://design-style-guide.freecodecamp.org/img/fcc_secondary_small.svg\">\n",
    "  View fCC Logo\n",
    "</a>"
   ]
  },
  {
   "cell_type": "markdown",
   "id": "05ca155c",
   "metadata": {},
   "source": [
    "In this example, the protocol is <code>https</code>, the domain name is <code>design-style-guide.freecodecamp.org</code>, and the filename is <code>fcc_secondary_small.svg</code>.\n",
    "\n",
    "Now, what if the resource you want to link to using an absolute path is on your local machine? Here's how to link to the <code>about.html</code> file with an absolute path:"
   ]
  },
  {
   "cell_type": "code",
   "execution_count": null,
   "id": "7b69c449",
   "metadata": {
    "vscode": {
     "languageId": "html"
    }
   },
   "outputs": [],
   "source": [
    "<p>\n",
    "  Read more on the\n",
    "  <a\n",
    "    href=\"/Users/user/Desktop/fCC/script-code/absolute-vs-relative-paths/pages/about.html\"\n",
    "    >About Page</a\n",
    "    >\n",
    "</p>"
   ]
  },
  {
   "cell_type": "markdown",
   "id": "1aefce2e",
   "metadata": {},
   "source": [
    "It looks like this because we are going into a folder called <code>Users</code>, then into a folder called <code>user</code>, then into a folder called <code>Desktop</code>, then into a folder called <code>fCC</code>, then into a folder called <code>script-code</code>, then into a folder called <code>absolute-vs-relative-paths</code>, then into a folder called <code>pages</code> to finally get the <code>about.html</code> file.\n",
    "\n",
    "Here's what the absolute URL looks like in the browser address bar:"
   ]
  },
  {
   "cell_type": "code",
   "execution_count": null,
   "id": "7b44afa3",
   "metadata": {
    "vscode": {
     "languageId": "html"
    }
   },
   "outputs": [],
   "source": [
    "file:///Users/user/Desktop/fCC/script-code/absolute-vs-relative-paths/pages/about.html"
   ]
  },
  {
   "cell_type": "markdown",
   "id": "ed40268e",
   "metadata": {},
   "source": [
    "The URL includes the protocol, <code>file://</code>. It also include the path, which looks like this: <code>/Users/user/Desktop/fCC/script-code/absolute-vs-relative-paths/pages/</code>, and represents the series of folders that lead to the file. And finally, it also includes the <code>about.html</code>, which is the filename and the extension.\n",
    "\n",
    "Now, lets look at the relative path. A relative path specifies the location of a file relative to the directory of the current file. It does not include the protocol or the domain name, making it shorter and more flexible for internal links within the same website. Here's an example of linking to the <code>about.html</code> page from the <code>contact.html</code> page, both of which are in the same folder:"
   ]
  },
  {
   "cell_type": "code",
   "execution_count": null,
   "id": "45e147bc",
   "metadata": {
    "vscode": {
     "languageId": "html"
    }
   },
   "outputs": [],
   "source": [
    "<p>\n",
    "  Read more on the\n",
    "  <a href=\"about.html\">About Page</a>\n",
    "</p>"
   ]
  },
  {
   "cell_type": "markdown",
   "id": "2a9c3631",
   "metadata": {},
   "source": [
    "So imagine you are on the <code>contact.html</code> page, and because the <code>about.html</code> page is in the same place, you simply get the filename. This is an example of using a relative file path.\n",
    "\n",
    "So, which should you use and when; an absolute path or a relative path? Here are the rules you should follow:\n",
    "\n",
    "- Use absolute paths when linking to a resource hosted on an external website.\n",
    "\n",
    "- Use absolute paths when you need the link to a page or resource to work consistently regardless of the document location within the site.\n",
    "\n",
    "- Use relative paths when linking to resources within the same website.\n",
    "\n",
    "- Use relative paths if you want to keep your code cleaner and easier to maintain during development.\n",
    "\n",
    "- Use relative paths during local testing to ensure links work without an internet connection."
   ]
  },
  {
   "cell_type": "markdown",
   "id": "8ca06fb9",
   "metadata": {},
   "source": [
    "## 4.3. What is the difference between slashes, sigle dot and double dot in path syntax?"
   ]
  },
  {
   "cell_type": "markdown",
   "id": "6a3f576f",
   "metadata": {},
   "source": [
    "You may have seen links like <code>/public/logo.png</code>, <code>./script.js</code>, or <code>../styles.css</code> before. But what do these special types of links mean? These are called file paths. There are three key syntaxes to know. First is the slash, which can be a backslash (<code>&#92;</code>) or forward slash (<code>&#47;</code>) depending on your operating system. The second is the single dot (<code>.</code>). And finally, we have the double dot (<code>..</code>).\n",
    "\n",
    "1. The slash is known as the \"path separator\". It is used to indicate a break in the text between folder or file names. This is how your computer knows that <code>naomis-files/</code> points to a directory of that same name, while <code>naomis/files/</code> points to a <code>files</code> directory in the <code>naomis</code> directory.\n",
    "\n",
    "2. A single dot points to the current directory, and two dots point to the parent directory. You will typically see a single dot used to ensure that the path is recognized as a relative path. Remember that you learned in a previous lecture about relative versus absolute paths before.\n",
    "\n",
    "3. Double dots, however, are much more common to access files outside of the current working directory.\n",
    "\n",
    "For example, given this file tree:"
   ]
  },
  {
   "cell_type": "code",
   "execution_count": null,
   "id": "c01b4d1f",
   "metadata": {
    "vscode": {
     "languageId": "html"
    }
   },
   "outputs": [],
   "source": [
    "my-app/\n",
    "├─ public/\n",
    "│  ├─ favicon.ico\n",
    "│  ├─ index.html\n",
    "├─ src/\n",
    "│  ├─ index.css\n",
    "│  ├─ index.js"
   ]
  },
  {
   "cell_type": "markdown",
   "id": "92e98989",
   "metadata": {},
   "source": [
    "If your <code>public/index.html</code> file needed to load the <code>favicon.ico</code> file, you would use a relative path with a single dot to access the current directory: <code>./favicon.ico</code>. If your <code>public/index.html</code> file needed to load the <code>index.css</code> file, you would use a relative path with double dots to navigate to the parent <code>my-app</code> directory first, then to the <code>src</code> directory, and finally to your file: <code>../src/index.css</code>."
   ]
  },
  {
   "cell_type": "markdown",
   "id": "e57e36bb",
   "metadata": {},
   "source": [
    "## 4.4. What are the different link states and why are they important?"
   ]
  },
  {
   "cell_type": "markdown",
   "id": "8bf735da",
   "metadata": {},
   "source": [
    "You may have seen a link on a web page become purple after you click it. This is because the state of the link has changed, so different styling gets applied. There are five different states a link can be in.\n",
    "\n",
    "1. The first is the default state, which is <code>:link</code>. This state represents a link which the user has not visited, clicked, or interacted with yet. You can think of this state as providing the base styles for all links on your page. The other states build on top of it.\n",
    "\n",
    "2. The second state is <code>:visited</code>, which applies when a user has already visited the page being linked to. By default, this turns the link purple - but you can leverage CSS to provide a different visual indication to the user. This is helpful to let someone know they have already read a portion of your documentation. Or, that the site is one they can trust because they have used it before.\n",
    "\n",
    "3. The third state is <code>:hover</code>. This state applies when a user is hovering their cursor over a link. This state is helpful for providing extra attention to a link, to ensure a user actually intends to click it.\n",
    "\n",
    "4. Then we have <code>:focus</code>. This state applies when we focus on a link.\n",
    "\n",
    "5. And finally, we have <code>:active</code>. This state applies to links that are being activated by the user. This typically means clicking on the link with the primary mouse button by left clicking, in most cases. This state can be helpful for showing a user that the element they clicked on is interactive.\n",
    "\n",
    "When you use these states to style your links, there is a specific order you need to write your CSS in: link, visited, hover, focus, then active.\n",
    "\n",
    "You should now know how to give links in your page your own personal flair, while still providing the important information a user needs about the state of each link."
   ]
  }
 ],
 "metadata": {
  "language_info": {
   "name": "python"
  }
 },
 "nbformat": 4,
 "nbformat_minor": 5
}
