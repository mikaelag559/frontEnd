{
 "cells": [
  {
   "cell_type": "markdown",
   "id": "5220d436",
   "metadata": {},
   "source": [
    "# 1. What is HTML?"
   ]
  },
  {
   "cell_type": "markdown",
   "id": "cc713441",
   "metadata": {},
   "source": [
    "## 1.1. What is HTML, and what role does it play on the web?"
   ]
  },
  {
   "cell_type": "markdown",
   "id": "b408e099",
   "metadata": {},
   "source": [
    "HTML, which stands for Hypertext Markup Language, is a markup language for creating web pages. When you visit a website and see content like paragraphs, headings, links, images, and videos; that's HTML. HTML represents the content and structure of a webpage through the use of elements. Here's an example of a paragraph element:"
   ]
  },
  {
   "cell_type": "code",
   "execution_count": null,
   "id": "317275e7",
   "metadata": {
    "vscode": {
     "languageId": "html"
    }
   },
   "outputs": [],
   "source": [
    "<p>Hello</p>"
   ]
  },
  {
   "cell_type": "markdown",
   "id": "006b9810",
   "metadata": {},
   "source": [
    "Most elements will have an opening tag and a closing tag. Sometimes those tags are referred to as start and end tags. In between those two tags, you will have the content. This content can be text or other HTML elements. Both opening and closing tags start with a left angle bracket (<code>&lt;</code>), and end with a right angle bracket (<code>&gt;</code>), with the tag name placed between these angle brackets. Here is a closer look at just the opening and closing paragraph tags:"
   ]
  },
  {
   "cell_type": "code",
   "execution_count": null,
   "id": "28f95538",
   "metadata": {
    "vscode": {
     "languageId": "html"
    }
   },
   "outputs": [],
   "source": [
    "<p>\n",
    "</p>"
   ]
  },
  {
   "cell_type": "markdown",
   "id": "83792ccf",
   "metadata": {},
   "source": [
    "What distinguishes an opening tag from a closing tag is the forward slash (<code>/</code>) placed immediately after the left angle bracket in a closing tag. Some HTML elements do not have a closing tag. These are known as void elements. Here is an example of an image element which is a void element:"
   ]
  },
  {
   "cell_type": "code",
   "execution_count": null,
   "id": "e4b55942",
   "metadata": {
    "vscode": {
     "languageId": "html"
    }
   },
   "outputs": [],
   "source": [
    "<img>"
   ]
  },
  {
   "cell_type": "markdown",
   "id": "79a26316",
   "metadata": {},
   "source": [
    "Notice that this image element does not have the closing tag and it does not have any content. Void elements cannot have any content and only have a start tag. If you wanted to display an image, you will need to include a couple of attributes inside your image element. An attribute is a special value used to adjust the behavior for an HTML element. Here is an example of an image element with a <code>src</code>, or source, attribute:"
   ]
  },
  {
   "cell_type": "code",
   "execution_count": null,
   "id": "d02285c4",
   "metadata": {
    "vscode": {
     "languageId": "html"
    }
   },
   "outputs": [],
   "source": [
    "<img src=\"image location\" />"
   ]
  },
  {
   "cell_type": "markdown",
   "id": "e9d0fad7",
   "metadata": {},
   "source": [
    "The <code>src</code> attribute is used to specify the location for that image. For image elements, it's good practice to include another attribute called the <code>alt</code> attribute. Here's an example of an image element with the <code>src</code> and <code>alt</code> attributes:"
   ]
  },
  {
   "cell_type": "code",
   "execution_count": null,
   "id": "df110c82",
   "metadata": {
    "vscode": {
     "languageId": "html"
    }
   },
   "outputs": [],
   "source": [
    "<img src=\"example-cat-img-url\" alt=\"Cat sleeping in the grass\">"
   ]
  },
  {
   "cell_type": "markdown",
   "id": "0d087ba4",
   "metadata": {},
   "source": [
    "The <code>alt</code> attribute is used to provide short, descriptive text for the images. In this case, the descriptive text is a \"Cat sleeping in the grass\".\n",
    "\n",
    "So, you might be wondering if HTML by itself is enough to build a website. Well, the answer is: it depends. If you're building a small practice project that only displays text and images, HTML alone might be sufficient. However, if you're creating a modern professional website, you will need to have HTML, CSS, and JavaScript.\n",
    "\n",
    "HTML is for the content and structure. CSS is for styling. JavaScript is for adding interactivity to your web pages. A good analogy for this is to compare HTML, CSS, and JavaScript with a complete building. HTML represents the blocks, concrete, and irons that make up the walls. It's the foundation that makes the building strong. CSS represents the interior and exterior design that makes the house look beautiful. JavaScript represents the electrical and water system that ensures uninterrupted access to water and electricity."
   ]
  },
  {
   "cell_type": "markdown",
   "id": "d0abb43e",
   "metadata": {},
   "source": [
    "## 1.2. What are attributes and how do they work?"
   ]
  },
  {
   "cell_type": "markdown",
   "id": "c76516c7",
   "metadata": {},
   "source": [
    "An attribute is a value placed inside the opening tag of an HTML element. Attributes provide additional information about the element or specify how the element should behave. Here is the basic syntax for an attribute:"
   ]
  },
  {
   "cell_type": "code",
   "execution_count": null,
   "id": "0b008c14",
   "metadata": {
    "vscode": {
     "languageId": "html"
    }
   },
   "outputs": [],
   "source": [
    "<element attribute=\"value\"></element>"
   ]
  },
  {
   "cell_type": "markdown",
   "id": "2f76c781",
   "metadata": {},
   "source": [
    "The attribute name is followed by an equal sign (<code>=</code>) and a value in quotes. The value can be a string or a number, depending on the attribute.\n",
    "\n",
    "Let's take a look at a few examples of common HTML attributes. The first example is the <code>href</code> attribute, which is used to specify the URL of a link:"
   ]
  },
  {
   "cell_type": "code",
   "execution_count": null,
   "id": "0a3d45b9",
   "metadata": {
    "vscode": {
     "languageId": "html"
    }
   },
   "outputs": [],
   "source": [
    "<a href=\"https://www.example-website.com\">Visit our website</a>"
   ]
  },
  {
   "cell_type": "markdown",
   "id": "7e00a926",
   "metadata": {},
   "source": [
    "Without this attribute, the link would not work because there would be no destination URL. So you must include this <code>href</code> attribute to make the link functional. Other common attributes are the <code>src</code>, or source, and <code>alt</code>, or alternative, attribute - which is used to specify the source of an image and provide alternative descriptive text for the image, respectively:"
   ]
  },
  {
   "cell_type": "code",
   "execution_count": null,
   "id": "d85a367c",
   "metadata": {
    "vscode": {
     "languageId": "html"
    }
   },
   "outputs": [],
   "source": [
    "<img src=\"image.jpg\" alt=\"A beautiful image\" />"
   ]
  },
  {
   "cell_type": "markdown",
   "id": "26139b23",
   "metadata": {},
   "source": [
    "Similar to the <code>href</code> attribute, the <code>src</code> attribute is required because it specifies the image file to be displayed. The <code>alt</code> attribute is not required, but it is recommended for accessibility purposes. Accessibility means making sure that everyone, including those with disabilities, can use and understand things like websites, apps, and physical spaces. You will learn more about accessibility in the upcoming lectures.\n",
    "\n",
    "Some attributes are a little unique with their syntax like the <code>checked</code> attribute shown here:"
   ]
  },
  {
   "cell_type": "code",
   "execution_count": null,
   "id": "685d3978",
   "metadata": {
    "vscode": {
     "languageId": "html"
    }
   },
   "outputs": [],
   "source": [
    "<input type=\"checkbox\" checked />"
   ]
  },
  {
   "cell_type": "markdown",
   "id": "c659cb9d",
   "metadata": {},
   "source": [
    "In the following example, we have an <code>input</code> element with the <code>type</code> attribute set to <code>checkbox</code>. Inputs are used to collect data from users, and the <code>type</code> attribute specifies the type of input. In this case, this input is a checkbox. You will learn more about how inputs work in the upcoming lectures. The <code>checked</code> attribute is used to specify that the checkbox should be checked by default. The <code>checked</code> attribute does not require a value. If it is present, the checkbox will be checked by default. If the attribute is not present, the checkbox will be unchecked. This is known as a boolean attribute. You will learn more about booleans in general when you get to the JavaScript section. There are several common boolean attributes you will encounter in HTML, such as <code>disabled</code>, <code>readonly</code> and <code>required</code>. These attributes are used to specify the state of an element, such as whether it is disabled, read-only, or required.\n",
    "\n",
    "HTML has many attributes that can be used to customize the behavior and appearance of elements on a webpage. Understanding how to use attributes is essential for creating interactive and accessible web content. Over the next few lectures, you will learn about more HTML attributes and how to use them effectively in your web development projects."
   ]
  },
  {
   "cell_type": "markdown",
   "id": "43ce81ee",
   "metadata": {},
   "source": [
    "## 1.3. What is the role of the link element in HTML, and how can it be used to link to external stylesheets?"
   ]
  },
  {
   "cell_type": "markdown",
   "id": "94ae4677",
   "metadata": {},
   "source": [
    "Let's learn about the <code>link</code> element, and how to use it to link to external stylesheets.\n",
    "\n",
    "The <code>link</code> element is used to link to external resources like stylesheets and site icons. Here is the basic syntax for using the <code>link</code> element for an external CSS file:"
   ]
  },
  {
   "cell_type": "code",
   "execution_count": null,
   "id": "635f91c9",
   "metadata": {
    "vscode": {
     "languageId": "html"
    }
   },
   "outputs": [],
   "source": [
    "<link rel=\"stylesheet\" href=\"./styles.css\" />"
   ]
  },
  {
   "cell_type": "markdown",
   "id": "257ab800",
   "metadata": {},
   "source": [
    "The <code>rel</code> attribute is used to specify the relationship between the linked resource and the HTML document. In this situation, we need to specify that this linked resource is a <code>stylesheet</code>.\n",
    "\n",
    "It is considered best practice to separate your HTML and CSS in different files. Developers will use the <code>link</code> element for their external CSS file instead of writing everything in the HTML document.\n",
    "\n",
    "The <code>href</code> attribute is used to specify the location of the URL for the external resource.\n",
    "\n",
    "The <code>dot</code> followed by a forward slash in the example tells the computer to look in the current folder, or directory, for the <code>styles.css</code> file.\n",
    "\n",
    "The <code>link</code> element should be placed inside the <code>head</code> element as seen in the following example:"
   ]
  },
  {
   "cell_type": "code",
   "execution_count": null,
   "id": "36c8bc0e",
   "metadata": {
    "vscode": {
     "languageId": "html"
    }
   },
   "outputs": [],
   "source": [
    "<head>\n",
    "  <meta charset=\"UTF-8\" />\n",
    "  <meta name=\"viewport\" content=\"width=device-width, initial-scale=1.0\" />\n",
    "  <title>Examples of the link element</title>\n",
    "  <link rel=\"stylesheet\" href=\"./styles.css\" />\n",
    "</head>"
   ]
  },
  {
   "cell_type": "markdown",
   "id": "2e0d5c36",
   "metadata": {},
   "source": [
    "Often times you will see multiple <code>link</code> elements inside a professional codebase that link to different stylesheets, fonts, and icons. Here is an example of using the <code>link</code> element to link to an external Google Font called <i>Playwright Cuba</i>:"
   ]
  },
  {
   "cell_type": "code",
   "execution_count": null,
   "id": "10c06e24",
   "metadata": {
    "vscode": {
     "languageId": "html"
    }
   },
   "outputs": [],
   "source": [
    "<link rel=\"preconnect\" href=\"https://fonts.googleapis.com\" />\n",
    "<link rel=\"preconnect\" href=\"https://fonts.gstatic.com\" crossorigin />\n",
    "<link\n",
    "  href=\"https://fonts.googleapis.com/css2?family=Playwrite+CU:wght@100..400&display=swap\"\n",
    "  rel=\"stylesheet\"\n",
    "/>"
   ]
  },
  {
   "cell_type": "markdown",
   "id": "91524b16",
   "metadata": {},
   "source": [
    "Google Fonts are a set of free and open source custom fonts that you can use inside any project. You can choose which fonts you would like to use and Google will provide you with the necessary HTML and CSS code. In this example, the <code>preconnect</code> value for the <code>rel</code> attribute tells the browser to create an early connection to the value specified in the <code>href</code> attribute. This is done to speed up loading times for these external resources.\n",
    "\n",
    "Another common use case for the <code>link</code> element is to link to icons. Here is an example of linking to a favicon:"
   ]
  },
  {
   "cell_type": "code",
   "execution_count": null,
   "id": "41f07801",
   "metadata": {
    "vscode": {
     "languageId": "html"
    }
   },
   "outputs": [],
   "source": [
    "<link rel=\"icon\" href=\"favicon.ico\" />"
   ]
  },
  {
   "cell_type": "markdown",
   "id": "88b49f05",
   "metadata": {},
   "source": [
    "A favicon, which is short for favorite icon, is a small icon typically displayed in the browser tab next the site title. A lot of websites will use a favicon to display their brand icon."
   ]
  },
  {
   "cell_type": "markdown",
   "id": "4f1441c4",
   "metadata": {},
   "source": [
    "## 1.4. What is an HTML boilerplate, and why is it important?"
   ]
  },
  {
   "cell_type": "markdown",
   "id": "00616afe",
   "metadata": {},
   "source": [
    "It's like a ready-made template for your webpages. Think of it as the foundations of a house. A boilerplate includes the basic structure and essential elements every HTML document needs. It saves you time and helps ensure your pages are set up properly. Here is an example:"
   ]
  },
  {
   "cell_type": "code",
   "execution_count": null,
   "id": "70d45385",
   "metadata": {
    "vscode": {
     "languageId": "html"
    }
   },
   "outputs": [],
   "source": [
    "<!DOCTYPE html>\n",
    "<html lang=\"en\">\n",
    "    <!--All other elements go inside here-->\n",
    "    <head>\n",
    "        <!--Important metadata goes here-->\n",
    "        <meta charset=\"utf-8\" />  <!-- Hace que los caracteres especiales se printeen bien -->\n",
    "        <meta\n",
    "            name=\"viewport\"\n",
    "            content=\"width=device-width, initial-scale=1.0\" />\n",
    "        <title>Document Title Goes Here</title>\n",
    "        <link rel=\"stylesheet\" href=\"./styles.css\" />\n",
    "    </head>\n",
    "    <body>\n",
    "        <!--Headings, paragraphs, images, etc. go inside here-->\n",
    "        <h1>I am a main title</h1>\n",
    "        <p>Example paragraph text</p>\n",
    "    </body>\n",
    "</html>"
   ]
  },
  {
   "cell_type": "markdown",
   "id": "46034c64",
   "metadata": {},
   "source": [
    "Let's break down the key parts of this boilerplate. First, there is the <code>DOCTYPE</code> declaration tells browsers which version of HTML you're using. Next, comes the <code>html</code> tag wraps around all your content, and can specify the language of your page. Inside the html tag, you'll find two main sections - a <code>head</code>, and a <code>body</code>.\n",
    "\n",
    "- The <code>head</code> section contains important behind-the-scenes information. Your site's metadata, contained in meta elements, has details about things like character encoding, and how websites like Twitter should preview your page's link. Your site's title, found in the <code>title</code> element, determines the text that appears in the browser tab or window. Finally, you'll typically link your page's external stylesheets in the <code>head</code> section using <code>link</code> elements.\n",
    "\n",
    "- The <code>body</code> section is where all your content goes. This is what visitors actually see on your web page.\n",
    "\n",
    "Now, why is a boilerplate important? It ensures your pages are structured correctly and work well across different browsers. Using a boilerplate helps you avoid common mistakes and follow best practices. It's a great starting point for any web project. Remember, you can customize your own boilerplate to fit your needs. As you gain experience, you might add your own preferred elements or <code>meta</code> tags. As you continue to improve your personal boilerplate, you'll find that it saves you time when starting new projects.\n",
    "\n",
    "Next time you start a new HTML file, consider using a boilerplate. It will definitely give you a solid foundation to build on."
   ]
  }
 ],
 "metadata": {
  "language_info": {
   "name": "python"
  }
 },
 "nbformat": 4,
 "nbformat_minor": 5
}
