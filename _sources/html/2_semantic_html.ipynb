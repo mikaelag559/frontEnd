{
  "cells": [
    {
      "cell_type": "markdown",
      "id": "e3691a2b-fd79-4617-810a-81c460a6cddf",
      "metadata": {
        "jp-MarkdownHeadingCollapsed": true
      },
      "source": [
        "# <a href=\"https://www.freecodecamp.org/learn/full-stack-developer/review-semantic-html/review-semantic-html\">Resumen</a>"
      ]
    },
    {
      "cell_type": "markdown",
      "id": "c9153087-2952-4716-999f-d0163194c753",
      "metadata": {
        "jp-MarkdownHeadingCollapsed": true
      },
      "source": [
        "# 1. Why should you care about semantic HTML?"
      ]
    },
    {
      "cell_type": "markdown",
      "id": "0314fca7-ff38-4399-a226-a119e5b0dede",
      "metadata": {},
      "source": [
        "Semantics are the meaning of words, or phrases, in a language. In HTML, which is a language, elements have their own semantic meaning too. In fact, you can think of your HTML document like you would a text document. And much like a text document, you might have headings, images, bold text, and other formatting.\n",
        "\n",
        "The semantic meaning of an element refers to what special information that element conveys. The semantic meaning of a <code>p</code> element, for example, is a paragraph of text:"
      ]
    },
    {
      "cell_type": "code",
      "execution_count": null,
      "id": "06a87d98-9985-4da5-b700-eaf5f9381d65",
      "metadata": {
        "trusted": true,
        "vscode": {
          "languageId": "html"
        }
      },
      "outputs": [],
      "source": [
        "<p>\n",
        "  Let me tell you about my fantastic holiday in Paris.\n",
        "  I saw the impressive Eiffel Tower up close!\n",
        "</p>"
      ]
    },
    {
      "cell_type": "markdown",
      "id": "1c00173f-1041-45a8-89e3-61862e4f2b18",
      "metadata": {},
      "source": [
        "Most elements have semantic meaning. The <code>div</code> element is one of the very few that does not. But why is this important?\n",
        "\n",
        "First and foremost, using proper semantic HTML will ensure the best experience for users with assistive technology like screen readers. But also, semantic HTML can improve your search rankings. This is referred to as search engine optimization, or SEO.\n",
        "\n",
        "Finally, using correct semantic elements can improve your development experience. Rather than having to sift through a bunch of developments to find your navigation bar, you can edit the <code>nav</code> element directly and know what you're changing. Throughout this section, you will learn more about these topics, how to use semantic elements, and why semantic HTML is so important."
      ]
    },
    {
      "cell_type": "markdown",
      "id": "e48501f1-28da-4ee5-98f7-2b99dace9996",
      "metadata": {
        "jp-MarkdownHeadingCollapsed": true
      },
      "source": [
        "# 2. Why is it important to have good structural hierarchy?"
      ]
    },
    {
      "cell_type": "markdown",
      "id": "f50f9c25-c913-4423-9364-b65e9ef51e5d",
      "metadata": {},
      "source": [
        "The most important aspect of creating a structural hierarchy is the proper use of heading elements. Heading elements are numbered as <code>h1</code>, <code>h2</code>, <code>h3</code>, and so on. These numbers represent the heading level for that element.\n",
        "\n",
        "Much like a text document, you do not want to use heading levels in the incorrect order. Your <code>h1</code> element is your top-level heading. You will rarely have more than one of these on a page, and it should typically come before all of your content.\n",
        "\n",
        "Your <code>h2</code> element is your subheading. It should always come after your <code>h1</code> and might come after some introductory text. Unlike an <code>h1</code> element, you can have multiple <code>h2</code> elements on your page. You'll often do this to delineate different sections of content.\n",
        "\n",
        "Following the pattern, your <code>h3</code> element should always come after an <code>h3</code> element. That is, you should never skip directly from <code>h1</code> to <code>h3</code>. You can, however, have multiple heading elements at the same level. For example, this code is correct:"
      ]
    },
    {
      "cell_type": "code",
      "execution_count": null,
      "id": "862cc66c-4f2c-4770-ad07-02ca01451161",
      "metadata": {
        "trusted": true,
        "vscode": {
          "languageId": "html"
        }
      },
      "outputs": [],
      "source": [
        "<div>\n",
        "  <section>\n",
        "    <h1>freeCodeCamp</h1>\n",
        "    <h2>Learn Front-End Development</h2>\n",
        "    <h2>Learn Back-End Development</h2>\n",
        "  </section>\n",
        "</div>"
      ]
    },
    {
      "cell_type": "markdown",
      "id": "2de1536f-49e8-4de6-9cf6-454e33426895",
      "metadata": {},
      "source": [
        "But this code would not be correct, because <code>h3</code> comes before <code>h2</code>:"
      ]
    },
    {
      "cell_type": "code",
      "execution_count": null,
      "id": "367cd702-25cd-495e-8ab4-d96b014a27df",
      "metadata": {
        "trusted": true,
        "vscode": {
          "languageId": "html"
        }
      },
      "outputs": [],
      "source": [
        "<div>\n",
        "  <section>\n",
        "    <h1>freeCodeCamp</h1>\n",
        "    <h3>Learn Front-End Development</h3>\n",
        "    <h2>Learn Back-End Development</h2>\n",
        "  </section>\n",
        "</div>"
      ]
    },
    {
      "cell_type": "markdown",
      "id": "f34ecb45-9f1c-4035-81f8-0f67b970c368",
      "metadata": {},
      "source": [
        "It may be tempting to use a specific heading element because of its styling, such as <code>h1</code> for large text:"
      ]
    },
    {
      "cell_type": "code",
      "execution_count": null,
      "id": "894b91d2-13c0-4f9b-9c27-ba7de7700fed",
      "metadata": {
        "trusted": true,
        "vscode": {
          "languageId": "html"
        }
      },
      "outputs": [],
      "source": [
        "<article>\n",
        "  <p>\n",
        "    Here is some\n",
        "    <h1>Large Text</h1>\n",
        "  </p>\n",
        "</article>"
      ]
    },
    {
      "cell_type": "markdown",
      "id": "c2cebbc4-6ae9-4cbd-a758-7337141da8d6",
      "metadata": {},
      "source": [
        "Instead, you should choose the appropriate element for your document structure and use CSS to achieve the styling you'd like.\n",
        "\n",
        "Using the right hierarchy is important for accessibility. Assistive technologies, like screen readers, rely on the structure of a web page to determine how to pause and announce that web page to the user. Using an <code>h3</code> element after an <code>h1</code> might cause a screen reader user to believe they have accidentally skipped over important content, due to the lack of an <code>h2</code> element.\n",
        "\n",
        "Proper structure is also important for SEO. Search engines use automation to pause the content of your web page and determine when and where it should show up in results. If your structure is malformed, search engines may not be able to rank you very well in the relevant search results.\n",
        "\n",
        "Finally, depending on how incorrect your structure is, your HTML may not even be technically valid. When this happens, the web browser has to effectively guess what you meant to do. And what it guesses might not even be what you want at all.\n",
        "\n",
        "As you have learned today, there are many reasons to use the proper structural hierarchy for your page. Keep this in mind as you build new projects."
      ]
    },
    {
      "cell_type": "markdown",
      "id": "a47987bc-1f1d-4a41-95a4-f3901f68cff3",
      "metadata": {
        "jp-MarkdownHeadingCollapsed": true
      },
      "source": [
        "# 3. What is the difference between presentational and semantic HTML?"
      ]
    },
    {
      "cell_type": "markdown",
      "id": "9859bdfa-4fa3-4425-8a2f-2f9bb5d4c050",
      "metadata": {},
      "source": [
        "Presentational HTML focuses on the appearance and style of the content. In the early days of HTML, developers would use elements like the <code>center</code>, <code>big</code>, and <code>font</code> elements. But in modern web development you shouldn't use these types of elements, because of their limitations and negative impact on accessibility and maintainability.\n",
        "\n",
        "Many presentational HTML elements are deprecated, which means that they are outdated and no longer recommended. There are better ways to get the same results. However, it is helpful to know that they exist, so we'll take a look at some examples.\n",
        "\n",
        "The <code>font</code> element is a deprecated element used to set the font size and color of the text. Here's an example of a <code>font</code> element:"
      ]
    },
    {
      "cell_type": "code",
      "execution_count": null,
      "id": "16c5409e-e3fc-4725-8aa1-bec8ffd85eac",
      "metadata": {
        "trusted": true,
        "vscode": {
          "languageId": "html"
        }
      },
      "outputs": [],
      "source": [
        "<font size=\"5\" color=\"blue\">This text is blue and large.</font>"
      ]
    },
    {
      "cell_type": "markdown",
      "id": "5c184ce4-e238-4f1f-9f3a-f89ef3b23227",
      "metadata": {},
      "source": [
        "This example sets the color of the text to <code>blue</code> and the size to a value of <code>5</code>. The range for the <code>size</code> attribute is from 1 to 7, with 1 being the smallest and 7 being the largest. The default value is 3, if you don't set the value explicitly.\n",
        "\n",
        "While this element still works, you should not use it because the font size and color should always be set in CSS, not in HTML.\n",
        "\n",
        "The <code>center</code> element is another deprecated element that is used to center the content horizontally within its container. Here's an example of the <code>center</code> element that contains text and a paragraph element:"
      ]
    },
    {
      "cell_type": "code",
      "execution_count": null,
      "id": "ae7bc9ca-0f08-40cb-acd8-e767125997e4",
      "metadata": {
        "trusted": true,
        "vscode": {
          "languageId": "html"
        }
      },
      "outputs": [],
      "source": [
        "<center>\n",
        "  This text is centered.\n",
        "  <p>HTML is awesome.</p>\n",
        "</center>"
      ]
    },
    {
      "cell_type": "markdown",
      "id": "fc9a7236-a664-4117-a7ae-bc428ed40225",
      "metadata": {},
      "source": [
        "In the browser, you would see all of the content within the <code>center</code> element centered horizontally.\n",
        "\n",
        "And next, we have the <code>big</code> element. This is another deprecated presentational HTML element that makes the enclosed text one level bigger than its surrounding text. Here we have an example that defines a paragraph with two parts:"
      ]
    },
    {
      "cell_type": "code",
      "execution_count": null,
      "id": "f3271eff-ed72-4581-8ed2-a73c0784a79c",
      "metadata": {
        "trusted": true,
        "vscode": {
          "languageId": "html"
        }
      },
      "outputs": [],
      "source": [
        "<p>\n",
        "  This text has a normal font size.\n",
        "  <big>This text is larger.</big>\n",
        "</p>"
      ]
    },
    {
      "cell_type": "markdown",
      "id": "f00aec4e-7bfa-4dbb-9263-88957486fd4f",
      "metadata": {},
      "source": [
        "The first part has normal sized text, while the second part enclosed within the <code>big</code> element will be displayed in a larger font size. In the browser, you would see the text within the <code>big</code> element looks larger compared to the surrounding text.\n",
        "\n",
        "However, remember that font size should always be set with CSS, so you should not use this element in modern HTML.\n",
        "\n",
        "These were examples of presentational HTML elements. But all of them are deprecated and no longer recommended. So what should you use instead? Let's see.\n",
        "\n",
        "Semantic HTML is now the recommended practice. It describes the content of the elements, so it's much easier to read, understand, and maintain.\n",
        "\n",
        "Search engines can easily understand your website when you use semantic HTML. It's also helpful for accessibility purposes, because screen readers need semantic information to describe what's on the web page.\n",
        "\n",
        "Examples of semantic HTML elements include:\n",
        "\n",
        "- The <code>header</code> element for defining the header of the document, or section.\n",
        "- The navigation section element, <code>nav</code>, for sections with navigation links.\n",
        "- The <code>section</code> element for grouping related information.\n",
        "- The <code>figure</code> element for illustrations and diagrams.\n",
        "\n",
        "This is an example of a <code>header</code> element that contains a navigation section element:"
      ]
    },
    {
      "cell_type": "code",
      "execution_count": null,
      "id": "331dee2f-5b4e-4b7a-b36e-ff980bc779b9",
      "metadata": {
        "trusted": true,
        "vscode": {
          "languageId": "html"
        }
      },
      "outputs": [],
      "source": [
        "<header>\n",
        "  <nav>\n",
        "    <a href=\"#\">Home</a>\n",
        "    <a href=\"#\">About</a>\n",
        "    <a href=\"#\">Contact</a>\n",
        "  </nav>\n",
        "</header>"
      ]
    },
    {
      "cell_type": "markdown",
      "id": "d689ba2d-f92a-4235-a7c9-5c78e12d7c77",
      "metadata": {},
      "source": [
        "The semantic elements clearly show their purpose within the HTML structure. There are many different semantic HTML elements. You will definitely find one that fits the needs of your project.\n",
        "\n",
        "Great work. Now you know the difference between presentational and semantic HTML: semantic HTML describes the content, while presentational HTML focuses on the appearance."
      ]
    },
    {
      "cell_type": "markdown",
      "id": "154e5e71-4ef9-4736-a676-c57ba5c506c7",
      "metadata": {
        "jp-MarkdownHeadingCollapsed": true
      },
      "source": [
        "# 4. When should you use the emphasis element over the idiomatic text element?"
      ]
    },
    {
      "cell_type": "markdown",
      "id": "5363af8e-d071-4fd2-9f1a-a462eaf90ccf",
      "metadata": {},
      "source": [
        "These elements are very closely related to the concepts of presentational and semantic HTML. The idiomatic text element, <code>i</code>, was originally used for presentational purposes to display the text in italics. But now, it is frequently used for highlighting alternative voice or mood, idiomatic terms from another language, technical terms, and thoughts.\n",
        "\n",
        "Here is example from the official HTML spec, using the <code>i</code> element to show an idiomatic phrase in French:"
      ]
    },
    {
      "cell_type": "code",
      "execution_count": null,
      "id": "4a59cedf-88e3-4573-bab9-afafa31aa91a",
      "metadata": {
        "trusted": true,
        "vscode": {
          "languageId": "html"
        }
      },
      "outputs": [],
      "source": [
        "<p>There is a certain <i lang=\"fr\">je ne sais quoi</i> in the air.</p>"
      ]
    },
    {
      "cell_type": "markdown",
      "id": "6eb6588f-25f3-4203-805b-ff542f5332a1",
      "metadata": {},
      "source": [
        "The <code>lang</code> attribute inside the open <code>&lt;i&gt;</code> tag is used to specify the language of the content. In this case, the language would be French. The <code>i</code> element does not indicate if the text is important or not, it only shows that it's somehow different from the surrounding text.\n",
        "\n",
        "If you do need to emphasize the importance of the text, you can use a similar semantic element called the emphasis element, <code>em</code>. This is usually recommended if you need to provide more context. You should use this element for parts of the text that require a special emphasis compared to surrounding text. It's usually limited to only a few words, because it can alter the meaning of the sentence.\n",
        "\n",
        "This is an example of the emphasis element within a paragraph:"
      ]
    },
    {
      "cell_type": "code",
      "execution_count": null,
      "id": "f95bde4c-22e1-42b1-8bf6-2a1e9a1f2bc0",
      "metadata": {
        "trusted": true,
        "vscode": {
          "languageId": "html"
        }
      },
      "outputs": [],
      "source": [
        "<p>\n",
        "  Never give up on <em>your</em> dreams.\n",
        "</p>"
      ]
    },
    {
      "cell_type": "markdown",
      "id": "53f1ae3c-895e-4544-bbff-3c4b4ce522cf",
      "metadata": {},
      "source": [
        "You can see the sentence <code>Never give up on your dreams</code>. Notice that the word <code>your</code> will be emphasized, because it's inside this element. In the browser you would see the word <code>your</code> is italicized to tell readers that this is an important word in the sentence.\n",
        "\n",
        "Even if it looks the same when the text was inside the idiomatic text element, the semantic emphasis element conveys its meaning and importance behind the scenes.\n",
        "\n",
        "It's important to know that these elements should not be used for presentational purposes only. If you need to display the text in italics, but the text doesn't have a special purpose, style, or meaning in the paragraph, you should use CSS instead."
      ]
    },
    {
      "cell_type": "markdown",
      "id": "fb38a7a4-986c-404e-811c-146796aa9ed6",
      "metadata": {
        "jp-MarkdownHeadingCollapsed": true
      },
      "source": [
        "# 5. When should you use the <code>strong</code> elements over the bring attention to element, <code>b</code>?"
      ]
    },
    {
      "cell_type": "markdown",
      "id": "bdba1f42-bb1c-4787-bbbb-7bc539e8098d",
      "metadata": {},
      "source": [
        "The \"bring attention to\" element, <code>b</code>, is commonly used to highlight keywords in summaries, or product names in reviews. Usually, browsers display this text in boldface. Here's an example using the <code>b</code> element to highlight product names in this review:"
      ]
    },
    {
      "cell_type": "code",
      "execution_count": null,
      "id": "68df515f-01cb-46f0-b047-8f097e5d2b4f",
      "metadata": {
        "trusted": true,
        "vscode": {
          "languageId": "html"
        }
      },
      "outputs": [],
      "source": [
        "<p>\n",
        "  We tested several products, including the <b>SuperSound 3000</b> for audio\n",
        "  quality, the <b>QuickCharge Pro</b> for fast charging, and the\n",
        "  <b>EcoClean Vacuum</b> for cleaning. The first two performed well, but the\n",
        "  <b>EcoClean Vacuum</b> did not meet expectations.\n",
        "</p>"
      ]
    },
    {
      "cell_type": "markdown",
      "id": "9edf8885-62e6-403b-9019-4cc9e9680023",
      "metadata": {},
      "source": [
        "The browser renders these parts of the text as bold text. This visual emphasis will draw readers attention to the product names.\n",
        "\n",
        "If you need to emphasize the importance of the text, you should use the <code>strong</code> element instead of the <code>b</code> element.\n",
        "\n",
        "<code>strong</code> is a semantic HTML element that emphasizes text that is crucial, or urgent. This is an example where the <code>strong</code> element is used to label a very important warning about the potential allergic reactions that customers may have to a product:"
      ]
    },
    {
      "cell_type": "code",
      "execution_count": null,
      "id": "8fad9ffe-d990-4040-82c2-7eeaff5601bd",
      "metadata": {
        "trusted": true,
        "vscode": {
          "languageId": "html"
        }
      },
      "outputs": [],
      "source": [
        "<p>\n",
        "  <strong>Warning:</strong> This product may cause allergic reactions.\n",
        "</p>"
      ]
    },
    {
      "cell_type": "markdown",
      "id": "a4eec7e3-4a73-4f2e-8bda-5293606a7af7",
      "metadata": {},
      "source": [
        "The <code>strong</code> element communicates that sense of urgency.\n",
        "\n",
        "Visually both are very similar, because they are both rendered as bold by default. But their meanings are quite different. While the \"bring attention to\" element only draws attention to the text, without indicating the higher level of importance, the <code>strong</code> element does more than that. It conveys a sense of importance, or urgency. This is their main difference.\n",
        "\n",
        "To choose between them, consider the purpose of the text and its importance within the surrounding content."
      ]
    },
    {
      "cell_type": "markdown",
      "id": "c7803b6b-f18c-4d92-b945-fa37d8750534",
      "metadata": {
        "jp-MarkdownHeadingCollapsed": true
      },
      "source": [
        "# 6. What are description lists, and when should you use them?"
      ]
    },
    {
      "cell_type": "markdown",
      "id": "071a85d6-9188-4311-8dfe-424395ee28dd",
      "metadata": {},
      "source": [
        "Description lists are perfect for presenting terms and definitions in an organized and easy-to-read format, like in a glossary, or real dictionary, where you can find words with their corresponding definitions.\n",
        "\n",
        "This is an example of a description list in HTML with two terms and their corresponding details:"
      ]
    },
    {
      "cell_type": "code",
      "execution_count": null,
      "id": "7aa57333-cf73-4fb6-b811-024c3bc27d41",
      "metadata": {
        "trusted": true,
        "vscode": {
          "languageId": "html"
        }
      },
      "outputs": [],
      "source": [
        "<dl>\n",
        "  <dt>HTML</dt>\n",
        "  <dd>HyperText Markup Language</dd>\n",
        "  <dt>CSS</dt>\n",
        "  <dd>Cascading Style Sheets</dd>\n",
        "</dl>"
      ]
    },
    {
      "cell_type": "markdown",
      "id": "a13228ff-00f2-4fa1-8bc0-08fdac80779c",
      "metadata": {},
      "source": [
        "In this case the terms are the acronyms HTML and CSS, and the details are their expansions. The details could also be definitions, or other information related to the terms.\n",
        "\n",
        "You will need three HTML elements to define a description list. First, the description list element, <code>dl</code>, which is the container for the entire list. You can see it wraps around all the other elements of the description list in the example.\n",
        "\n",
        "Then, one description term element, <code>dt</code>, for each term. In this case the description list has two terms, HTML and CSS, so it has two of these elements.\n",
        "\n",
        "And finally, after each term you will find a description details element, <code>dd</code>, for the description, or details associated with that term. In this example, they are Hypertext Markup Language and Cascading Style Sheets.\n",
        "\n",
        "In the browser, you would see each term followed by its corresponding description. By default, the descriptions are slightly more indented towards the right to distinguish them visually.\n",
        "\n",
        "But description lists are not limited to only terms and definitions. They are much more versatile than that. Here we have a recipe with two ingredients."
      ]
    },
    {
      "cell_type": "code",
      "execution_count": null,
      "id": "f2f9701a-bfe3-4f63-b430-8251fe87b124",
      "metadata": {
        "trusted": true,
        "vscode": {
          "languageId": "html"
        }
      },
      "outputs": [],
      "source": [
        "<dl>\n",
        "  <dt>Flour</dt>\n",
        "  <dd>2 cups</dd>\n",
        "  <dt>Sugar</dt>\n",
        "  <dd>1/2 cup</dd>\n",
        "</dl>"
      ]
    },
    {
      "cell_type": "markdown",
      "id": "5d4f1bc9-b303-4509-9fce-d6251559c62c",
      "metadata": {},
      "source": [
        "The entire description list is within a description list element. The first ingredient, <code>Flour</code>, is within a description term element. Then, you can see how much of this ingredient you will need: <code>2 cups</code>. This is within a description details element directly after its corresponding ingredients.\n",
        "\n",
        "And the same structure is repeated for <code>Sugar</code>. In this case, the recipe has only two ingredients, but if there were more the same structure could be repeated throughout the description list.\n",
        "\n",
        "In the browser, you would see the ingredients aligned to the left, and the measurements indented to separate them visually.\n",
        "\n",
        "Other use cases for description lists include product specifications, frequently asked questions, contact information, and metadata. Essentially, when you have two related pieces of information in a key-value pair format, where one acts as a label, the key, and the other acts as additional related information, the value, you can use a description list."
      ]
    },
    {
      "cell_type": "markdown",
      "id": "a2b4317a-7bb6-4de7-9640-7b864c1ff85a",
      "metadata": {
        "jp-MarkdownHeadingCollapsed": true
      },
      "source": [
        "# 7. How do you block and inline quotes work in HTML?"
      ]
    },
    {
      "cell_type": "markdown",
      "id": "d35927cb-b560-4356-9fa7-38ab2766bfc0",
      "metadata": {},
      "source": [
        "In HTML, quoted elements are used to distinguish quoted text from the surrounding content. This gives the quoted text a format that is easy to identify.\n",
        "\n",
        "You should use the block quotation element for representing a section quoted from another source. It's mainly used for extended quotations. If the source of the quote has an address, you can cite it with the <code>cite</code> attribute. The value of this attribute should be a valid URL. This is an example of a quote within a block quotation element:"
      ]
    },
    {
      "cell_type": "code",
      "execution_count": null,
      "id": "f9a77453-dd79-4637-a104-5c699ff2db4b",
      "metadata": {
        "trusted": true,
        "vscode": {
          "languageId": "html"
        }
      },
      "outputs": [],
      "source": [
        "<blockquote cite=\"https://www.freecodecamp.org/news/learn-to-code-book/\">\n",
        "  \"Can you imagine what it would be like to be a successful developer? \n",
        "  To have built software systems that people rely upon?\"\n",
        "</blockquote>"
      ]
    },
    {
      "cell_type": "markdown",
      "id": "d2974fa3-0d82-4b84-bdf1-73dfafa64075",
      "metadata": {},
      "source": [
        "This element has a <code>cite</code> attribute. The value of the <code>cite</code> attribute is the URL of the source. While this attribute doesn't change the presentation of the block quote, it's very helpful for giving screen readers and search engines more information about the quote. In the browser, you'll see that the text is slightly indented.\n",
        "\n",
        "If you want to start and end the block quote with quotation marks, you may need to write them explicitly within the text. You can write the text directly within the block quotation element, like I just did, or wrap it within one or more paragraph elements. This is helpful when the text has multiple paragraphs, but you want to keep them within the same block quote. Here's an example with four paragraphs:"
      ]
    },
    {
      "cell_type": "code",
      "execution_count": null,
      "id": "701c4f98-98b5-4ada-b800-6d03cab3f04e",
      "metadata": {
        "trusted": true,
        "vscode": {
          "languageId": "html"
        }
      },
      "outputs": [],
      "source": [
        "<blockquote cite=\"https://www.freecodecamp.org/news/learn-to-code-book/\">\n",
        "  <p>\n",
        "    Build your projects. Show them to your friends. Build projects for \n",
        "    your friends.\n",
        "  </p>\n",
        "  <p>\n",
        "    Build your network. Help the people you meet along the way. What goes \n",
        "    around comes around. You'll get what's coming to you.\n",
        "  </p>   \n",
        "  <p>\n",
        "    It is not too late. Life is long.\n",
        "  </p>\n",
        "  <p>\n",
        "    You will look back on this moment years from now and be glad you made a move.\n",
        "  </p>\n",
        "</blockquote>"
      ]
    },
    {
      "cell_type": "markdown",
      "id": "92c074ba-ed14-49fb-8c09-e113fdd287e6",
      "metadata": {},
      "source": [
        "All the paragraphs are contained within the same block quotation element, so they are part of the same quotation. You can see that the element has a <code>cite</code> attribute with the URL of the source. In the browser, you'll see that the four paragraphs are aligned relative to each other, but they are indented relative to their container.\n",
        "\n",
        "So far I've been using the <code>cite</code> attribute to attribute the source of the quotation, but the attribute doesn't really show the source to the user. It only works behind the scenes.\n",
        "\n",
        "If you want to attribute the source visually, you can add a citation element, <code>cite</code>, outside of the block quotation element. This is different from the <code>cite</code> attribute. The citation element is an HTML element that you can use to mark up the title of a referenced creative work like a book article, song, film, website, or research paper. Here's an example:"
      ]
    },
    {
      "cell_type": "code",
      "execution_count": null,
      "id": "2bd2d2e4-4dd8-4796-adcf-de7aaf6cd72d",
      "metadata": {
        "trusted": true,
        "vscode": {
          "languageId": "html"
        }
      },
      "outputs": [],
      "source": [
        "<div>\n",
        "  <blockquote cite=\"https://www.freecodecamp.org/news/learn-to-code-book/\">\n",
        "    Can you imagine what it would be like to be a successful developer? To have \n",
        "    built software systems that people rely upon?\n",
        "  </blockquote>\n",
        "  <p>—Quincy Larson, <cite>How to Learn to Code and Get a Developer Job [Full Book].</cite></p>\n",
        "</div>"
      ]
    },
    {
      "cell_type": "markdown",
      "id": "8298baa0-d9ae-4eda-afee-3856c9a08958",
      "metadata": {},
      "source": [
        "The block quotation element contains quoted text. Below the element you can see a paragraph element with the name of the author, followed by a citation element. The citation element contains the title of the book where the quotation came from.\n",
        "\n",
        "If you go to the browser, now the source will be clearly visible and see that the quote comes from a book written by Quincy Larson. The title of this book is <code>How to Learn to Code and Get a Developer Job</code>.\n",
        "\n",
        "You should use block quotes like these for long quotations from other sources. But sometimes you will only need to quote a few words within a larger paragraph.\n",
        "\n",
        "That's exactly what the inline quotation element is for. It's for short inline quotations from other sources. Most modern browsers will add quotation marks around the inline quote automatically when you use this element. This is an example:"
      ]
    },
    {
      "cell_type": "code",
      "execution_count": null,
      "id": "1209cd32-024c-413e-98fe-033e664d4c4d",
      "metadata": {
        "trusted": true,
        "vscode": {
          "languageId": "html"
        }
      },
      "outputs": [],
      "source": [
        "<p>\n",
        "  As Quincy Larson said,\n",
        "  <q cite=\"https://www.freecodecamp.org/news/learn-to-code-book/\">\n",
        "    Momentum is everything.\n",
        "  </q>\n",
        "</p>"
      ]
    },
    {
      "cell_type": "markdown",
      "id": "10e3cff3-3041-4a5b-883a-31cb4664a973",
      "metadata": {},
      "source": [
        "You can see a paragraph element that contains text. Part of the text is an inline quote, because it's within the inline quotation element. You can also add a <code>cite</code> attribute to attribute the source.\n",
        "\n",
        "This works exactly the same as it did with the block quotation element. There won't be any visual changes, but it will give screen readers and search engines more information about the quote.\n",
        "\n",
        "In the browser, you'll see that the quoted text is part of the paragraph and it's surrounded by quotation marks. Most modern browsers will add these quotation marks automatically.\n",
        "\n",
        "What's the difference between block quotes and inline quotes? You should use block quotes for extended quotations from other sources and inline quotes for short quotations from other sources that should be part of existing paragraphs."
      ]
    },
    {
      "cell_type": "markdown",
      "id": "e15f239d-fdb0-4993-b5c2-a46af1600d82",
      "metadata": {
        "jp-MarkdownHeadingCollapsed": true
      },
      "source": [
        "# 8. How do you display abbreviations and acronyms in HTML?"
      ]
    },
    {
      "cell_type": "markdown",
      "id": "78d4f39f-133e-4a1c-83e9-0f300d52b242",
      "metadata": {},
      "source": [
        "An abbreviation is a shortened form of a word. For example, \"Dr\" followed by a period, is an abbreviation for the word \"doctor\".\n",
        "\n",
        "An acronym is a word formed from the initial letters of a phrase, with each letter representing the first letter of a word in that phrase. HTML is an example of an acronym. It stands for HyperText Markup Language.\n",
        "\n",
        "By taking the first letters of each word H, T, M, and L, you get the acronym HTML. They are both very helpful for writing more concise text, especially when they are well-known and easy to understand in a given context.\n",
        "\n",
        "If you need to display abbreviations and acronyms in HTML, the abbreviation element is exactly what you're looking for. You should always explain their full meaning when you use them for the first time. Then you can use the abbreviation element to highlight them and provide more details.\n",
        "\n",
        "Here's an example where you can see a paragraph with the sentence <code>HTML is the foundation of the web</code>:"
      ]
    },
    {
      "cell_type": "code",
      "execution_count": null,
      "id": "ca723737-0960-4bfb-9637-c57be79a5215",
      "metadata": {
        "trusted": true,
        "vscode": {
          "languageId": "html"
        }
      },
      "outputs": [],
      "source": [
        "<p><abbr>HTML</abbr> is the foundation of the web.</p>"
      ]
    },
    {
      "cell_type": "markdown",
      "id": "64b19680-75a9-4673-8270-bd1ff4072917",
      "metadata": {},
      "source": [
        "The acronym HTML is within an abbreviation element. In the browser, you'll see that nothing has really changed. It still looks like normal text. The abbreviation element is providing helpful context behind the scenes, but users will still see the acronym as normal text.\n",
        "\n",
        "If you want to help users understand what this acronym means, you can show its full form with the <code>title</code> attribute.\n",
        "\n",
        "The <code>title</code> attribute is optional, but if you decide to include it, it must be a human readable description of the abbreviation, or acronym.\n",
        "\n",
        "Let's take the same example as before, but add the <code>title</code> attribute. It will be <code>HyperText Markup Language</code>, the expanded form of the acronym:"
      ]
    },
    {
      "cell_type": "code",
      "execution_count": null,
      "id": "29fb1bd1-a808-42eb-bac3-0ac54e1d1398",
      "metadata": {
        "trusted": true,
        "vscode": {
          "languageId": "html"
        }
      },
      "outputs": [],
      "source": [
        "<p><abbr title=\"HyperText Markup Language\">HTML</abbr> is the foundation of the web.</p>"
      ]
    },
    {
      "cell_type": "markdown",
      "id": "ed14d402-8419-4da6-8cb0-f2d2498f99e2",
      "metadata": {},
      "source": [
        "Usually, the style of the abbreviation element will change when you add this attribute. The specific style will depend on the browser. Some browsers may display a dotted underline, while others may convert the contents to small caps, or even assign certain default styles, such us a dotted underline. When the user hovers over the acronym with the mouse, the full form is displayed as a tooltip.\n",
        "\n",
        "While you don't necessarily need to use the abbreviation element for every abbreviation, or acronym on your web page, it's recommended for those that might be unclear and those that might need additional context.\n",
        "\n",
        "You should use your best judgment to find the right balance between information and presentation to avoid cluttering the text while being clear and concise."
      ]
    },
    {
      "cell_type": "markdown",
      "id": "30c91428-a457-438a-b977-02a4e3ab3c72",
      "metadata": {
        "jp-MarkdownHeadingCollapsed": true
      },
      "source": [
        "# 9. How do you display addresses in HTML?"
      ]
    },
    {
      "cell_type": "markdown",
      "id": "8a62fffb-29d4-4a9e-a376-66391b975b13",
      "metadata": {},
      "source": [
        "How do you display addresses in HTML?\n",
        "\n",
        "The contact address element is used to represent contact information for a section on a web page. The <code>address</code> element is versatile and can be used for business pages, author pages, personal sites, and more.\n",
        "\n",
        "When it comes to building out your website's contact sections, you should use the semantic <code>address</code> element over a generic element like a <code>div</code>.\n",
        "\n",
        "Here is an example of using the <code>address</code> element for a company contact page:"
      ]
    },
    {
      "cell_type": "code",
      "execution_count": null,
      "id": "442185d6-9724-465a-a5eb-affb180c95fe",
      "metadata": {
        "trusted": true,
        "vscode": {
          "languageId": "html"
        }
      },
      "outputs": [],
      "source": [
        "<address>\n",
        "  <h2>Company Name</h2>\n",
        "  <p>\n",
        "    1234 Elm Street<br />\n",
        "    Springfield, IL 62701<br />\n",
        "    United States\n",
        "  </p>\n",
        "  <p>Phone: <a href=\"tel:+15555555555\">+1 (555) 555-5555</a></p>\n",
        "  <p>Email: <a href=\"mailto:contact@company.com\">contact@company.com</a></p>\n",
        "</address>"
      ]
    },
    {
      "cell_type": "markdown",
      "id": "5db2a068-30a8-4144-a505-9493e6078eba",
      "metadata": {},
      "source": [
        "In this example, there is the company name, physical address, phone, and email information. For the physical address, the line break element, <code>br</code>, is used to show the division between the street name, city, and country.\n",
        "\n",
        "For the phone number, we have an anchor element with the <code>href</code> value set for telephone numbers. The <code>tel:+</code> value inside the <code>href</code> attribute creates a clickable link to initiate a phone call on certain devices that support that.\n",
        "\n",
        "For the email address, another anchor element is used with the <code>href</code> value set to a <code>mailto</code> link. <code>mailto</code> links are used in HTML documents to allow users to open a new email within their preferred email client.\n",
        "\n",
        "One of the downsides of using a <code>mailto</code> link is that users often perceive it as spam. Unfortunately, a lot of spammers will use this option to send emails to users. So just keep that in mind when you're using it."
      ]
    },
    {
      "cell_type": "markdown",
      "id": "c4f63dd2-8b2b-4bb4-90ef-7ce5229a8fe9",
      "metadata": {
        "jp-MarkdownHeadingCollapsed": true
      },
      "source": [
        "# 10. How do you display times and dates in HTML?"
      ]
    },
    {
      "cell_type": "markdown",
      "id": "bc64e616-c8fc-4ef6-bed7-7fc69e5717b2",
      "metadata": {},
      "source": [
        "The <code>time</code> element is used to represent a specific moment in time.\n",
        "\n",
        "Here is an example using the <code>time</code> element to represent twenty hundred hours, or eight PM in the evening."
      ]
    },
    {
      "cell_type": "code",
      "execution_count": null,
      "id": "3b876e8d-f47f-4987-bf60-b2d822314f5f",
      "metadata": {
        "trusted": true,
        "vscode": {
          "languageId": "html"
        }
      },
      "outputs": [],
      "source": [
        "<p>The reservations are for <time datetime=\"20:00\">20:00 </time></p>"
      ]
    },
    {
      "cell_type": "markdown",
      "id": "df7bbbe3-d975-484a-8489-7a8dba8ef65e",
      "metadata": {},
      "source": [
        "The <code>datetime</code> attribute is used to translate dates and times into a machine-readable format.\n",
        "\n",
        "This is important, because it helps with search engine results and helps the browser process date and time information more effectively.\n",
        "\n",
        "The value for the <code>datetime</code> attribute must be either a valid year, valid month, valid time, local date, global date, or valid duration string.\n",
        "\n",
        "Here is another example of using the time element to represent a particular date"
      ]
    },
    {
      "cell_type": "code",
      "execution_count": null,
      "id": "3df036c3-9a24-4309-bcc0-bfb119bf4e14",
      "metadata": {
        "trusted": true,
        "vscode": {
          "languageId": "html"
        }
      },
      "outputs": [],
      "source": [
        "<p>\n",
        "  The graduation will be on <time datetime=\"2024-06-15T15:00\">June 15</time>\n",
        "</p>"
      ]
    },
    {
      "cell_type": "markdown",
      "id": "ffe1f842-3cce-4590-9a36-8be4d95f5a38",
      "metadata": {},
      "source": [
        "The value for the <code>datetime</code> attribute is in the <b>ISO 8601 format</b>. ISO 8601 is an international standard to represent dates and times.\n",
        "\n",
        "The first part of that value is the year, month and day. The capital T in the value is a separator between the date and time.\n",
        "\n",
        "The fifteen hundred hours would be three PM in the afternoon.\n",
        "\n",
        "Whenever you need to represent events, publication dates, or appointments, it is best to use the <code>time</code> element."
      ]
    },
    {
      "cell_type": "markdown",
      "id": "a52d3892-6e07-4de0-8fa3-59a4756ed9a9",
      "metadata": {
        "jp-MarkdownHeadingCollapsed": true
      },
      "source": [
        "# 11. How do you display mathematical equations and chemical formulas in HTML?"
      ]
    },
    {
      "cell_type": "markdown",
      "id": "72857e89-66ac-49b7-aa9b-8a742af50252",
      "metadata": {},
      "source": [
        "The superscript element is used to display a piece of text as a superscript. A superscript is a symbol or letter printed above the normal line of text.\n",
        "\n",
        "Here is an example using the superscript element to illustrate exponents:"
      ]
    },
    {
      "cell_type": "code",
      "execution_count": null,
      "id": "876d4912-0b07-4932-aba7-5afa7063d05b",
      "metadata": {
        "trusted": true,
        "vscode": {
          "languageId": "html"
        }
      },
      "outputs": [],
      "source": [
        "<p>2<sup>2</sup> (2 squared) is 4.</p>"
      ]
    },
    {
      "cell_type": "markdown",
      "id": "dde65d9a-4d6c-40be-801b-87ee1d1af14b",
      "metadata": {},
      "source": [
        "In this example, the number 2 is wrapped in <code>sup</code> tags to represent the superscript inside the paragraph. In the browser, you would see that the second number 2 is smaller and slightly higher than the first number 2:$$ 2^{2} $$\n",
        "\n",
        "Common use cases for the superscript element would include exponents, superior lettering, and ordinal numbers. Here is an example using the superscript element for superior lettering:"
      ]
    },
    {
      "cell_type": "code",
      "execution_count": null,
      "id": "98de6e2f-475e-4528-9e21-cee3f17a536f",
      "metadata": {
        "trusted": true,
        "vscode": {
          "languageId": "html"
        }
      },
      "outputs": [],
      "source": [
        "<p>\n",
        "  Monseigneur is often written as <strong>M<sup>gr</sup></strong>.\n",
        "</p>"
      ]
    },
    {
      "cell_type": "markdown",
      "id": "b12ced9a-2acf-42f1-82f3-79b4135a2aad",
      "metadata": {},
      "source": [
        "Superior lettering refers to letters written in superscript, usually to indicate abbreviations. The letters g and r are wrapped inside superscript tags to illustrate the abbreviation in this example.\n",
        "$$ M^{gr} $$\n",
        "\n",
        "It is important to note that the superscript element should only be used for typographical reasons. If you want style a piece of text with a raised baseline, then you should use CSS instead of the superscript element.\n",
        "\n",
        "To represent chemical equations inside HTML, you would use the subscript element. This element uses a subscript which displays a lowered baseline using smaller text.\n",
        "\n",
        "Here is an example of using the subscript element to show the chemical representation for carbon dioxide."
      ]
    },
    {
      "cell_type": "code",
      "execution_count": null,
      "id": "deacbd50-60c3-4edd-b509-047882935b94",
      "metadata": {
        "trusted": true,
        "vscode": {
          "languageId": "html"
        }
      },
      "outputs": [],
      "source": [
        "<p>CO<sub>2</sub></p>"
      ]
    },
    {
      "cell_type": "markdown",
      "id": "8bd55edf-6fb9-4dfc-b35d-3cd7bb154e73",
      "metadata": {},
      "source": [
        "The number two is wrapped inside <code>sub</code> tags to illustrate that the character should be a subscript.\n",
        "$$ CO_{2} $$ \n",
        "\n",
        "Common uses cases for the subscript element include chemical formulas, foot notes, and variable subscripts."
      ]
    },
    {
      "cell_type": "markdown",
      "id": "35d2d65a-7b03-444e-918a-894737c5621d",
      "metadata": {
        "jp-MarkdownHeadingCollapsed": true
      },
      "source": [
        "# 12. How do you represent computer code in HTML?"
      ]
    },
    {
      "cell_type": "markdown",
      "id": "fbd3dc24-3c05-4647-8b1a-971435fa6677",
      "metadata": {},
      "source": [
        "The inline code element is used to represent short snippets of code inside text. Common use cases for the code element would be for technical articles and documentation pages.\n",
        "\n",
        "Here is an example of using the <code>code</code> element to show a CSS code snippet:"
      ]
    },
    {
      "cell_type": "code",
      "execution_count": null,
      "id": "4161f4fe-f7d1-4d64-bf46-d3cdd16fcdb6",
      "metadata": {
        "trusted": true,
        "vscode": {
          "languageId": "html"
        }
      },
      "outputs": [],
      "source": [
        "<p>\n",
        "  To set the text color to blue in CSS, use the following code:\n",
        "  <code>color: blue;</code>\n",
        "</p>"
      ]
    },
    {
      "cell_type": "markdown",
      "id": "09b89289-5854-4aeb-b3c3-65f3db2f52dc",
      "metadata": {},
      "source": [
        "In this example, the CSS <code>color</code> property is used to set the text color to <code>blue</code>. By wrapping this code snippet inside <code>&lt;code&gt;</code> tags, it communicates to the browser that the text is a piece of inline code.\n",
        "\n",
        "The browser will apply default styles for content inside of the <code>code</code> element. The default styling is a monospaced font.\n",
        "\n",
        "The <code>code</code> element is meant to represent a single line of code. If you want to represent multiple lines of code, you will need to place a <code>code</code> element inside a preformatted text element.\n",
        "\n",
        "The preformatted text element is used to represent preformatted text. Here is an example of using the preformatted text element to show a CSS declaration:"
      ]
    },
    {
      "cell_type": "code",
      "execution_count": null,
      "id": "a05da9d9-3fb5-4a35-8e94-4d594d9b49a9",
      "metadata": {
        "trusted": true,
        "vscode": {
          "languageId": "html"
        }
      },
      "outputs": [],
      "source": [
        "<pre>\n",
        "  <code>\n",
        "    body {\n",
        "      color: red;\n",
        "    }\n",
        "  </code>\n",
        "</pre>"
      ]
    },
    {
      "cell_type": "markdown",
      "id": "6f455dd9-04eb-4881-9f29-18e72a80501e",
      "metadata": {},
      "source": [
        "When using the <code>pre</code> element, you will need to be mindful of spacing because it will display exactly as written inside the HTML document.\n",
        "\n",
        "In the browser, you will see that the code is indented several spaces to the right. If you were to change the indentation in the code example, then you will see a difference in indentation on the screen.\n",
        "\n",
        "When it comes to including code examples inside your HTML document, you should use the <code>code</code> element for short inline examples.\n",
        "\n",
        "If you need to display longer code snippets, then you will need to use the <code>pre</code> and <code>code</code> elements."
      ]
    },
    {
      "cell_type": "markdown",
      "id": "1ea62813-ac10-4722-b9ac-2d9c28441fb3",
      "metadata": {
        "jp-MarkdownHeadingCollapsed": true
      },
      "source": [
        "# 13.  What are the <code>u</code>, <code>s</code>, and <code>ruby</code> elements used for?"
      ]
    },
    {
      "cell_type": "markdown",
      "id": "47135425-3528-45c2-bcc7-5397282a99ba",
      "metadata": {},
      "source": [
        "The unarticulated annotation element, or <code>u</code> element for short, is used to represent inline text that has non-textual annotation applied.\n",
        "\n",
        "Here is an example of using the <code>u</code> element to highlight various spelling errors:"
      ]
    },
    {
      "cell_type": "code",
      "execution_count": null,
      "id": "49692b32-23ac-4d9a-af4c-4e4ffa0e7c87",
      "metadata": {
        "trusted": true,
        "vscode": {
          "languageId": "html"
        }
      },
      "outputs": [],
      "source": [
        "<p>\n",
        "  You can use the unarticulated annotation element to highlight\n",
        "  <u>inccccort</u> <u>spling</u> <u>issses</u>.\n",
        "</p>"
      ]
    },
    {
      "cell_type": "markdown",
      "id": "dbafd273-ef62-48b9-8aef-02a74246fd0e",
      "metadata": {},
      "source": [
        "In the example, the words <code>incorrect</code>, <code>spelling</code>, and <code>issues</code> are misspelled. The default styling for the <code>u</code> element is a black underline underneath the text.\n",
        "\n",
        "In HTML4, the <code>u</code> element was used for styling purposes. But in HTML5, the <code>u</code> element should only be used to indicate that text has non-textual annotation applied.\n",
        "\n",
        "<b>If you want to style a piece of text with a underline, then you should use CSS instead of HTML.</b>\n",
        "\n",
        "The strikethrough element, or <code>s</code> element for short, should be used to represent when text is no longer accurate or relevant. Here is an example of using the <code>s</code> element to show the cancellation of an activity:"
      ]
    },
    {
      "cell_type": "code",
      "execution_count": null,
      "id": "b1cb6e70-7277-45b7-9138-83ade63f07b0",
      "metadata": {
        "trusted": true,
        "vscode": {
          "languageId": "html"
        }
      },
      "outputs": [],
      "source": [
        "<p><s>Tomorrow's hike will be meeting at noon.</s></p>\n",
        "\n",
        "<p>Due to unforeseen weather conditions, the hike has been cancelled.</p>"
      ]
    },
    {
      "cell_type": "markdown",
      "id": "6163619b-3a13-429f-a4f8-0fa34af2da35",
      "metadata": {},
      "source": [
        "In this example, the first sentence is crossed out because the hike was cancelled due to weather reasons.\n",
        "\n",
        "The <code>s</code> element should never be used to just to show changes to a document. More appropriate elements in that case would be the deleted text element and the inserted text element.\n",
        "\n",
        "The <code>ruby</code> element represents small text shown above or below the main text. It is typically used to show the pronunciation of East Asian characters. Here is the <code>ruby</code> element example from the MDN web docs page:"
      ]
    },
    {
      "cell_type": "code",
      "execution_count": null,
      "id": "fcf28094-1846-4068-b054-88345c4e69bf",
      "metadata": {
        "trusted": true,
        "vscode": {
          "languageId": "html"
        }
      },
      "outputs": [],
      "source": [
        "<ruby> 明日 <rp>(</rp><rt>Ashita</rt><rp>)</rp> </ruby>"
      ]
    },
    {
      "cell_type": "markdown",
      "id": "f1984f0c-4bbd-4b5e-bff9-20dbb6662d35",
      "metadata": {},
      "source": [
        "The <code>rp</code> element, or ruby fallback parenthesis element, is used as a fallback for browsers lacking support for displaying ruby annotations.\n",
        "\n",
        "The <code>rt</code> element, or ruby text element, is used to indicate text for the ruby annotation. This text is usually used for pronunciation, or translation details in East Asian typography.\n",
        "\n",
        "While the <code>ruby</code> element can be used for other types of annotations, the most common use case is for East Asian typography."
      ]
    },
    {
      "cell_type": "markdown",
      "id": "c666b3b6-7534-4a96-a521-80f24abf37c1",
      "metadata": {
        "jp-MarkdownHeadingCollapsed": true
      },
      "source": [
        "# 14. Example: Build a cat blog page"
      ]
    },
    {
      "cell_type": "code",
      "execution_count": null,
      "id": "ca22949b-f078-4a36-b5f4-e5f153f6a3d7",
      "metadata": {
        "trusted": true,
        "vscode": {
          "languageId": "html"
        }
      },
      "outputs": [],
      "source": [
        "<!DOCTYPE html>\n",
        "<html lang=\"en\">\n",
        "\n",
        "<head>\n",
        "    <title>Mr. Whiskers' Blog</title>\n",
        "    <meta charset=\"UTF-8\" />\n",
        "</head>\n",
        "\n",
        "<body>\n",
        "    <header>\n",
        "        <h1>Welcome to Mr. Whiskers' Blog Page!</h1>\n",
        "        <figure>\n",
        "            <img src=\"https://cdn.freecodecamp.org/curriculum/css-photo-gallery/1.jpg\" \n",
        "                alt=\"a cat peacefully sleeping\" \n",
        "            />\n",
        "            <figcaption>Mr. Whiskers Sleeping</figcaption>\n",
        "        </figure>\n",
        "        <nav>\n",
        "            <ul>\n",
        "                <li><a href=\"#about\">About</a></li>\n",
        "                <li><a href=\"#posts\">Posts</a></li>\n",
        "                <li><a href=\"#contact\">Contact</a></li>\n",
        "            </ul>\n",
        "        </nav>\n",
        "    </header>\n",
        "    <main>\n",
        "        <section id=\"about\">\n",
        "            <h2>About</h2>\n",
        "            <p>\n",
        "                Hi there! I'm Jane Doe, a passionate writer who finds endless inspiration \n",
        "                in the antics of my beloved cat, Mr. Whiskers.\n",
        "            </p>\n",
        "            <p>\n",
        "                His playful nature and boundless energy keeps me on my toes. I love him so much.\n",
        "            </p>\n",
        "        </section>\n",
        "        <section id=\"posts\">\n",
        "            <h2>Posts</h2>\n",
        "\n",
        "            <article>\n",
        "                <h3>Mr. Whiskers' First Day Home</h3>\n",
        "                <p>\n",
        "                    Lorem ipsum dolor sit amet consectetur adipisicing elit. Quisquam\n",
        "                    quod, voluptates, quae, quos quibusdam dolorum quia nemo repudiandae\n",
        "                    quidem voluptatum quas. Quisquam quod, voluptates, quae, quos\n",
        "                    quibusdam dolorum quia nemo repudiandae quidem voluptatum quas.\n",
        "                </p>\n",
        "                <p>\n",
        "                    Lorem ipsum dolor sit amet consectetur adipisicing elit. Quisquam\n",
        "                    quod, voluptates, quae, quos quibusdam dolorum quia nemo repudiandae\n",
        "                    quidem voluptatum quas. Quisquam quod, voluptates, quae, quos\n",
        "                    quibusdam dolorum quia nemo repudiandae quidem voluptatum quas.\n",
        "                </p>\n",
        "            </article>\n",
        "            <article>\n",
        "                <h3>Mr. Whiskers' First Bath</h3>\n",
        "                <p>\n",
        "                    Lorem ipsum dolor sit amet consectetur adipisicing elit. Quisquam\n",
        "                    quod, voluptates, quae, quos quibusdam dolorum quia nemo repudiandae\n",
        "                    quidem voluptatum quas. Quisquam quod, voluptates, quae, quos\n",
        "                    quibusdam dolorum quia nemo repudiandae quidem voluptatum quas.\n",
        "                </p>\n",
        "                <p>\n",
        "                    Lorem ipsum dolor sit amet consectetur adipisicing elit. Quisquam\n",
        "                    quod, voluptates, quae, quos quibusdam dolorum quia nemo repudiandae\n",
        "                    quidem voluptatum quas. Quisquam quod, voluptates, quae, quos\n",
        "                    quibusdam dolorum quia nemo repudiandae quidem voluptatum quas.\n",
        "                </p>\n",
        "            </article>\n",
        "            <article>\n",
        "                <h3>Mr. Whiskers' First Birthday Party</h3>\n",
        "                <p>\n",
        "                    Lorem ipsum dolor sit amet consectetur adipisicing elit. Quisquam\n",
        "                    quod, voluptates, quae, quos quibusdam dolorum quia nemo repudiandae\n",
        "                    quidem voluptatum quas. Quisquam quod, voluptates, quae, quos\n",
        "                    quibusdam dolorum quia nemo repudiandae quidem voluptatum quas.\n",
        "                </p>\n",
        "                <p>\n",
        "                    Lorem ipsum dolor sit amet consectetur adipisicing elit. Quisquam\n",
        "                    quod, voluptates, quae, quos quibusdam dolorum quia nemo repudiandae\n",
        "                    quidem voluptatum quas. Quisquam quod, voluptates, quae, quos\n",
        "                    quibusdam dolorum quia nemo repudiandae quidem voluptatum quas.\n",
        "                </p>\n",
        "            </article>\n",
        "        </section>\n",
        "    </main>\n",
        "    <footer>\n",
        "        <section id=\"contact\">\n",
        "            <h2>Contact</h2>\n",
        "            <address>\n",
        "                <p>Phone: <a href=\"tel:5555555555\">555-555-5555</a></p>\n",
        "                <p>Email: <a href=\"mailto:fake@email.com\">fake@email.com</a></p>\n",
        "            </address>\n",
        "        </section>\n",
        "    </footer>\n",
        "</body>\n",
        "\n",
        "</html>"
      ]
    },
    {
      "cell_type": "markdown",
      "id": "a554b654-38d9-4ba0-a9c9-91331db40bc0",
      "metadata": {
        "jp-MarkdownHeadingCollapsed": true
      },
      "source": [
        "# 15. Example: Build an event hub"
      ]
    },
    {
      "cell_type": "code",
      "execution_count": null,
      "id": "56ca30c5-1274-44a2-bad2-ca6c95a8c52b",
      "metadata": {
        "trusted": true,
        "vscode": {
          "languageId": "html"
        }
      },
      "outputs": [],
      "source": [
        "<!DOCTYPE html>\n",
        "<html lang=\"en\">\n",
        "\n",
        "<head>\n",
        "    <meta charset=\"utf-8\">\n",
        "    <title>Event Hub</title>\n",
        "</head>\n",
        "\n",
        "<body>\n",
        "    <header>\n",
        "        <h1>Event Hub</h1>\n",
        "        <nav>\n",
        "            <ul>\n",
        "                <li><a href=\"#upcoming-events\">Upcoming Events</a></li>\n",
        "                <li><a href=\"#past-events\">Past Events</a></li>\n",
        "            </ul>\n",
        "        </nav>\n",
        "    </header>\n",
        "\n",
        "    <main>\n",
        "        <section id=\"upcoming-events\">\n",
        "            <h2>Upcoming Events</h2>\n",
        "\n",
        "            <article>\n",
        "                <h3>AI & Machine Learning Conference 2024</h3>\n",
        "                <p>\n",
        "                    Join us for a deep dive into the latest advancements in artificial \n",
        "                    intelligence and machine learning. Industry leaders will share \n",
        "                    insights and case studies on how AI is transforming various sectors.\n",
        "                </p>\n",
        "                <date datetime=\"2024-08-10T15:00\">Date: August 10, 2024</date>\n",
        "            </article>\n",
        "\n",
        "            <article>\n",
        "                <h3>Web Development Bootcamp</h3>\n",
        "                <p>\n",
        "                    A hands-on workshop designed for developers looking to enhance their \n",
        "                    skills in modern web technologies including React, Node.js, and GraphQL. \n",
        "                    Perfect for both beginners and experienced developers.\n",
        "                </p>\n",
        "                <date datetime=\"2024-09-05T15:00\">Date: September 5, 2024</date>\n",
        "            </article>\n",
        "        </section>\n",
        "        <section id=\"past-events\">\n",
        "            <h2>Past Events</h2>\n",
        "\n",
        "            <article>\n",
        "                <h3>Cybersecurity Summit 2024</h3>\n",
        "                <p>\n",
        "                    An event focusing on the latest trends and threats in cybersecurity. \n",
        "                    Experts discussed strategies for protecting data and ensuring privacy \n",
        "                    in an increasingly digital world.\n",
        "                </p>\n",
        "                <date datetime=\"2024-06-15T15:00\">Date: June 15, 2024</date>\n",
        "                <img src=\"https://cdn.freecodecamp.org/curriculum/labs/past-event1.jpg\" alt=\"ordenador viejo\">\n",
        "            </article>\n",
        "\n",
        "            <article>\n",
        "                <h3>Blockchain Expo 2024</h3>\n",
        "                <p>\n",
        "                    A comprehensive event covering the future of blockchain technology. \n",
        "                    Topics included decentralized finance (DeFi), smart contracts, and \n",
        "                    the impact of blockchain on various industries.\n",
        "                </p>\n",
        "                <date datetime=\"2024-07-20T15:00\">Date: July 20, 2024</date>\n",
        "                <img src=\"https://cdn.freecodecamp.org/curriculum/labs/past-event2.jpg\" alt=\"red neuronal\">\n",
        "            </article>\n",
        "        </section>\n",
        "    </main>\n",
        "</body>\n",
        "\n",
        "</html>"
      ]
    }
  ],
  "metadata": {
    "kernelspec": {
      "display_name": "Python (Pyodide)",
      "language": "python",
      "name": "python"
    },
    "language_info": {
      "name": ""
    }
  },
  "nbformat": 4,
  "nbformat_minor": 5
}
